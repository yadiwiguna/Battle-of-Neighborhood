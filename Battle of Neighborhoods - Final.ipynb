{
 "cells": [
  {
   "cell_type": "markdown",
   "metadata": {
    "collapsed": true
   },
   "source": [
    "# Battle of Neighbourhoods - Final"
   ]
  },
  {
   "cell_type": "markdown",
   "metadata": {},
   "source": [
    "This notebook consist of six parts.This notebook is continued version of \"The Battle of Neighborhoods (Week 1)\"\n",
    "    \n",
    "   **1 Introduction/Business Problem**\n",
    "   \n",
    "       1.a Discussion of the business problem and the audience who would be interested in this project.\n",
    "   \n",
    "   **2 Data Section**\n",
    "       \n",
    "       2.a What data is used?\n",
    "       2.b Importing Libraries\n",
    "       2.c Credentials and Core location\n",
    "       2.d Search for hotel & restaurant within 1 KM\n",
    "       2.e Location of Hotels\n",
    "   \n",
    "   **3 Methodology Section**\n",
    "   \n",
    "       3.a Removing Outlier - Hotel Bharani\n",
    "       3.b How Far are hotels from the core location\n",
    "       3.c Explore for other venues around Kanyakumari\n",
    "       3.d Extract Venues using Search Queries\n",
    "       3.e Location of all venues\n",
    "       3.f How far are venues from the core location?\n",
    "       3.g Venue Categories\n",
    "       3.h Rating of all Venues\n",
    "       3.i Number of Tips for all Venues\n",
    "       3.j Extracting Rated and Tips Venues\n",
    "       3.k Final list of Venues\n",
    "       3.l Clustering based on venues\n",
    "       3.m Center of all clusters & Midpoint of all venues\n",
    "   \n",
    "   **4 Results Section**\n",
    "   \n",
    "       4.a My hotel location\n",
    "       4.b Top Rated Venues\n",
    "       4.c Spot my hotel against others\n",
    "       4.d Few more Stats\n",
    "   \n",
    "   **5 Discussion Section**\n",
    "   \n",
    "   **6 Conclusion Section** "
   ]
  },
  {
   "cell_type": "markdown",
   "metadata": {},
   "source": [
    "## 1. Introduction/Business Problem"
   ]
  },
  {
   "cell_type": "markdown",
   "metadata": {},
   "source": [
    "### Discussion of the business problem and the audience who would be interested in this project."
   ]
  },
  {
   "cell_type": "markdown",
   "metadata": {},
   "source": [
    "#### Something about the tourist place - KANYAKUMARI,INDIA "
   ]
  },
  {
   "cell_type": "markdown",
   "metadata": {},
   "source": [
    "I am from kanyakumari,a beautiful tourist spot in southern India.Kanyakumari is a coastal town in the state of Tamil Nadu on India's southern tip. Jutting into the Laccadive Sea, the town was known as Cape Comorin during British rule and is popular for watching sunrise and sunset over the ocean.Kanyakumari is also home to the Statue of the Saint Poet Thiruvalluvar, one of the greatest Tamil poets in India. Standing at a massive height of 133 feet, the statue is one of the biggest in the entire Asian subcontinent and is the result of the hard work of over 500 sculptors. Other historic sights that you can visit in Kanyakumari include the Padmanabhapuram Palace, the Vattakottai Fort, and the Gandhi Memorial."
   ]
  },
  {
   "cell_type": "markdown",
   "metadata": {},
   "source": [
    "#### Opening of Hotel/Restaurant Shop"
   ]
  },
  {
   "cell_type": "markdown",
   "metadata": {},
   "source": [
    "Coming down to business problem,I would like to open a **hotel/restaurant** near beach side.As it is a famous tourist spot,there is already lots of attention towards it.I know there will be many competitors in terms of hotel and restauramt.But keeping them in mind,i need to locate my hotel in place where more people are attracted and comfortable for a stay and a good meal.I want to bring foreign and local peoples attention towards my new hotel.I would like to flavour my retaurant recipe with Italian,American,typical south & north indian foods to grab their taste."
   ]
  },
  {
   "cell_type": "markdown",
   "metadata": {},
   "source": [
    "*The challenge is to find a **suitable location** for opening a new hotel / restaurant attracted to all local and foreign people in the centre of all famous venues.*"
   ]
  },
  {
   "cell_type": "markdown",
   "metadata": {},
   "source": [
    "#### Expected / Interested Audience"
   ]
  },
  {
   "cell_type": "markdown",
   "metadata": {},
   "source": [
    "85% local and 15% foreign peoples visit kanyakumari once in a year.Some people stay for couple of days or more.Also they find some place for hangout or a good meal.Their main focus might be belonging to stay somewhere near to reach venues.Apart from these set of people,students and working professionals are common audience here.So we may need to fascinate them all."
   ]
  },
  {
   "cell_type": "markdown",
   "metadata": {},
   "source": [
    "##  2.Data section"
   ]
  },
  {
   "cell_type": "markdown",
   "metadata": {},
   "source": [
    "### 2.a What data is used?"
   ]
  },
  {
   "cell_type": "markdown",
   "metadata": {},
   "source": [
    "We will be completely working on **Foursquare data** to explore and try to locate our new hotel where more venues like church, temples,  beach, museums, memorials that are present nearby.\n",
    "\n",
    "**How will we be solving using this data?**\n",
    "\n",
    "We will looking for midpoint area of venues to locate our new hotel.Before that our major focus will be on all venues present in and around the core place of kanyakumari."
   ]
  },
  {
   "cell_type": "markdown",
   "metadata": {},
   "source": [
    "Just a heads up on how many hotels are distributed now around kanyakumari.We will perform some EDA on hotels & restaurants present in the tourist spot.On furthur notebook we will use Foursquare data to determine other venues as well."
   ]
  },
  {
   "cell_type": "markdown",
   "metadata": {},
   "source": [
    "### 2.b Importing Libraries"
   ]
  },
  {
   "cell_type": "code",
   "execution_count": 3,
   "metadata": {},
   "outputs": [
    {
     "name": "stdout",
     "output_type": "stream",
     "text": [
      "*********   Loaded library     ***********\n"
     ]
    }
   ],
   "source": [
    "# Import libraries\n",
    "import numpy as np # data in a vectorized manner manipulation\n",
    "import pandas as pd # data analsysis\n",
    "import requests # HTTP library\n",
    "from bs4 import BeautifulSoup # scraping library\n",
    "\n",
    "from pandas.io.json import json_normalize # tranform JSON file into a pandas dataframe\n",
    "import json # JSON files manipulation\n",
    "\n",
    "from sklearn.cluster import KMeans # clustering algorithm\n",
    "\n",
    "pd.set_option('display.max_columns', None)\n",
    "pd.set_option('display.max_rows', None)\n",
    "\n",
    "# Matplotlib and associated plotting modules\n",
    "import matplotlib.cm as cm\n",
    "import matplotlib.colors as colors\n",
    "import matplotlib.pyplot as plt\n",
    "\n",
    "#!conda install -c conda-forge geopy --yes \n",
    "from geopy.geocoders import Nominatim\n",
    "\n",
    "#!conda install -c conda-forge folium=0.5.0 --yes\n",
    "import folium # map rendering library\n",
    "\n",
    "print(\"*********   Loaded library     ***********\")"
   ]
  },
  {
   "cell_type": "markdown",
   "metadata": {},
   "source": [
    "### 2.c Credentials and Core location"
   ]
  },
  {
   "cell_type": "code",
   "execution_count": 4,
   "metadata": {},
   "outputs": [
    {
     "name": "stdout",
     "output_type": "stream",
     "text": [
      "Kanyakumari location : 8.079252,77.5499338\n"
     ]
    }
   ],
   "source": [
    "CLIENT_ID = 'XXXX' # your Foursquare ID\n",
    "CLIENT_SECRET = 'XXXX' # your Foursquare Secret\n",
    "VERSION = '20191028'\n",
    "LIMIT = 150\n",
    "\n",
    "address = \"Kanyakumari, Tamil Nadu\"\n",
    "\n",
    "geolocator = Nominatim(user_agent=\"foursquare_agent\")\n",
    "location = geolocator.geocode(address)\n",
    "latitude =location.latitude   #8.079252 # location.latitude \n",
    "longitude =location.longitude #77.5499338 # location.longitude # \n",
    "\n",
    "kan='Kanyakumari location : {},{}'.format(latitude,longitude)\n",
    "print(kan)"
   ]
  },
  {
   "cell_type": "markdown",
   "metadata": {},
   "source": [
    "### 2.d Search for hotel & restaurant within 1 KM"
   ]
  },
  {
   "cell_type": "code",
   "execution_count": 5,
   "metadata": {},
   "outputs": [],
   "source": [
    "#Quering for hotel & restaurant\n",
    "\n",
    "search_query = 'hotel'\n",
    "search_query_res = 'restaurant'\n",
    "\n",
    "radius = 1000\n",
    "url_hotel = 'https://api.foursquare.com/v2/venues/search?client_id={}&client_secret={}&ll={},{}&v={}&query={}&radius={}&limit={}'.format(CLIENT_ID, CLIENT_SECRET, latitude, longitude, VERSION, search_query, radius, LIMIT)\n",
    "url_restaurant = 'https://api.foursquare.com/v2/venues/search?client_id={}&client_secret={}&ll={},{}&v={}&query={}&radius={}&limit={}'.format(CLIENT_ID, CLIENT_SECRET, latitude, longitude, VERSION, search_query_res, radius, LIMIT)\n",
    "#url"
   ]
  },
  {
   "cell_type": "markdown",
   "metadata": {},
   "source": [
    "#### Send the GET Request of hotel & restaurants and examine the results"
   ]
  },
  {
   "cell_type": "code",
   "execution_count": 6,
   "metadata": {},
   "outputs": [],
   "source": [
    "results_hotel = requests.get(url_hotel).json()\n",
    "results_restaurant = requests.get(url_restaurant).json()\n",
    "#results_hotel"
   ]
  },
  {
   "cell_type": "markdown",
   "metadata": {},
   "source": [
    "#### Get relevant part of JSON and transform it into a *pandas* dataframe"
   ]
  },
  {
   "cell_type": "code",
   "execution_count": 7,
   "metadata": {},
   "outputs": [
    {
     "name": "stdout",
     "output_type": "stream",
     "text": [
      "There are 37 restaurants and hotels at Kanyakumari\n"
     ]
    }
   ],
   "source": [
    "# assign relevant part of JSON to venues\n",
    "venues_hotel = results_hotel['response']['venues']\n",
    "venues_restaurant = results_restaurant['response']['venues']\n",
    "\n",
    "# tranform venues into a dataframe and merging both data\n",
    "dataframe_hotel = json_normalize(venues_hotel)\n",
    "dataframe_restaurant = json_normalize(venues_restaurant)\n",
    "\n",
    "dataframe = pd.concat([dataframe_hotel,dataframe_restaurant])\n",
    "\n",
    "print(\"There are {} restaurants and hotels at Kanyakumari\".format(dataframe.shape[0]))"
   ]
  },
  {
   "cell_type": "markdown",
   "metadata": {},
   "source": [
    "#### Define information of interest and filter dataframe"
   ]
  },
  {
   "cell_type": "code",
   "execution_count": 8,
   "metadata": {},
   "outputs": [
    {
     "data": {
      "text/html": [
       "<div>\n",
       "<style scoped>\n",
       "    .dataframe tbody tr th:only-of-type {\n",
       "        vertical-align: middle;\n",
       "    }\n",
       "\n",
       "    .dataframe tbody tr th {\n",
       "        vertical-align: top;\n",
       "    }\n",
       "\n",
       "    .dataframe thead th {\n",
       "        text-align: right;\n",
       "    }\n",
       "</style>\n",
       "<table border=\"1\" class=\"dataframe\">\n",
       "  <thead>\n",
       "    <tr style=\"text-align: right;\">\n",
       "      <th></th>\n",
       "      <th>name</th>\n",
       "      <th>categories</th>\n",
       "      <th>distance</th>\n",
       "      <th>lat</th>\n",
       "      <th>lng</th>\n",
       "      <th>id</th>\n",
       "    </tr>\n",
       "  </thead>\n",
       "  <tbody>\n",
       "    <tr>\n",
       "      <th>0</th>\n",
       "      <td>Hotel SeaView</td>\n",
       "      <td>Hotel</td>\n",
       "      <td>371</td>\n",
       "      <td>8.082333</td>\n",
       "      <td>77.551217</td>\n",
       "      <td>4cd42e2c558a370412d0c5a6</td>\n",
       "    </tr>\n",
       "    <tr>\n",
       "      <th>1</th>\n",
       "      <td>Hotel Sarvana</td>\n",
       "      <td>Hotel</td>\n",
       "      <td>179</td>\n",
       "      <td>8.080581</td>\n",
       "      <td>77.550861</td>\n",
       "      <td>4db052544df03036e8b9d615</td>\n",
       "    </tr>\n",
       "    <tr>\n",
       "      <th>2</th>\n",
       "      <td>Hotel Annapoorna</td>\n",
       "      <td>Indian Restaurant</td>\n",
       "      <td>206</td>\n",
       "      <td>8.080879</td>\n",
       "      <td>77.550835</td>\n",
       "      <td>50ed3a39e4b0ac50005eb3f1</td>\n",
       "    </tr>\n",
       "    <tr>\n",
       "      <th>3</th>\n",
       "      <td>Hotel Samudra</td>\n",
       "      <td>Motel</td>\n",
       "      <td>201</td>\n",
       "      <td>8.080642</td>\n",
       "      <td>77.551102</td>\n",
       "      <td>4d3c66e414aa8cfa4641a95e</td>\n",
       "    </tr>\n",
       "    <tr>\n",
       "      <th>4</th>\n",
       "      <td>Hotel Trisea</td>\n",
       "      <td>South Indian Restaurant</td>\n",
       "      <td>269</td>\n",
       "      <td>8.081475</td>\n",
       "      <td>77.548969</td>\n",
       "      <td>5030a43ee4b021f7a59c7456</td>\n",
       "    </tr>\n",
       "  </tbody>\n",
       "</table>\n",
       "</div>"
      ],
      "text/plain": [
       "               name               categories  distance       lat        lng  \\\n",
       "0     Hotel SeaView                    Hotel       371  8.082333  77.551217   \n",
       "1     Hotel Sarvana                    Hotel       179  8.080581  77.550861   \n",
       "2  Hotel Annapoorna        Indian Restaurant       206  8.080879  77.550835   \n",
       "3     Hotel Samudra                    Motel       201  8.080642  77.551102   \n",
       "4      Hotel Trisea  South Indian Restaurant       269  8.081475  77.548969   \n",
       "\n",
       "                         id  \n",
       "0  4cd42e2c558a370412d0c5a6  \n",
       "1  4db052544df03036e8b9d615  \n",
       "2  50ed3a39e4b0ac50005eb3f1  \n",
       "3  4d3c66e414aa8cfa4641a95e  \n",
       "4  5030a43ee4b021f7a59c7456  "
      ]
     },
     "execution_count": 8,
     "metadata": {},
     "output_type": "execute_result"
    }
   ],
   "source": [
    "# keep only columns that include venue name, and anything that is associated with location\n",
    "filtered_columns = ['name', 'categories'] + [col for col in dataframe.columns if col.startswith('location.')] + ['id']\n",
    "dataframe_filtered = dataframe.loc[:, filtered_columns]\n",
    "\n",
    "# function that extracts the category of the venue\n",
    "\n",
    "def get_category_type(row):\n",
    "    try:\n",
    "        categories_list = row['categories']\n",
    "    except:\n",
    "        categories_list = row['venue.categories']\n",
    "        \n",
    "    if len(categories_list) == 0:\n",
    "        return None\n",
    "    else:\n",
    "        return categories_list[0]['name']\n",
    "\n",
    "    \n",
    "# filter the category for each row\n",
    "dataframe_filtered['categories'] = dataframe_filtered.apply(get_category_type, axis=1)\n",
    "\n",
    "  \n",
    "# clean column names by keeping only last term\n",
    "dataframe_filtered.columns = [column.split('.')[-1] for column in dataframe_filtered.columns]\n",
    "\n",
    "#dataframe_filtered\n",
    "hotels_df=dataframe_filtered[['name','categories','distance','lat','lng','id']]\n",
    "hotels_df.head()"
   ]
  },
  {
   "cell_type": "markdown",
   "metadata": {},
   "source": [
    "### 2.e Location of Hotels"
   ]
  },
  {
   "cell_type": "code",
   "execution_count": 10,
   "metadata": {},
   "outputs": [
    {
     "data": {
      "text/html": [
       "<div style=\"width:100%;\"><div style=\"position:relative;width:100%;height:0;padding-bottom:60%;\"><iframe src=\"data:text/html;charset=utf-8;base64,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\" style=\"position:absolute;width:100%;height:100%;left:0;top:0;border:none !important;\" allowfullscreen webkitallowfullscreen mozallowfullscreen></iframe></div></div>"
      ],
      "text/plain": [
       "<folium.folium.Map at 0x7f4b5e7d7be0>"
      ]
     },
     "execution_count": 10,
     "metadata": {},
     "output_type": "execute_result"
    }
   ],
   "source": [
    "hotels_map = folium.Map(location=[latitude, longitude], zoom_start=16) # generate map centred around the Kanyakumari\n",
    "\n",
    "# add a red circle marker to represent the core location of kanyakumari\n",
    "folium.features.CircleMarker(\n",
    "    [latitude, longitude],\n",
    "    radius=10,\n",
    "    color='red',\n",
    "    popup='Kanyakumari',\n",
    "    fill = True,\n",
    "    fill_color = 'red',\n",
    "    fill_opacity = 0.6\n",
    ").add_to(hotels_map)\n",
    "\n",
    "# add the Italian restaurants as blue circle markers\n",
    "for lat, lng, label in zip(hotels_df.lat, hotels_df.lng, hotels_df.name):\n",
    "    folium.features.CircleMarker(\n",
    "        [lat, lng],\n",
    "        radius=5,\n",
    "        color='blue',\n",
    "        popup=label,\n",
    "        fill = True,\n",
    "        fill_color='blue',\n",
    "        fill_opacity=0.6\n",
    "    ).add_to(hotels_map)\n",
    "\n",
    "# display map\n",
    "hotels_map"
   ]
  },
  {
   "cell_type": "markdown",
   "metadata": {},
   "source": [
    "Hotel Bharani (8.076268,77.548670) seems to be outlier.So this will be removed in next section."
   ]
  },
  {
   "cell_type": "markdown",
   "metadata": {},
   "source": [
    "## 3.Methodology section"
   ]
  },
  {
   "cell_type": "markdown",
   "metadata": {},
   "source": [
    "In this sections we will perform some data analysis and EDA to find insight from data.We will try to understand the current stats of all given data.Probably,clustering or centroid of all venues will help us to locate new hotel."
   ]
  },
  {
   "cell_type": "markdown",
   "metadata": {},
   "source": [
    "###  3.a Removing Outlier - Hotel Bharani"
   ]
  },
  {
   "cell_type": "code",
   "execution_count": 11,
   "metadata": {},
   "outputs": [
    {
     "name": "stdout",
     "output_type": "stream",
     "text": [
      "So Now there are 36 hotels & restaurants present in kanyakumari\n"
     ]
    }
   ],
   "source": [
    "dataframe_filtered=dataframe_filtered.drop(dataframe_filtered[dataframe_filtered.name =='Hotel Bharani'].index)\n",
    "hotels_df=dataframe_filtered\n",
    "print(\"So Now there are {} hotels & restaurants present in kanyakumari\".format(dataframe_filtered.shape[0]))"
   ]
  },
  {
   "cell_type": "markdown",
   "metadata": {},
   "source": [
    "### 3.b How Far are hotels from the core location"
   ]
  },
  {
   "cell_type": "code",
   "execution_count": 13,
   "metadata": {},
   "outputs": [
    {
     "data": {
      "image/png": "[encoded data removed]",
      "text/plain": [
       "<Figure size 432x288 with 1 Axes>"
      ]
     },
     "metadata": {
      "needs_background": "light"
     },
     "output_type": "display_data"
    },
    {
     "name": "stdout",
     "output_type": "stream",
     "text": [
      "Average distance between hotels and core location is 454 metres\n"
     ]
    }
   ],
   "source": [
    "distance_hotel_df=dataframe_filtered[['name','categories','distance','lat','lng']].sort_values('distance')\n",
    "\n",
    "def plot_bar_x():\n",
    "    # this is for plotting purpose\n",
    "    index = np.arange(len(distance_hotel_df.name))\n",
    "    plt.bar(distance_hotel_df.name, distance_hotel_df.distance)\n",
    "    plt.xlabel('Hotels')\n",
    "    plt.ylabel('Distance from location (Metres)')\n",
    "    plt.xticks(distance_hotel_df.name,rotation=90)\n",
    "    plt.title('Hotels Vs Distance')\n",
    "    plt.show()\n",
    "plot_bar_x()\n",
    "\n",
    "print(\"Average distance between hotels and core location is {} metres\".format(int(sum(hotels_df['distance'])/hotels_df.shape[0])))"
   ]
  },
  {
   "cell_type": "markdown",
   "metadata": {},
   "source": [
    "**Few Take Aways**\n",
    "\n",
    "* Singar hotel is far than rest of hotels.\n",
    "    \n",
    "* Tri Star remains close to the core spot.\n",
    "    \n",
    "* 454 metres is average distance from all hotels to core location.\n",
    "    "
   ]
  },
  {
   "cell_type": "markdown",
   "metadata": {},
   "source": [
    "### 3.c Explore for other venues around Kanyakumari"
   ]
  },
  {
   "cell_type": "markdown",
   "metadata": {},
   "source": [
    "A tourist person always wants to visit nearby iconic places.So he wants to reside somewhere nearby to all major venues.We will be exploring more venues around the core location.We will be digging more on main areas or place around 1 km."
   ]
  },
  {
   "cell_type": "code",
   "execution_count": 14,
   "metadata": {},
   "outputs": [],
   "source": [
    "radius=1000\n",
    "url_venues = 'https://api.foursquare.com/v2/venues/explore?client_id={}&client_secret={}&ll={},{}&v={}&radius={}&limit={}'.format(CLIENT_ID, CLIENT_SECRET, latitude, longitude, VERSION, radius, LIMIT)\n",
    "#url_venues"
   ]
  },
  {
   "cell_type": "code",
   "execution_count": 15,
   "metadata": {},
   "outputs": [
    {
     "data": {
      "text/plain": [
       "'There are 16 venues around kanyakumari.'"
      ]
     },
     "execution_count": 15,
     "metadata": {},
     "output_type": "execute_result"
    }
   ],
   "source": [
    "import requests\n",
    "\n",
    "results_venues = requests.get(url_venues).json()\n",
    "'There are {} venues around kanyakumari.'.format(len(results_venues['response']['groups'][0]['items']))"
   ]
  },
  {
   "cell_type": "markdown",
   "metadata": {},
   "source": [
    "Get relevant part of JSON and transform it into a pandas dataframe"
   ]
  },
  {
   "cell_type": "code",
   "execution_count": 16,
   "metadata": {},
   "outputs": [],
   "source": [
    "items_venues = results_venues['response']['groups'][0]['items']\n",
    "#items_venues[0]"
   ]
  },
  {
   "cell_type": "code",
   "execution_count": 17,
   "metadata": {},
   "outputs": [
    {
     "data": {
      "text/plain": [
       "0                 Sunrise Point\n",
       "1     Vivekananda Rock Memorial\n",
       "2               End of the Land\n",
       "3             Kanyakumari Beach\n",
       "4                Triveni Sangam\n",
       "5        Sparsa Resorts and Spa\n",
       "6                 Hotel SeaView\n",
       "7             Sangam Restautant\n",
       "8          Thiruvalluvar Statue\n",
       "9                 Hotel Sarvana\n",
       "10                   Ferry Boat\n",
       "11              Gandhi Memorial\n",
       "12       Kanyakumari Lighthouse\n",
       "13           The Seashore Hotel\n",
       "14       Thiruvalluvar Mandapam\n",
       "15     Kanyakumari Bus Stantion\n",
       "Name: name, dtype: object"
      ]
     },
     "execution_count": 17,
     "metadata": {},
     "output_type": "execute_result"
    }
   ],
   "source": [
    "dataframe_venues = json_normalize(items_venues) # flatten JSON\n",
    "\n",
    "# filter columns\n",
    "filtered_columns = ['venue.name', 'venue.categories'] + [col for col in dataframe_venues.columns if col.startswith('venue.location.')] + ['venue.id']\n",
    "dataframe_filtered_venues = dataframe_venues.loc[:, filtered_columns]\n",
    "\n",
    "# filter the category for each row\n",
    "dataframe_filtered_venues['venue.categories'] = dataframe_filtered_venues.apply(get_category_type, axis=1)\n",
    "\n",
    "# clean columns\n",
    "dataframe_filtered_venues.columns = [col.split('.')[-1] for col in dataframe_filtered_venues.columns]\n",
    "\n",
    "dataframe_filtered_venues.name"
   ]
  },
  {
   "cell_type": "markdown",
   "metadata": {},
   "source": [
    "### 3.d Extract Venues using Search Queries"
   ]
  },
  {
   "cell_type": "markdown",
   "metadata": {},
   "source": [
    "When I searched in google map,I could see there were some venues missing.Temples,Church,Parks and Museums are also more recognized by visitors and local audience.So lets bring their data inside.I am not sure why Foursquare hasnt captured it while trying venue query.\n",
    "\n",
    "Below is the function to extract many queries at a time by passing them in a single list."
   ]
  },
  {
   "cell_type": "code",
   "execution_count": 18,
   "metadata": {},
   "outputs": [
    {
     "data": {
      "text/html": [
       "<div>\n",
       "<style scoped>\n",
       "    .dataframe tbody tr th:only-of-type {\n",
       "        vertical-align: middle;\n",
       "    }\n",
       "\n",
       "    .dataframe tbody tr th {\n",
       "        vertical-align: top;\n",
       "    }\n",
       "\n",
       "    .dataframe thead th {\n",
       "        text-align: right;\n",
       "    }\n",
       "</style>\n",
       "<table border=\"1\" class=\"dataframe\">\n",
       "  <thead>\n",
       "    <tr style=\"text-align: right;\">\n",
       "      <th></th>\n",
       "      <th>name</th>\n",
       "      <th>categories</th>\n",
       "      <th>distance</th>\n",
       "      <th>lat</th>\n",
       "      <th>lng</th>\n",
       "      <th>id</th>\n",
       "    </tr>\n",
       "  </thead>\n",
       "  <tbody>\n",
       "    <tr>\n",
       "      <th>0</th>\n",
       "      <td>Bhagwati Aman Temple</td>\n",
       "      <td>Temple</td>\n",
       "      <td>127</td>\n",
       "      <td>8.079735</td>\n",
       "      <td>77.550979</td>\n",
       "      <td>4c7110d8d7fab1f7733e60c9</td>\n",
       "    </tr>\n",
       "    <tr>\n",
       "      <th>1</th>\n",
       "      <td>Kanyakumari Temple</td>\n",
       "      <td>Temple</td>\n",
       "      <td>209</td>\n",
       "      <td>8.080701</td>\n",
       "      <td>77.551147</td>\n",
       "      <td>5135e0ace4b05b6ad7b6e450</td>\n",
       "    </tr>\n",
       "    <tr>\n",
       "      <th>2</th>\n",
       "      <td>hotel Temple Citi</td>\n",
       "      <td>Hotel</td>\n",
       "      <td>448</td>\n",
       "      <td>8.083273</td>\n",
       "      <td>77.549709</td>\n",
       "      <td>58b591732520ae2198572be8</td>\n",
       "    </tr>\n",
       "    <tr>\n",
       "      <th>3</th>\n",
       "      <td>Guganateeswara Temple</td>\n",
       "      <td>Temple</td>\n",
       "      <td>891</td>\n",
       "      <td>8.087151</td>\n",
       "      <td>77.548584</td>\n",
       "      <td>59361f0fd48ec1757c7d4ca4</td>\n",
       "    </tr>\n",
       "    <tr>\n",
       "      <th>0</th>\n",
       "      <td>St.Anthony's Church</td>\n",
       "      <td>Church</td>\n",
       "      <td>435</td>\n",
       "      <td>8.082916</td>\n",
       "      <td>77.551320</td>\n",
       "      <td>4db2dc880437fa536a056d3e</td>\n",
       "    </tr>\n",
       "    <tr>\n",
       "      <th>1</th>\n",
       "      <td>Our Lady Of Ransom Church</td>\n",
       "      <td>Church</td>\n",
       "      <td>680</td>\n",
       "      <td>8.085158</td>\n",
       "      <td>77.551544</td>\n",
       "      <td>4edb6b300e011b46ef9c3af5</td>\n",
       "    </tr>\n",
       "    <tr>\n",
       "      <th>0</th>\n",
       "      <td>Triangle Park</td>\n",
       "      <td>Park</td>\n",
       "      <td>8</td>\n",
       "      <td>8.079332</td>\n",
       "      <td>77.549930</td>\n",
       "      <td>5a17c667f96b2c105e79a65e</td>\n",
       "    </tr>\n",
       "    <tr>\n",
       "      <th>1</th>\n",
       "      <td>Hotel Melody Park</td>\n",
       "      <td>Hotel</td>\n",
       "      <td>482</td>\n",
       "      <td>8.083571</td>\n",
       "      <td>77.549568</td>\n",
       "      <td>52fbace0498e429e952167c7</td>\n",
       "    </tr>\n",
       "  </tbody>\n",
       "</table>\n",
       "</div>"
      ],
      "text/plain": [
       "                        name categories  distance       lat        lng  \\\n",
       "0       Bhagwati Aman Temple     Temple       127  8.079735  77.550979   \n",
       "1         Kanyakumari Temple     Temple       209  8.080701  77.551147   \n",
       "2          hotel Temple Citi      Hotel       448  8.083273  77.549709   \n",
       "3      Guganateeswara Temple     Temple       891  8.087151  77.548584   \n",
       "0        St.Anthony's Church     Church       435  8.082916  77.551320   \n",
       "1  Our Lady Of Ransom Church     Church       680  8.085158  77.551544   \n",
       "0              Triangle Park       Park         8  8.079332  77.549930   \n",
       "1          Hotel Melody Park      Hotel       482  8.083571  77.549568   \n",
       "\n",
       "                         id  \n",
       "0  4c7110d8d7fab1f7733e60c9  \n",
       "1  5135e0ace4b05b6ad7b6e450  \n",
       "2  58b591732520ae2198572be8  \n",
       "3  59361f0fd48ec1757c7d4ca4  \n",
       "0  4db2dc880437fa536a056d3e  \n",
       "1  4edb6b300e011b46ef9c3af5  \n",
       "0  5a17c667f96b2c105e79a65e  \n",
       "1  52fbace0498e429e952167c7  "
      ]
     },
     "execution_count": 18,
     "metadata": {},
     "output_type": "execute_result"
    }
   ],
   "source": [
    "# search query function\n",
    "search_query_list = ['temple','church','park','museum'] \n",
    "radius =1000\n",
    "temp_df=[]\n",
    "search_df=[]\n",
    "\n",
    "def search_query_fn():   \n",
    "    #Loop to run through urls and from json to pandas\n",
    "    for i in range(len(search_query_list)):\n",
    "        url= 'https://api.foursquare.com/v2/venues/search?client_id={}&client_secret={}&ll={},{}&v={}&query={}&radius={}&limit={}'.format(CLIENT_ID, CLIENT_SECRET, latitude, longitude, VERSION, search_query_list[i], radius, LIMIT)\n",
    "        \n",
    "        results=requests.get(url).json()\n",
    "        venues = results['response']['venues']\n",
    "        \n",
    "        #Normalize from json\n",
    "        dataframe = json_normalize(venues)\n",
    "        \n",
    "        #Removing unwanted column headers\n",
    "        dataframe.columns = [col.split('.')[-1] for col in dataframe.columns]\n",
    "        temp_df.append(dataframe)\n",
    "    \n",
    "    #Loop to append dataframes to single dataframe\n",
    "    for j in range(len(search_query_list)):\n",
    "        data=temp_df[j]\n",
    "        search_df.append(data)\n",
    "\n",
    "# Function to run loop over queries\n",
    "search_query_fn()\n",
    "\n",
    "search_df = pd.concat(search_df,sort=True)\n",
    "search_df['categories'] = search_df.apply(get_category_type, axis=1)\n",
    "search_df = pd.DataFrame(search_df[['name','categories','distance','lat','lng','id']])\n",
    "search_df"
   ]
  },
  {
   "cell_type": "markdown",
   "metadata": {},
   "source": [
    "#### We will collate venues provided by foursquare and the ones extracted through hitting search query API"
   ]
  },
  {
   "cell_type": "code",
   "execution_count": 19,
   "metadata": {},
   "outputs": [],
   "source": [
    "# Data extracted from foursquare venues\n",
    "four_sq_venue=pd.DataFrame(dataframe_filtered_venues[['name','categories','distance','lat','lng','id']])\n",
    "\n",
    "# Data extracted from search queries\n",
    "new_venues=pd.DataFrame(search_df)\n",
    "\n",
    "# Concatenate both dataframe\n",
    "df_venue=pd.concat([four_sq_venue, new_venues],sort=True)"
   ]
  },
  {
   "cell_type": "markdown",
   "metadata": {},
   "source": [
    "#### Let us remove hotel & restaurants and get final list of venues."
   ]
  },
  {
   "cell_type": "markdown",
   "metadata": {},
   "source": [
    " We could see that there are some hotels/restaurants in the venues list.So we will remove them from the list.We have them in separate dataframe (*hotels_df*)."
   ]
  },
  {
   "cell_type": "code",
   "execution_count": 20,
   "metadata": {},
   "outputs": [
    {
     "name": "stdout",
     "output_type": "stream",
     "text": [
      "There are 17 venues in kanyakumari\n"
     ]
    },
    {
     "data": {
      "text/html": [
       "<div>\n",
       "<style scoped>\n",
       "    .dataframe tbody tr th:only-of-type {\n",
       "        vertical-align: middle;\n",
       "    }\n",
       "\n",
       "    .dataframe tbody tr th {\n",
       "        vertical-align: top;\n",
       "    }\n",
       "\n",
       "    .dataframe thead th {\n",
       "        text-align: right;\n",
       "    }\n",
       "</style>\n",
       "<table border=\"1\" class=\"dataframe\">\n",
       "  <thead>\n",
       "    <tr style=\"text-align: right;\">\n",
       "      <th></th>\n",
       "      <th>name</th>\n",
       "      <th>distance</th>\n",
       "      <th>id</th>\n",
       "    </tr>\n",
       "  </thead>\n",
       "  <tbody>\n",
       "    <tr>\n",
       "      <th>0</th>\n",
       "      <td>Sunrise Point</td>\n",
       "      <td>135</td>\n",
       "      <td>4f21fd64e4b0717a65eeddc3</td>\n",
       "    </tr>\n",
       "    <tr>\n",
       "      <th>1</th>\n",
       "      <td>Vivekananda Rock Memorial</td>\n",
       "      <td>312</td>\n",
       "      <td>4b9cbc7ef964a520e37836e3</td>\n",
       "    </tr>\n",
       "    <tr>\n",
       "      <th>2</th>\n",
       "      <td>End of the Land</td>\n",
       "      <td>148</td>\n",
       "      <td>4f22babfe4b0ed339695e61e</td>\n",
       "    </tr>\n",
       "    <tr>\n",
       "      <th>3</th>\n",
       "      <td>Kanyakumari Beach</td>\n",
       "      <td>10</td>\n",
       "      <td>4e8d9f944fc653e47d1afef1</td>\n",
       "    </tr>\n",
       "    <tr>\n",
       "      <th>4</th>\n",
       "      <td>Triveni Sangam</td>\n",
       "      <td>277</td>\n",
       "      <td>4eb57ae40cd688257829927c</td>\n",
       "    </tr>\n",
       "    <tr>\n",
       "      <th>5</th>\n",
       "      <td>Thiruvalluvar Statue</td>\n",
       "      <td>147</td>\n",
       "      <td>4ed9ed9530f83fb79c10cd14</td>\n",
       "    </tr>\n",
       "    <tr>\n",
       "      <th>6</th>\n",
       "      <td>Ferry Boat</td>\n",
       "      <td>259</td>\n",
       "      <td>4c71df7857b6a1436f4ec4cc</td>\n",
       "    </tr>\n",
       "    <tr>\n",
       "      <th>7</th>\n",
       "      <td>Gandhi Memorial</td>\n",
       "      <td>26</td>\n",
       "      <td>4e8d8fc94fc653e47d19524a</td>\n",
       "    </tr>\n",
       "    <tr>\n",
       "      <th>8</th>\n",
       "      <td>Kanyakumari Lighthouse</td>\n",
       "      <td>417</td>\n",
       "      <td>4c711c4334443704e6f5255f</td>\n",
       "    </tr>\n",
       "    <tr>\n",
       "      <th>9</th>\n",
       "      <td>Thiruvalluvar Mandapam</td>\n",
       "      <td>466</td>\n",
       "      <td>4cc0142397bc721ec6178967</td>\n",
       "    </tr>\n",
       "    <tr>\n",
       "      <th>10</th>\n",
       "      <td>Kanyakumari Bus Stantion</td>\n",
       "      <td>465</td>\n",
       "      <td>4edc1b4846907c1b44ba0ed8</td>\n",
       "    </tr>\n",
       "    <tr>\n",
       "      <th>11</th>\n",
       "      <td>Bhagwati Aman Temple</td>\n",
       "      <td>127</td>\n",
       "      <td>4c7110d8d7fab1f7733e60c9</td>\n",
       "    </tr>\n",
       "    <tr>\n",
       "      <th>12</th>\n",
       "      <td>Kanyakumari Temple</td>\n",
       "      <td>209</td>\n",
       "      <td>5135e0ace4b05b6ad7b6e450</td>\n",
       "    </tr>\n",
       "    <tr>\n",
       "      <th>13</th>\n",
       "      <td>Guganateeswara Temple</td>\n",
       "      <td>891</td>\n",
       "      <td>59361f0fd48ec1757c7d4ca4</td>\n",
       "    </tr>\n",
       "    <tr>\n",
       "      <th>14</th>\n",
       "      <td>St.Anthony's Church</td>\n",
       "      <td>435</td>\n",
       "      <td>4db2dc880437fa536a056d3e</td>\n",
       "    </tr>\n",
       "    <tr>\n",
       "      <th>15</th>\n",
       "      <td>Our Lady Of Ransom Church</td>\n",
       "      <td>680</td>\n",
       "      <td>4edb6b300e011b46ef9c3af5</td>\n",
       "    </tr>\n",
       "    <tr>\n",
       "      <th>16</th>\n",
       "      <td>Triangle Park</td>\n",
       "      <td>8</td>\n",
       "      <td>5a17c667f96b2c105e79a65e</td>\n",
       "    </tr>\n",
       "  </tbody>\n",
       "</table>\n",
       "</div>"
      ],
      "text/plain": [
       "                         name  distance                        id\n",
       "0               Sunrise Point       135  4f21fd64e4b0717a65eeddc3\n",
       "1   Vivekananda Rock Memorial       312  4b9cbc7ef964a520e37836e3\n",
       "2             End of the Land       148  4f22babfe4b0ed339695e61e\n",
       "3           Kanyakumari Beach        10  4e8d9f944fc653e47d1afef1\n",
       "4              Triveni Sangam       277  4eb57ae40cd688257829927c\n",
       "5        Thiruvalluvar Statue       147  4ed9ed9530f83fb79c10cd14\n",
       "6                  Ferry Boat       259  4c71df7857b6a1436f4ec4cc\n",
       "7             Gandhi Memorial        26  4e8d8fc94fc653e47d19524a\n",
       "8      Kanyakumari Lighthouse       417  4c711c4334443704e6f5255f\n",
       "9      Thiruvalluvar Mandapam       466  4cc0142397bc721ec6178967\n",
       "10   Kanyakumari Bus Stantion       465  4edc1b4846907c1b44ba0ed8\n",
       "11       Bhagwati Aman Temple       127  4c7110d8d7fab1f7733e60c9\n",
       "12         Kanyakumari Temple       209  5135e0ace4b05b6ad7b6e450\n",
       "13      Guganateeswara Temple       891  59361f0fd48ec1757c7d4ca4\n",
       "14        St.Anthony's Church       435  4db2dc880437fa536a056d3e\n",
       "15  Our Lady Of Ransom Church       680  4edb6b300e011b46ef9c3af5\n",
       "16              Triangle Park         8  5a17c667f96b2c105e79a65e"
      ]
     },
     "execution_count": 20,
     "metadata": {},
     "output_type": "execute_result"
    }
   ],
   "source": [
    "to_drop = ['Hotel', 'Restautant','hotel','Resort']\n",
    "df_venues = df_venue[~df_venue['name'].str.contains('|'.join(to_drop))].reset_index()\n",
    "print(\"There are {} venues in kanyakumari\".format(df_venues.shape[0]))\n",
    "df_venues[['name','distance','id']]"
   ]
  },
  {
   "cell_type": "markdown",
   "metadata": {},
   "source": [
    "### 3.e Location of all venues"
   ]
  },
  {
   "cell_type": "code",
   "execution_count": 21,
   "metadata": {},
   "outputs": [
    {
     "data": {
      "text/html": [
       "<div style=\"width:100%;\"><div style=\"position:relative;width:100%;height:0;padding-bottom:60%;\"><iframe src=\"data:text/html;charset=utf-8;base64,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\" style=\"position:absolute;width:100%;height:100%;left:0;top:0;border:none !important;\" allowfullscreen webkitallowfullscreen mozallowfullscreen></iframe></div></div>"
      ],
      "text/plain": [
       "<folium.folium.Map at 0x7f4b5e21d4a8>"
      ]
     },
     "execution_count": 21,
     "metadata": {},
     "output_type": "execute_result"
    }
   ],
   "source": [
    "venues_map = folium.Map(location=[latitude, longitude], zoom_start=16) # generate map centred around the Conrad Hotel\n",
    "\n",
    "# add a red circle marker to represent the Kanyakumari\n",
    "folium.features.CircleMarker(\n",
    "    [latitude, longitude],\n",
    "    radius=10,\n",
    "    color='red',\n",
    "    popup='kanyakumari',\n",
    "    fill = True,\n",
    "    fill_color = 'red',\n",
    "    fill_opacity = 0.6\n",
    ").add_to(venues_map)\n",
    "\n",
    "# add the Italian restaurants as blue circle markers\n",
    "for lat, lng, label in zip(df_venues.lat, df_venues.lng, df_venues.name):\n",
    "    folium.features.CircleMarker(\n",
    "        [lat, lng],\n",
    "        radius=5,\n",
    "        color='black',\n",
    "        #popup=label,\n",
    "        fill = True,\n",
    "        fill_color='black',\n",
    "        fill_opacity=0.6\n",
    "    ).add_to(venues_map)\n",
    "\n",
    "# display map\n",
    "venues_map"
   ]
  },
  {
   "cell_type": "markdown",
   "metadata": {},
   "source": [
    "All venues seems to be dispersed except seashore areas.\n",
    "\n",
    "We have listed out number of hotels and venues around kanyakumari.There are **36 Hotels/Restaurant** and **17 Venues**."
   ]
  },
  {
   "cell_type": "markdown",
   "metadata": {},
   "source": [
    "### 3.f How far are venues from the core location?"
   ]
  },
  {
   "cell_type": "code",
   "execution_count": 22,
   "metadata": {},
   "outputs": [
    {
     "data": {
      "image/png": "[encoded data removed]",
      "text/plain": [
       "<Figure size 432x288 with 1 Axes>"
      ]
     },
     "metadata": {
      "needs_background": "light"
     },
     "output_type": "display_data"
    }
   ],
   "source": [
    "distance_venues_df=df_venues.sort_values('distance')\n",
    "\n",
    "def plot_bar_venue():\n",
    "    # this is for plotting purpose\n",
    "    index = np.arange(len(distance_venues_df.name))\n",
    "    plt.bar(distance_venues_df.name, distance_venues_df.distance)\n",
    "    plt.xlabel('Venues')\n",
    "    plt.ylabel('Distance from location (Metres)')\n",
    "    plt.xticks(distance_venues_df.name,rotation=90)\n",
    "    plt.title('Famous Venues Vs Distance')\n",
    "    plt.show()\n",
    "plot_bar_venue()\n"
   ]
  },
  {
   "cell_type": "markdown",
   "metadata": {},
   "source": [
    "**Few Take Aways**\n",
    "    \n",
    "* We could see Kanyakumari beach,Gandhi Memorial,Triangle Park are more closer to our location.\n",
    "* Guganateswara temple is far than rest of places.\n",
    "* Bus station is also an important venue which is 465 metres from our location \n"
   ]
  },
  {
   "cell_type": "markdown",
   "metadata": {},
   "source": [
    "### 3.g Venue Categories"
   ]
  },
  {
   "cell_type": "code",
   "execution_count": 23,
   "metadata": {},
   "outputs": [
    {
     "data": {
      "image/png": "[encoded data removed]",
      "text/plain": [
       "<Figure size 432x288 with 1 Axes>"
      ]
     },
     "metadata": {
      "needs_background": "light"
     },
     "output_type": "display_data"
    }
   ],
   "source": [
    "freq_venue=df_venues['categories'].value_counts()\n",
    "freq_venue=pd.DataFrame(freq_venue).reset_index()\n",
    "freq_venue.columns=['Category','Count']\n",
    "freq_venue\n",
    "\n",
    "def plot_bar_categ():\n",
    "    # this is for plotting purpose\n",
    "    index = np.arange(len(freq_venue.Category))\n",
    "    plt.bar(freq_venue.Category, freq_venue.Count)\n",
    "    plt.xlabel('Category')\n",
    "    plt.ylabel('Count')\n",
    "    plt.xticks(freq_venue.Category,rotation=90)\n",
    "    plt.title('Venue Categories')\n",
    "    plt.show()\n",
    "plot_bar_categ()\n"
   ]
  },
  {
   "cell_type": "markdown",
   "metadata": {},
   "source": [
    "Eventhough we didnt have immense data to consider distribution of categories we could see that **Temple, Beach, Historic sites and Church** are more common venues."
   ]
  },
  {
   "cell_type": "markdown",
   "metadata": {},
   "source": [
    "### 3.h Rating of all  Venues"
   ]
  },
  {
   "cell_type": "code",
   "execution_count": 24,
   "metadata": {},
   "outputs": [],
   "source": [
    "#Rating of venues\n",
    "rating_df=[]\n",
    "\n",
    "for k in range(df_venues.shape[0]):\n",
    "    venue_id=df_venues.id[k]\n",
    "    url = 'https://api.foursquare.com/v2/venues/{}?client_id={}&client_secret={}&v={}'.format(venue_id, CLIENT_ID, CLIENT_SECRET, VERSION)\n",
    "    result = requests.get(url).json()\n",
    "    #print(result)\n",
    "    try:\n",
    "        #print(df_venues.name[k],result['response']['venue']['rating'])\n",
    "        rating=result['response']['venue']['rating']\n",
    "        rating_df.append(rating)\n",
    "        \n",
    "    except:\n",
    "        #print(df_venues.name[k],'This venue has not been rated yet.')\n",
    "        rating='No Rating Yet'\n",
    "        rating_df.append(rating)"
   ]
  },
  {
   "cell_type": "code",
   "execution_count": 25,
   "metadata": {},
   "outputs": [
    {
     "data": {
      "text/html": [
       "<div>\n",
       "<style scoped>\n",
       "    .dataframe tbody tr th:only-of-type {\n",
       "        vertical-align: middle;\n",
       "    }\n",
       "\n",
       "    .dataframe tbody tr th {\n",
       "        vertical-align: top;\n",
       "    }\n",
       "\n",
       "    .dataframe thead th {\n",
       "        text-align: right;\n",
       "    }\n",
       "</style>\n",
       "<table border=\"1\" class=\"dataframe\">\n",
       "  <thead>\n",
       "    <tr style=\"text-align: right;\">\n",
       "      <th></th>\n",
       "      <th>Venue</th>\n",
       "      <th>Rating</th>\n",
       "      <th>distance</th>\n",
       "    </tr>\n",
       "  </thead>\n",
       "  <tbody>\n",
       "    <tr>\n",
       "      <th>0</th>\n",
       "      <td>Sunrise Point</td>\n",
       "      <td>8.5</td>\n",
       "      <td>135</td>\n",
       "    </tr>\n",
       "    <tr>\n",
       "      <th>1</th>\n",
       "      <td>Vivekananda Rock Memorial</td>\n",
       "      <td>8.2</td>\n",
       "      <td>312</td>\n",
       "    </tr>\n",
       "    <tr>\n",
       "      <th>2</th>\n",
       "      <td>End of the Land</td>\n",
       "      <td>7.5</td>\n",
       "      <td>148</td>\n",
       "    </tr>\n",
       "    <tr>\n",
       "      <th>3</th>\n",
       "      <td>Kanyakumari Beach</td>\n",
       "      <td>6.9</td>\n",
       "      <td>10</td>\n",
       "    </tr>\n",
       "    <tr>\n",
       "      <th>4</th>\n",
       "      <td>Triveni Sangam</td>\n",
       "      <td>6.9</td>\n",
       "      <td>277</td>\n",
       "    </tr>\n",
       "    <tr>\n",
       "      <th>5</th>\n",
       "      <td>Thiruvalluvar Statue</td>\n",
       "      <td>No Rating Yet</td>\n",
       "      <td>147</td>\n",
       "    </tr>\n",
       "    <tr>\n",
       "      <th>6</th>\n",
       "      <td>Ferry Boat</td>\n",
       "      <td>No Rating Yet</td>\n",
       "      <td>259</td>\n",
       "    </tr>\n",
       "    <tr>\n",
       "      <th>7</th>\n",
       "      <td>Gandhi Memorial</td>\n",
       "      <td>5.4</td>\n",
       "      <td>26</td>\n",
       "    </tr>\n",
       "    <tr>\n",
       "      <th>8</th>\n",
       "      <td>Kanyakumari Lighthouse</td>\n",
       "      <td>No Rating Yet</td>\n",
       "      <td>417</td>\n",
       "    </tr>\n",
       "    <tr>\n",
       "      <th>9</th>\n",
       "      <td>Thiruvalluvar Mandapam</td>\n",
       "      <td>No Rating Yet</td>\n",
       "      <td>466</td>\n",
       "    </tr>\n",
       "    <tr>\n",
       "      <th>10</th>\n",
       "      <td>Kanyakumari Bus Stantion</td>\n",
       "      <td>No Rating Yet</td>\n",
       "      <td>465</td>\n",
       "    </tr>\n",
       "    <tr>\n",
       "      <th>11</th>\n",
       "      <td>Bhagwati Aman Temple</td>\n",
       "      <td>No Rating Yet</td>\n",
       "      <td>127</td>\n",
       "    </tr>\n",
       "    <tr>\n",
       "      <th>12</th>\n",
       "      <td>Kanyakumari Temple</td>\n",
       "      <td>No Rating Yet</td>\n",
       "      <td>209</td>\n",
       "    </tr>\n",
       "    <tr>\n",
       "      <th>13</th>\n",
       "      <td>Guganateeswara Temple</td>\n",
       "      <td>No Rating Yet</td>\n",
       "      <td>891</td>\n",
       "    </tr>\n",
       "    <tr>\n",
       "      <th>14</th>\n",
       "      <td>St.Anthony's Church</td>\n",
       "      <td>No Rating Yet</td>\n",
       "      <td>435</td>\n",
       "    </tr>\n",
       "    <tr>\n",
       "      <th>15</th>\n",
       "      <td>Our Lady Of Ransom Church</td>\n",
       "      <td>No Rating Yet</td>\n",
       "      <td>680</td>\n",
       "    </tr>\n",
       "    <tr>\n",
       "      <th>16</th>\n",
       "      <td>Triangle Park</td>\n",
       "      <td>No Rating Yet</td>\n",
       "      <td>8</td>\n",
       "    </tr>\n",
       "  </tbody>\n",
       "</table>\n",
       "</div>"
      ],
      "text/plain": [
       "                        Venue         Rating  distance\n",
       "0               Sunrise Point            8.5       135\n",
       "1   Vivekananda Rock Memorial            8.2       312\n",
       "2             End of the Land            7.5       148\n",
       "3           Kanyakumari Beach            6.9        10\n",
       "4              Triveni Sangam            6.9       277\n",
       "5        Thiruvalluvar Statue  No Rating Yet       147\n",
       "6                  Ferry Boat  No Rating Yet       259\n",
       "7             Gandhi Memorial            5.4        26\n",
       "8      Kanyakumari Lighthouse  No Rating Yet       417\n",
       "9      Thiruvalluvar Mandapam  No Rating Yet       466\n",
       "10   Kanyakumari Bus Stantion  No Rating Yet       465\n",
       "11       Bhagwati Aman Temple  No Rating Yet       127\n",
       "12         Kanyakumari Temple  No Rating Yet       209\n",
       "13      Guganateeswara Temple  No Rating Yet       891\n",
       "14        St.Anthony's Church  No Rating Yet       435\n",
       "15  Our Lady Of Ransom Church  No Rating Yet       680\n",
       "16              Triangle Park  No Rating Yet         8"
      ]
     },
     "execution_count": 25,
     "metadata": {},
     "output_type": "execute_result"
    }
   ],
   "source": [
    "rate_dict = {'Venue': df_venues.name, 'Rating': rating_df,'distance':df_venues.distance}\n",
    "rate_df=pd.DataFrame(rate_dict)\n",
    "rate_df"
   ]
  },
  {
   "cell_type": "markdown",
   "metadata": {},
   "source": [
    "### 3.i Number of Tips for all Venues"
   ]
  },
  {
   "cell_type": "code",
   "execution_count": 26,
   "metadata": {},
   "outputs": [],
   "source": [
    "tips_df=[]\n",
    "\n",
    "for k in range(df_venues.shape[0]):\n",
    "    venue_id=df_venues.id[k]\n",
    "    url = 'https://api.foursquare.com/v2/venues/{}?client_id={}&client_secret={}&v={}'.format(venue_id, CLIENT_ID, CLIENT_SECRET, VERSION)\n",
    "    result = requests.get(url).json()\n",
    "    \n",
    "    #print(result['response']['venue']['tips']['count'],result['response']['venue'])\n",
    "    tips=result['response']['venue']['tips']['count']\n",
    "    tips_df.append(tips)\n"
   ]
  },
  {
   "cell_type": "code",
   "execution_count": 27,
   "metadata": {},
   "outputs": [
    {
     "data": {
      "text/html": [
       "<div>\n",
       "<style scoped>\n",
       "    .dataframe tbody tr th:only-of-type {\n",
       "        vertical-align: middle;\n",
       "    }\n",
       "\n",
       "    .dataframe tbody tr th {\n",
       "        vertical-align: top;\n",
       "    }\n",
       "\n",
       "    .dataframe thead th {\n",
       "        text-align: right;\n",
       "    }\n",
       "</style>\n",
       "<table border=\"1\" class=\"dataframe\">\n",
       "  <thead>\n",
       "    <tr style=\"text-align: right;\">\n",
       "      <th></th>\n",
       "      <th>Venue</th>\n",
       "      <th>Tips</th>\n",
       "      <th>distance</th>\n",
       "    </tr>\n",
       "  </thead>\n",
       "  <tbody>\n",
       "    <tr>\n",
       "      <th>1</th>\n",
       "      <td>Vivekananda Rock Memorial</td>\n",
       "      <td>16</td>\n",
       "      <td>312</td>\n",
       "    </tr>\n",
       "    <tr>\n",
       "      <th>0</th>\n",
       "      <td>Sunrise Point</td>\n",
       "      <td>4</td>\n",
       "      <td>135</td>\n",
       "    </tr>\n",
       "    <tr>\n",
       "      <th>3</th>\n",
       "      <td>Kanyakumari Beach</td>\n",
       "      <td>3</td>\n",
       "      <td>10</td>\n",
       "    </tr>\n",
       "    <tr>\n",
       "      <th>6</th>\n",
       "      <td>Ferry Boat</td>\n",
       "      <td>3</td>\n",
       "      <td>259</td>\n",
       "    </tr>\n",
       "    <tr>\n",
       "      <th>7</th>\n",
       "      <td>Gandhi Memorial</td>\n",
       "      <td>2</td>\n",
       "      <td>26</td>\n",
       "    </tr>\n",
       "    <tr>\n",
       "      <th>2</th>\n",
       "      <td>End of the Land</td>\n",
       "      <td>2</td>\n",
       "      <td>148</td>\n",
       "    </tr>\n",
       "    <tr>\n",
       "      <th>10</th>\n",
       "      <td>Kanyakumari Bus Stantion</td>\n",
       "      <td>1</td>\n",
       "      <td>465</td>\n",
       "    </tr>\n",
       "    <tr>\n",
       "      <th>8</th>\n",
       "      <td>Kanyakumari Lighthouse</td>\n",
       "      <td>1</td>\n",
       "      <td>417</td>\n",
       "    </tr>\n",
       "    <tr>\n",
       "      <th>4</th>\n",
       "      <td>Triveni Sangam</td>\n",
       "      <td>1</td>\n",
       "      <td>277</td>\n",
       "    </tr>\n",
       "    <tr>\n",
       "      <th>5</th>\n",
       "      <td>Thiruvalluvar Statue</td>\n",
       "      <td>0</td>\n",
       "      <td>147</td>\n",
       "    </tr>\n",
       "    <tr>\n",
       "      <th>9</th>\n",
       "      <td>Thiruvalluvar Mandapam</td>\n",
       "      <td>0</td>\n",
       "      <td>466</td>\n",
       "    </tr>\n",
       "    <tr>\n",
       "      <th>11</th>\n",
       "      <td>Bhagwati Aman Temple</td>\n",
       "      <td>0</td>\n",
       "      <td>127</td>\n",
       "    </tr>\n",
       "    <tr>\n",
       "      <th>12</th>\n",
       "      <td>Kanyakumari Temple</td>\n",
       "      <td>0</td>\n",
       "      <td>209</td>\n",
       "    </tr>\n",
       "    <tr>\n",
       "      <th>13</th>\n",
       "      <td>Guganateeswara Temple</td>\n",
       "      <td>0</td>\n",
       "      <td>891</td>\n",
       "    </tr>\n",
       "    <tr>\n",
       "      <th>14</th>\n",
       "      <td>St.Anthony's Church</td>\n",
       "      <td>0</td>\n",
       "      <td>435</td>\n",
       "    </tr>\n",
       "    <tr>\n",
       "      <th>15</th>\n",
       "      <td>Our Lady Of Ransom Church</td>\n",
       "      <td>0</td>\n",
       "      <td>680</td>\n",
       "    </tr>\n",
       "    <tr>\n",
       "      <th>16</th>\n",
       "      <td>Triangle Park</td>\n",
       "      <td>0</td>\n",
       "      <td>8</td>\n",
       "    </tr>\n",
       "  </tbody>\n",
       "</table>\n",
       "</div>"
      ],
      "text/plain": [
       "                        Venue  Tips  distance\n",
       "1   Vivekananda Rock Memorial    16       312\n",
       "0               Sunrise Point     4       135\n",
       "3           Kanyakumari Beach     3        10\n",
       "6                  Ferry Boat     3       259\n",
       "7             Gandhi Memorial     2        26\n",
       "2             End of the Land     2       148\n",
       "10   Kanyakumari Bus Stantion     1       465\n",
       "8      Kanyakumari Lighthouse     1       417\n",
       "4              Triveni Sangam     1       277\n",
       "5        Thiruvalluvar Statue     0       147\n",
       "9      Thiruvalluvar Mandapam     0       466\n",
       "11       Bhagwati Aman Temple     0       127\n",
       "12         Kanyakumari Temple     0       209\n",
       "13      Guganateeswara Temple     0       891\n",
       "14        St.Anthony's Church     0       435\n",
       "15  Our Lady Of Ransom Church     0       680\n",
       "16              Triangle Park     0         8"
      ]
     },
     "execution_count": 27,
     "metadata": {},
     "output_type": "execute_result"
    }
   ],
   "source": [
    "tips_dict = {'Venue': df_venues.name, 'Tips': tips_df,'distance':df_venues.distance}\n",
    "tips=pd.DataFrame(tips_dict)\n",
    "tips=tips.sort_values('Tips',ascending = False)\n",
    "tips"
   ]
  },
  {
   "cell_type": "markdown",
   "metadata": {},
   "source": [
    "### 3.j Extracting Rated and Tips Venues"
   ]
  },
  {
   "cell_type": "code",
   "execution_count": 28,
   "metadata": {},
   "outputs": [
    {
     "data": {
      "text/html": [
       "<div>\n",
       "<style scoped>\n",
       "    .dataframe tbody tr th:only-of-type {\n",
       "        vertical-align: middle;\n",
       "    }\n",
       "\n",
       "    .dataframe tbody tr th {\n",
       "        vertical-align: top;\n",
       "    }\n",
       "\n",
       "    .dataframe thead th {\n",
       "        text-align: right;\n",
       "    }\n",
       "</style>\n",
       "<table border=\"1\" class=\"dataframe\">\n",
       "  <thead>\n",
       "    <tr style=\"text-align: right;\">\n",
       "      <th></th>\n",
       "      <th>Venue</th>\n",
       "      <th>Rating</th>\n",
       "      <th>distance</th>\n",
       "      <th>Tips</th>\n",
       "    </tr>\n",
       "  </thead>\n",
       "  <tbody>\n",
       "    <tr>\n",
       "      <th>0</th>\n",
       "      <td>Sunrise Point</td>\n",
       "      <td>8.5</td>\n",
       "      <td>135</td>\n",
       "      <td>4</td>\n",
       "    </tr>\n",
       "    <tr>\n",
       "      <th>1</th>\n",
       "      <td>Vivekananda Rock Memorial</td>\n",
       "      <td>8.2</td>\n",
       "      <td>312</td>\n",
       "      <td>16</td>\n",
       "    </tr>\n",
       "    <tr>\n",
       "      <th>2</th>\n",
       "      <td>End of the Land</td>\n",
       "      <td>7.5</td>\n",
       "      <td>148</td>\n",
       "      <td>2</td>\n",
       "    </tr>\n",
       "    <tr>\n",
       "      <th>3</th>\n",
       "      <td>Kanyakumari Beach</td>\n",
       "      <td>6.9</td>\n",
       "      <td>10</td>\n",
       "      <td>3</td>\n",
       "    </tr>\n",
       "    <tr>\n",
       "      <th>4</th>\n",
       "      <td>Triveni Sangam</td>\n",
       "      <td>6.9</td>\n",
       "      <td>277</td>\n",
       "      <td>1</td>\n",
       "    </tr>\n",
       "    <tr>\n",
       "      <th>5</th>\n",
       "      <td>Ferry Boat</td>\n",
       "      <td>No Rating Yet</td>\n",
       "      <td>259</td>\n",
       "      <td>3</td>\n",
       "    </tr>\n",
       "    <tr>\n",
       "      <th>6</th>\n",
       "      <td>Gandhi Memorial</td>\n",
       "      <td>5.4</td>\n",
       "      <td>26</td>\n",
       "      <td>2</td>\n",
       "    </tr>\n",
       "    <tr>\n",
       "      <th>7</th>\n",
       "      <td>Kanyakumari Lighthouse</td>\n",
       "      <td>No Rating Yet</td>\n",
       "      <td>417</td>\n",
       "      <td>1</td>\n",
       "    </tr>\n",
       "    <tr>\n",
       "      <th>8</th>\n",
       "      <td>Kanyakumari Bus Stantion</td>\n",
       "      <td>No Rating Yet</td>\n",
       "      <td>465</td>\n",
       "      <td>1</td>\n",
       "    </tr>\n",
       "  </tbody>\n",
       "</table>\n",
       "</div>"
      ],
      "text/plain": [
       "                       Venue         Rating  distance  Tips\n",
       "0              Sunrise Point            8.5       135     4\n",
       "1  Vivekananda Rock Memorial            8.2       312    16\n",
       "2            End of the Land            7.5       148     2\n",
       "3          Kanyakumari Beach            6.9        10     3\n",
       "4             Triveni Sangam            6.9       277     1\n",
       "5                 Ferry Boat  No Rating Yet       259     3\n",
       "6            Gandhi Memorial            5.4        26     2\n",
       "7     Kanyakumari Lighthouse  No Rating Yet       417     1\n",
       "8   Kanyakumari Bus Stantion  No Rating Yet       465     1"
      ]
     },
     "execution_count": 28,
     "metadata": {},
     "output_type": "execute_result"
    }
   ],
   "source": [
    "# Add Tips column to Rating Dataframe\n",
    "rate_df['Tips']=tips['Tips']\n",
    "\n",
    "#Lets take values of only rated venues\n",
    "only_rated_tips = rate_df[(rate_df['Rating']!='No Rating Yet') | (rate_df['Tips']!=0)]\n",
    "\n",
    "only_rated_tips.reset_index(inplace = True,drop = True) \n",
    "only_rated_tips"
   ]
  },
  {
   "cell_type": "markdown",
   "metadata": {},
   "source": [
    "### 3.k Final list of Venues"
   ]
  },
  {
   "cell_type": "code",
   "execution_count": 29,
   "metadata": {},
   "outputs": [
    {
     "data": {
      "text/html": [
       "<div>\n",
       "<style scoped>\n",
       "    .dataframe tbody tr th:only-of-type {\n",
       "        vertical-align: middle;\n",
       "    }\n",
       "\n",
       "    .dataframe tbody tr th {\n",
       "        vertical-align: top;\n",
       "    }\n",
       "\n",
       "    .dataframe thead th {\n",
       "        text-align: right;\n",
       "    }\n",
       "</style>\n",
       "<table border=\"1\" class=\"dataframe\">\n",
       "  <thead>\n",
       "    <tr style=\"text-align: right;\">\n",
       "      <th></th>\n",
       "      <th>index</th>\n",
       "      <th>categories</th>\n",
       "      <th>distance</th>\n",
       "      <th>id</th>\n",
       "      <th>lat</th>\n",
       "      <th>lng</th>\n",
       "      <th>name</th>\n",
       "    </tr>\n",
       "  </thead>\n",
       "  <tbody>\n",
       "    <tr>\n",
       "      <th>0</th>\n",
       "      <td>0</td>\n",
       "      <td>Beach</td>\n",
       "      <td>135</td>\n",
       "      <td>4f21fd64e4b0717a65eeddc3</td>\n",
       "      <td>8.079398</td>\n",
       "      <td>77.551158</td>\n",
       "      <td>Sunrise Point</td>\n",
       "    </tr>\n",
       "    <tr>\n",
       "      <th>1</th>\n",
       "      <td>1</td>\n",
       "      <td>Sculpture Garden</td>\n",
       "      <td>312</td>\n",
       "      <td>4b9cbc7ef964a520e37836e3</td>\n",
       "      <td>8.080707</td>\n",
       "      <td>77.552362</td>\n",
       "      <td>Vivekananda Rock Memorial</td>\n",
       "    </tr>\n",
       "    <tr>\n",
       "      <th>2</th>\n",
       "      <td>2</td>\n",
       "      <td>Arcade</td>\n",
       "      <td>148</td>\n",
       "      <td>4f22babfe4b0ed339695e61e</td>\n",
       "      <td>8.078479</td>\n",
       "      <td>77.551035</td>\n",
       "      <td>End of the Land</td>\n",
       "    </tr>\n",
       "    <tr>\n",
       "      <th>3</th>\n",
       "      <td>3</td>\n",
       "      <td>Beach</td>\n",
       "      <td>10</td>\n",
       "      <td>4e8d9f944fc653e47d1afef1</td>\n",
       "      <td>8.079311</td>\n",
       "      <td>77.550005</td>\n",
       "      <td>Kanyakumari Beach</td>\n",
       "    </tr>\n",
       "    <tr>\n",
       "      <th>4</th>\n",
       "      <td>4</td>\n",
       "      <td>Historic Site</td>\n",
       "      <td>277</td>\n",
       "      <td>4eb57ae40cd688257829927c</td>\n",
       "      <td>8.078860</td>\n",
       "      <td>77.547448</td>\n",
       "      <td>Triveni Sangam</td>\n",
       "    </tr>\n",
       "    <tr>\n",
       "      <th>5</th>\n",
       "      <td>10</td>\n",
       "      <td>Boat or Ferry</td>\n",
       "      <td>259</td>\n",
       "      <td>4c71df7857b6a1436f4ec4cc</td>\n",
       "      <td>8.080931</td>\n",
       "      <td>77.551561</td>\n",
       "      <td>Ferry Boat</td>\n",
       "    </tr>\n",
       "    <tr>\n",
       "      <th>6</th>\n",
       "      <td>11</td>\n",
       "      <td>Historic Site</td>\n",
       "      <td>26</td>\n",
       "      <td>4e8d8fc94fc653e47d19524a</td>\n",
       "      <td>8.079021</td>\n",
       "      <td>77.549976</td>\n",
       "      <td>Gandhi Memorial</td>\n",
       "    </tr>\n",
       "    <tr>\n",
       "      <th>7</th>\n",
       "      <td>12</td>\n",
       "      <td>Lighthouse</td>\n",
       "      <td>417</td>\n",
       "      <td>4c711c4334443704e6f5255f</td>\n",
       "      <td>8.081389</td>\n",
       "      <td>77.546820</td>\n",
       "      <td>Kanyakumari Lighthouse</td>\n",
       "    </tr>\n",
       "    <tr>\n",
       "      <th>8</th>\n",
       "      <td>15</td>\n",
       "      <td>Bus Station</td>\n",
       "      <td>465</td>\n",
       "      <td>4edc1b4846907c1b44ba0ed8</td>\n",
       "      <td>8.082652</td>\n",
       "      <td>77.547469</td>\n",
       "      <td>Kanyakumari Bus Stantion</td>\n",
       "    </tr>\n",
       "  </tbody>\n",
       "</table>\n",
       "</div>"
      ],
      "text/plain": [
       "   index        categories  distance                        id       lat  \\\n",
       "0      0             Beach       135  4f21fd64e4b0717a65eeddc3  8.079398   \n",
       "1      1  Sculpture Garden       312  4b9cbc7ef964a520e37836e3  8.080707   \n",
       "2      2            Arcade       148  4f22babfe4b0ed339695e61e  8.078479   \n",
       "3      3             Beach        10  4e8d9f944fc653e47d1afef1  8.079311   \n",
       "4      4     Historic Site       277  4eb57ae40cd688257829927c  8.078860   \n",
       "5     10     Boat or Ferry       259  4c71df7857b6a1436f4ec4cc  8.080931   \n",
       "6     11     Historic Site        26  4e8d8fc94fc653e47d19524a  8.079021   \n",
       "7     12        Lighthouse       417  4c711c4334443704e6f5255f  8.081389   \n",
       "8     15       Bus Station       465  4edc1b4846907c1b44ba0ed8  8.082652   \n",
       "\n",
       "         lng                       name  \n",
       "0  77.551158              Sunrise Point  \n",
       "1  77.552362  Vivekananda Rock Memorial  \n",
       "2  77.551035            End of the Land  \n",
       "3  77.550005          Kanyakumari Beach  \n",
       "4  77.547448             Triveni Sangam  \n",
       "5  77.551561                 Ferry Boat  \n",
       "6  77.549976            Gandhi Memorial  \n",
       "7  77.546820     Kanyakumari Lighthouse  \n",
       "8  77.547469   Kanyakumari Bus Stantion  "
      ]
     },
     "execution_count": 29,
     "metadata": {},
     "output_type": "execute_result"
    }
   ],
   "source": [
    "rated_list=[]\n",
    "for i in range(len(only_rated_tips)):\n",
    "    rated_tip_temp=only_rated_tips['Venue'][i]\n",
    "    rated_list.append(rated_tip_temp)\n",
    "\n",
    "#Masking all values present in list\n",
    "mask = df_venues['name'].isin(rated_list)\n",
    "\n",
    "final_venues = df_venues[mask]\n",
    "#final_venues['location']=final_venues['lat'].astype(str).str.cat(final_venues['lng'].astype(str), sep=' - ')\n",
    "final_venues.reset_index(inplace = True,drop = True) \n",
    "\n",
    "final_venues"
   ]
  },
  {
   "cell_type": "markdown",
   "metadata": {},
   "source": [
    "### 3.l Clustering based on venues"
   ]
  },
  {
   "cell_type": "markdown",
   "metadata": {},
   "source": [
    "Now lets do some prediction to locate our new hotel in centre of final list of venues."
   ]
  },
  {
   "cell_type": "code",
   "execution_count": 30,
   "metadata": {},
   "outputs": [
    {
     "data": {
      "text/html": [
       "<div>\n",
       "<style scoped>\n",
       "    .dataframe tbody tr th:only-of-type {\n",
       "        vertical-align: middle;\n",
       "    }\n",
       "\n",
       "    .dataframe tbody tr th {\n",
       "        vertical-align: top;\n",
       "    }\n",
       "\n",
       "    .dataframe thead th {\n",
       "        text-align: right;\n",
       "    }\n",
       "</style>\n",
       "<table border=\"1\" class=\"dataframe\">\n",
       "  <thead>\n",
       "    <tr style=\"text-align: right;\">\n",
       "      <th></th>\n",
       "      <th>name</th>\n",
       "      <th>Arcade</th>\n",
       "      <th>Beach</th>\n",
       "      <th>Boat or Ferry</th>\n",
       "      <th>Bus Station</th>\n",
       "      <th>Historic Site</th>\n",
       "      <th>Lighthouse</th>\n",
       "      <th>Sculpture Garden</th>\n",
       "    </tr>\n",
       "  </thead>\n",
       "  <tbody>\n",
       "    <tr>\n",
       "      <th>0</th>\n",
       "      <td>Sunrise Point</td>\n",
       "      <td>0</td>\n",
       "      <td>1</td>\n",
       "      <td>0</td>\n",
       "      <td>0</td>\n",
       "      <td>0</td>\n",
       "      <td>0</td>\n",
       "      <td>0</td>\n",
       "    </tr>\n",
       "    <tr>\n",
       "      <th>1</th>\n",
       "      <td>Vivekananda Rock Memorial</td>\n",
       "      <td>0</td>\n",
       "      <td>0</td>\n",
       "      <td>0</td>\n",
       "      <td>0</td>\n",
       "      <td>0</td>\n",
       "      <td>0</td>\n",
       "      <td>1</td>\n",
       "    </tr>\n",
       "    <tr>\n",
       "      <th>2</th>\n",
       "      <td>End of the Land</td>\n",
       "      <td>1</td>\n",
       "      <td>0</td>\n",
       "      <td>0</td>\n",
       "      <td>0</td>\n",
       "      <td>0</td>\n",
       "      <td>0</td>\n",
       "      <td>0</td>\n",
       "    </tr>\n",
       "    <tr>\n",
       "      <th>3</th>\n",
       "      <td>Kanyakumari Beach</td>\n",
       "      <td>0</td>\n",
       "      <td>1</td>\n",
       "      <td>0</td>\n",
       "      <td>0</td>\n",
       "      <td>0</td>\n",
       "      <td>0</td>\n",
       "      <td>0</td>\n",
       "    </tr>\n",
       "    <tr>\n",
       "      <th>4</th>\n",
       "      <td>Triveni Sangam</td>\n",
       "      <td>0</td>\n",
       "      <td>0</td>\n",
       "      <td>0</td>\n",
       "      <td>0</td>\n",
       "      <td>1</td>\n",
       "      <td>0</td>\n",
       "      <td>0</td>\n",
       "    </tr>\n",
       "  </tbody>\n",
       "</table>\n",
       "</div>"
      ],
      "text/plain": [
       "                        name  Arcade  Beach  Boat or Ferry  Bus Station  \\\n",
       "0              Sunrise Point       0      1              0            0   \n",
       "1  Vivekananda Rock Memorial       0      0              0            0   \n",
       "2            End of the Land       1      0              0            0   \n",
       "3          Kanyakumari Beach       0      1              0            0   \n",
       "4             Triveni Sangam       0      0              0            0   \n",
       "\n",
       "   Historic Site  Lighthouse  Sculpture Garden  \n",
       "0              0           0                 0  \n",
       "1              0           0                 1  \n",
       "2              0           0                 0  \n",
       "3              0           0                 0  \n",
       "4              1           0                 0  "
      ]
     },
     "execution_count": 30,
     "metadata": {},
     "output_type": "execute_result"
    }
   ],
   "source": [
    "# one hot encoding\n",
    "neighbor_onehot = pd.get_dummies(final_venues[['categories']], prefix=\"\", prefix_sep=\"\")\n",
    "\n",
    "# add neighborhood column back to dataframe\n",
    "neighbor_onehot['name'] = final_venues['name'] \n",
    "\n",
    "# move neighborhood column to the first column\n",
    "fixed_columns = [neighbor_onehot.columns[-1]] + list(neighbor_onehot.columns[:-1])\n",
    "neighbor_onehot = neighbor_onehot[fixed_columns]\n",
    "\n",
    "neighbor_onehot.head()"
   ]
  },
  {
   "cell_type": "code",
   "execution_count": 31,
   "metadata": {},
   "outputs": [],
   "source": [
    "neighbor_onehot.shape\n",
    "neighbor_grouped = neighbor_onehot.groupby('name').mean().reset_index()"
   ]
  },
  {
   "cell_type": "code",
   "execution_count": 32,
   "metadata": {},
   "outputs": [],
   "source": [
    "# Top 10 venues\n",
    "num_top_venues = 10\n",
    "\n",
    "indicators = ['st', 'nd', 'rd']\n",
    "\n",
    "# create columns according to number of top venues\n",
    "columns = ['name']\n",
    "for ind in np.arange(num_top_venues):\n",
    "    try:\n",
    "        columns.append('{}{} Most Common Venue'.format(ind+1, indicators[ind]))\n",
    "    except:\n",
    "        columns.append('{}th Most Common Venue'.format(ind+1))\n",
    "\n",
    "# create a new dataframe\n",
    "neighborhoods_venues_sorted = pd.DataFrame(columns=columns)\n",
    "neighborhoods_venues_sorted['name'] = neighbor_grouped['name']"
   ]
  },
  {
   "cell_type": "code",
   "execution_count": 34,
   "metadata": {},
   "outputs": [
    {
     "data": {
      "text/plain": [
       "KMeans(algorithm='auto', copy_x=True, init='k-means++', max_iter=300,\n",
       "    n_clusters=3, n_init=10, n_jobs=None, precompute_distances='auto',\n",
       "    random_state=0, tol=0.0001, verbose=0)"
      ]
     },
     "execution_count": 34,
     "metadata": {},
     "output_type": "execute_result"
    }
   ],
   "source": [
    "# Clustering\n",
    "\n",
    "# set number of clusters\n",
    "kclusters = 3\n",
    "\n",
    "neighbor_grouped_clustering = neighbor_grouped.drop('name', 1)\n",
    "\n",
    "# run k-means clustering\n",
    "kmeans = KMeans(n_clusters=kclusters, random_state=0).fit(neighbor_grouped_clustering)\n",
    "\n",
    "# check cluster labels generated for each row in the dataframe\n",
    "kmeans.labels_[0:10] \n",
    "\n",
    "\n",
    "# add clustering labels\n",
    "neighborhoods_venues_sorted.insert(0, 'Clustersss', kmeans.labels_)\n",
    "\n",
    "neighbor_merged = final_venues\n",
    "\n",
    "# merge toronto_grouped with toronto_data to add latitude/longitude for each neighborhood\n",
    "neighbor_merged = neighbor_merged.join(neighborhoods_venues_sorted.set_index('name'), on='name')\n",
    "\n",
    "kmeans"
   ]
  },
  {
   "cell_type": "markdown",
   "metadata": {},
   "source": [
    "### 3.m Center of all clusters & Midpoint of all venues"
   ]
  },
  {
   "cell_type": "markdown",
   "metadata": {},
   "source": [
    "**We will be collating the location of centroid of all clusters and midpoint of all venues to get more accurate location**"
   ]
  },
  {
   "cell_type": "code",
   "execution_count": 35,
   "metadata": {},
   "outputs": [
    {
     "name": "stdout",
     "output_type": "stream",
     "text": [
      "Final location (Green Dot in our below given map) of our brand new hotel:8.079896043302105,77.54973668986852\n"
     ]
    }
   ],
   "source": [
    "fin=neighbor_merged.groupby(['Clustersss']).mean()\n",
    "\n",
    "lati=sum(fin.lat)/len(fin.lat)\n",
    "longi=sum(fin.lng)/len(fin.lng)\n",
    "\n",
    "#Taking midpoint of top ten closest hotel\n",
    "venues_lan=sum(final_venues.lat)/len(final_venues.lat)\n",
    "venues_lng=sum(final_venues.lng)/len(final_venues.lng)\n",
    "\n",
    "final_latitude=(lati+venues_lan)/2\n",
    "final_longitude=(longi+venues_lng)/2\n",
    "\n",
    "print(\"Final location (Green Dot in our below given map) of our brand new hotel:{},{}\".format(final_latitude,final_longitude))"
   ]
  },
  {
   "cell_type": "code",
   "execution_count": 36,
   "metadata": {},
   "outputs": [
    {
     "data": {
      "text/html": [
       "<div style=\"width:100%;\"><div style=\"position:relative;width:100%;height:0;padding-bottom:60%;\"><iframe src=\"data:text/html;charset=utf-8;base64,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\" style=\"position:absolute;width:100%;height:100%;left:0;top:0;border:none !important;\" allowfullscreen webkitallowfullscreen mozallowfullscreen></iframe></div></div>"
      ],
      "text/plain": [
       "<folium.folium.Map at 0x7f4b5e0dac88>"
      ]
     },
     "execution_count": 36,
     "metadata": {},
     "output_type": "execute_result"
    }
   ],
   "source": [
    "map_clusters = folium.Map(location=[latitude, longitude], zoom_start=17)\n",
    "\n",
    "# set color scheme for the clusters\n",
    "x = np.arange(kclusters)\n",
    "ys = [i + x + (i*x)**2 for i in range(kclusters)]\n",
    "colors_array = cm.rainbow(np.linspace(0, 1, len(ys)))\n",
    "rainbow = [colors.rgb2hex(i) for i in colors_array]\n",
    "\n",
    "folium.features.CircleMarker(\n",
    "    [final_latitude, final_longitude],\n",
    "    radius=10,\n",
    "    color='green',\n",
    "    popup='My hotel',\n",
    "    fill = True,\n",
    "    fill_color = 'green',\n",
    "    fill_opacity = 0.6\n",
    ").add_to(map_clusters)\n",
    "\n",
    "# add markers to the map\n",
    "markers_colors = []\n",
    "for lat, lon, poi, cluster in zip(neighbor_merged['lat'], neighbor_merged['lng'], neighbor_merged['name'], neighbor_merged['Clustersss']):\n",
    "    label = folium.Popup(str(poi) + ' Cluster ' + str(cluster), parse_html=True)\n",
    "    folium.CircleMarker(\n",
    "        [lat, lon],\n",
    "        radius=6,\n",
    "        popup=label,\n",
    "        color=rainbow[cluster-1],\n",
    "        fill=True,\n",
    "        fill_color=rainbow[cluster-1],\n",
    "        fill_opacity=0.7).add_to(map_clusters)\n",
    "\n",
    "       \n",
    "map_clusters"
   ]
  },
  {
   "cell_type": "markdown",
   "metadata": {},
   "source": [
    "The location gives the central point to visit all other venues.Hence this can be locked down to attract all tourist."
   ]
  },
  {
   "cell_type": "markdown",
   "metadata": {},
   "source": [
    "## 4. Results section "
   ]
  },
  {
   "cell_type": "markdown",
   "metadata": {},
   "source": [
    "### 4.a My hotel location\n",
    "\n",
    "* Final location is pointed at **8.07985,77.54973**\n",
    "\n",
    "* This location is **at Beach Road opposite to Gandhi Memorial and Kumari Temple.**\n",
    "\n",
    "* Located at exact junction of two cross roads which can give more attention to people who passby. \n"
   ]
  },
  {
   "cell_type": "markdown",
   "metadata": {},
   "source": [
    "### 4.b Top Rated Venues "
   ]
  },
  {
   "cell_type": "markdown",
   "metadata": {},
   "source": [
    "* Sunrise Point\t\n",
    "* Vivekananda Rock Memorial\t\n",
    "* End of the Land\n",
    "* Kanyakumari Beach\t\n",
    "* Triveni Sangam\n",
    "* Gandhi Memorial\t\n",
    "\n",
    "All these venues are rated well than other and also they have more tips and located within 320 metres to core location of kanyakumari.So tourists may like to visit these places."
   ]
  },
  {
   "cell_type": "markdown",
   "metadata": {},
   "source": [
    "### 4.c Spot my hotel against others\n",
    "\n",
    "* Green - My hotel location\n",
    "* Red - Kanyakumari core location.\n",
    "* Black - Venues.\n",
    "* Blue - Other hotels.\n",
    "* My predicted location and core location are very close to each other which is expected.As this has central attraction,the predicted one almost matched with the core."
   ]
  },
  {
   "cell_type": "code",
   "execution_count": 37,
   "metadata": {
    "scrolled": false
   },
   "outputs": [
    {
     "data": {
      "text/html": [
       "<div style=\"width:100%;\"><div style=\"position:relative;width:100%;height:0;padding-bottom:60%;\"><iframe src=\"data:text/html;charset=utf-8;base64,PCFET0NUWVBFIGh0bWw+CjxoZWFkPiAgICAKICAgIDxtZXRhIGh0dHAtZXF1aXY9ImNvbnRlbnQtdHlwZSIgY29udGVudD0idGV4dC9odG1sOyBjaGFyc2V0PVVURi04IiAvPgogICAgPHNjcmlwdD5MX1BSRUZFUl9DQU5WQVMgPSBmYWxzZTsgTF9OT19UT1VDSCA9IGZhbHNlOyBMX0RJU0FCTEVfM0QgPSBmYWxzZTs8L3NjcmlwdD4KICAgIDxzY3JpcHQgc3JjPSJodHRwczovL2Nkbi5qc2RlbGl2ci5uZXQvbnBtL2xlYWZsZXRAMS4yLjAvZGlzdC9sZWFmbGV0LmpzIj48L3NjcmlwdD4KICAgIDxzY3JpcHQgc3JjPSJodHRwczovL2FqYXguZ29vZ2xlYXBpcy5jb20vYWpheC9saWJzL2pxdWVyeS8xLjExLjEvanF1ZXJ5Lm1pbi5qcyI+PC9zY3JpcHQ+CiAgICA8c2NyaXB0IHNyYz0iaHR0cHM6Ly9tYXhjZG4uYm9vdHN0cmFwY2RuLmNvbS9ib290c3RyYXAvMy4yLjAvanMvYm9vdHN0cmFwLm1pbi5qcyI+PC9zY3JpcHQ+CiAgICA8c2NyaXB0IHNyYz0iaHR0cHM6Ly9jZG5qcy5jbG91ZGZsYXJlLmNvbS9hamF4L2xpYnMvTGVhZmxldC5hd2Vzb21lLW1hcmtlcnMvMi4wLjIvbGVhZmxldC5hd2Vzb21lLW1hcmtlcnMuanMiPjwvc2NyaXB0PgogICAgPGxpbmsgcmVsPSJzdHlsZXNoZWV0IiBocmVmPSJodHRwczovL2Nkbi5qc2RlbGl2ci5uZXQvbnBtL2xlYWZsZXRAMS4yLjAvZGlzdC9sZWFmbGV0LmNzcyIvPgogICAgPGxpbmsgcmVsPSJzdHlsZXNoZWV0IiBocmVmPSJodHRwczovL21heGNkbi5ib290c3RyYXBjZG4uY29tL2Jvb3RzdHJhcC8zLjIuMC9jc3MvYm9vdHN0cmFwLm1pbi5jc3MiLz4KICAgIDxsaW5rIHJlbD0ic3R5bGVzaGVldCIgaHJlZj0iaHR0cHM6Ly9tYXhjZG4uYm9vdHN0cmFwY2RuLmNvbS9ib290c3RyYXAvMy4yLjAvY3NzL2Jvb3RzdHJhcC10aGVtZS5taW4uY3NzIi8+CiAgICA8bGluayByZWw9InN0eWxlc2hlZXQiIGhyZWY9Imh0dHBzOi8vbWF4Y2RuLmJvb3RzdHJhcGNkbi5jb20vZm9udC1hd2Vzb21lLzQuNi4zL2Nzcy9mb250LWF3ZXNvbWUubWluLmNzcyIvPgogICAgPGxpbmsgcmVsPSJzdHlsZXNoZWV0IiBocmVmPSJodHRwczovL2NkbmpzLmNsb3VkZmxhcmUuY29tL2FqYXgvbGlicy9MZWFmbGV0LmF3ZXNvbWUtbWFya2Vycy8yLjAuMi9sZWFmbGV0LmF3ZXNvbWUtbWFya2Vycy5jc3MiLz4KICAgIDxsaW5rIHJlbD0ic3R5bGVzaGVldCIgaHJlZj0iaHR0cHM6Ly9yYXdnaXQuY29tL3B5dGhvbi12aXN1YWxpemF0aW9uL2ZvbGl1bS9tYXN0ZXIvZm9saXVtL3RlbXBsYXRlcy9sZWFmbGV0LmF3ZXNvbWUucm90YXRlLmNzcyIvPgogICAgPHN0eWxlPmh0bWwsIGJvZHkge3dpZHRoOiAxMDAlO2hlaWdodDogMTAwJTttYXJnaW46IDA7cGFkZGluZzogMDt9PC9zdHlsZT4KICAgIDxzdHlsZT4jbWFwIHtwb3NpdGlvbjphYnNvbHV0ZTt0b3A6MDtib3R0b206MDtyaWdodDowO2xlZnQ6MDt9PC9zdHlsZT4KICAgIAogICAgICAgICAgICA8c3R5bGU+ICNtYXBfNzQ3NTgyOTMyZGM1NDlmYjlmNzQ2ODYwMDVkYTFkYzUgewogICAgICAgICAgICAgICAgcG9zaXRpb24gOiByZWxhdGl2ZTsKICAgICAgICAgICAgICAgIHdpZHRoIDogMTAwLjAlOwogICAgICAgICAgICAgICAgaGVpZ2h0OiAxMDAuMCU7CiAgICAgICAgICAgICAgICBsZWZ0OiAwLjAlOwogICAgICAgICAgICAgICAgdG9wOiAwLjAlOwogICAgICAgICAgICAgICAgfQogICAgICAgICAgICA8L3N0eWxlPgogICAgICAgIAo8L2hlYWQ+Cjxib2R5PiAgICAKICAgIAogICAgICAgICAgICA8ZGl2IGNsYXNzPSJmb2xpdW0tbWFwIiBpZD0ibWFwXzc0NzU4MjkzMmRjNTQ5ZmI5Zjc0Njg2MDA1ZGExZGM1IiA+PC9kaXY+CiAgICAgICAgCjwvYm9keT4KPHNjcmlwdD4gICAgCiAgICAKCiAgICAgICAgICAgIAogICAgICAgICAgICAgICAgdmFyIGJvdW5kcyA9IG51bGw7CiAgICAgICAgICAgIAoKICAgICAgICAgICAgdmFyIG1hcF83NDc1ODI5MzJkYzU0OWZiOWY3NDY4NjAwNWRhMWRjNSA9IEwubWFwKAogICAgICAgICAgICAgICAgICAgICAgICAgICAgICAgICAgJ21hcF83NDc1ODI5MzJkYzU0OWZiOWY3NDY4NjAwNWRhMWRjNScsCiAgICAgICAgICAgICAgICAgICAgICAgICAgICAgICAgICB7Y2VudGVyOiBbOC4wNzkyNTIsNzcuNTQ5OTMzOF0sCiAgICAgICAgICAgICAgICAgICAgICAgICAgICAgICAgICB6b29tOiAxNiwKICAgICAgICAgICAgICAgICAgICAgICAgICAgICAgICAgIG1heEJvdW5kczogYm91bmRzLAogICAgICAgICAgICAgICAgICAgICAgICAgICAgICAgICAgbGF5ZXJzOiBbXSwKICAgICAgICAgICAgICAgICAgICAgICAgICAgICAgICAgIHdvcmxkQ29weUp1bXA6IGZhbHNlLAogICAgICAgICAgICAgICAgICAgICAgICAgICAgICAgICAgY3JzOiBMLkNSUy5FUFNHMzg1NwogICAgICAgICAgICAgICAgICAgICAgICAgICAgICAgICB9KTsKICAgICAgICAgICAgCiAgICAgICAgCiAgICAKICAgICAgICAgICAgdmFyIHRpbGVfbGF5ZXJfOTkzNTAzY2M1MmM5NDJhYjhlMTI5MDBjNjIyYzNjNWIgPSBMLnRpbGVMYXllcigKICAgICAgICAgICAgICAgICdodHRwczovL3tzfS50aWxlLm9wZW5zdHJlZXRtYXAub3JnL3t6fS97eH0ve3l9LnBuZycsCiAgICAgICAgICAgICAgICB7CiAgImF0dHJpYnV0aW9uIjogbnVsbCwKICAiZGV0ZWN0UmV0aW5hIjogZmFsc2UsCiAgIm1heFpvb20iOiAxOCwKICAibWluWm9vbSI6IDEsCiAgIm5vV3JhcCI6IGZhbHNlLAogICJzdWJkb21haW5zIjogImFiYyIKfQogICAgICAgICAgICAgICAgKS5hZGRUbyhtYXBfNzQ3NTgyOTMyZGM1NDlmYjlmNzQ2ODYwMDVkYTFkYzUpOwogICAgICAgIAogICAgCiAgICAgICAgICAgIHZhciBjaXJjbGVfbWFya2VyXzhmNjJlYjM0ZDI4ZDRlMzQ5NDIyM2ZlYjIzYjRmNDkxID0gTC5jaXJjbGVNYXJrZXIoCiAgICAgICAgICAgICAgICBbOC4wNzk4OTYwNDMzMDIxMDUsNzcuNTQ5NzM2Njg5ODY4NTJdLAogICAgICAgICAgICAgICAgewogICJidWJibGluZ01vdXNlRXZlbnRzIjogdHJ1ZSwKICAiY29sb3IiOiAiZ3JlZW4iLAogICJkYXNoQXJyYXkiOiBudWxsLAogICJkYXNoT2Zmc2V0IjogbnVsbCwKICAiZmlsbCI6IHRydWUsCiAgImZpbGxDb2xvciI6ICJncmVlbiIsCiAgImZpbGxPcGFjaXR5IjogMC42LAogICJmaWxsUnVsZSI6ICJldmVub2RkIiwKICAibGluZUNhcCI6ICJyb3VuZCIsCiAgImxpbmVKb2luIjogInJvdW5kIiwKICAib3BhY2l0eSI6IDEuMCwKICAicmFkaXVzIjogMTAsCiAgInN0cm9rZSI6IHRydWUsCiAgIndlaWdodCI6IDMKfQogICAgICAgICAgICAgICAgKS5hZGRUbyhtYXBfNzQ3NTgyOTMyZGM1NDlmYjlmNzQ2ODYwMDVkYTFkYzUpOwogICAgICAgICAgICAKICAgIAogICAgICAgICAgICB2YXIgcG9wdXBfNGM3YjYyOGJkYTAyNDQ1MTlmNTcyNGM5ZDhkODhhMzYgPSBMLnBvcHVwKHttYXhXaWR0aDogJzMwMCd9KTsKCiAgICAgICAgICAgIAogICAgICAgICAgICAgICAgdmFyIGh0bWxfNzIyZmNkNjEzMzU3NGUwZDkxNzdhMGM1YmZhZjM5NzEgPSAkKCc8ZGl2IGlkPSJodG1sXzcyMmZjZDYxMzM1NzRlMGQ5MTc3YTBjNWJmYWYzOTcxIiBzdHlsZT0id2lkdGg6IDEwMC4wJTsgaGVpZ2h0OiAxMDAuMCU7Ij5NeSBIb3RlbDwvZGl2PicpWzBdOwogICAgICAgICAgICAgICAgcG9wdXBfNGM3YjYyOGJkYTAyNDQ1MTlmNTcyNGM5ZDhkODhhMzYuc2V0Q29udGVudChodG1sXzcyMmZjZDYxMzM1NzRlMGQ5MTc3YTBjNWJmYWYzOTcxKTsKICAgICAgICAgICAgCgogICAgICAgICAgICBjaXJjbGVfbWFya2VyXzhmNjJlYjM0ZDI4ZDRlMzQ5NDIyM2ZlYjIzYjRmNDkxLmJpbmRQb3B1cChwb3B1cF80YzdiNjI4YmRhMDI0NDUxOWY1NzI0YzlkOGQ4OGEzNik7CgogICAgICAgICAgICAKICAgICAgICAKICAgIAogICAgICAgICAgICB2YXIgY2lyY2xlX21hcmtlcl9jODI3MzI2MWM1Mjc0Y2E4ODc4YmRiM2IwNDIyZjg2NCA9IEwuY2lyY2xlTWFya2VyKAogICAgICAgICAgICAgICAgWzguMDc5MjUyLDc3LjU0OTkzMzhdLAogICAgICAgICAgICAgICAgewogICJidWJibGluZ01vdXNlRXZlbnRzIjogdHJ1ZSwKICAiY29sb3IiOiAicmVkIiwKICAiZGFzaEFycmF5IjogbnVsbCwKICAiZGFzaE9mZnNldCI6IG51bGwsCiAgImZpbGwiOiB0cnVlLAogICJmaWxsQ29sb3IiOiAicmVkIiwKICAiZmlsbE9wYWNpdHkiOiAwLjYsCiAgImZpbGxSdWxlIjogImV2ZW5vZGQiLAogICJsaW5lQ2FwIjogInJvdW5kIiwKICAibGluZUpvaW4iOiAicm91bmQiLAogICJvcGFjaXR5IjogMS4wLAogICJyYWRpdXMiOiAxMCwKICAic3Ryb2tlIjogdHJ1ZSwKICAid2VpZ2h0IjogMwp9CiAgICAgICAgICAgICAgICApLmFkZFRvKG1hcF83NDc1ODI5MzJkYzU0OWZiOWY3NDY4NjAwNWRhMWRjNSk7CiAgICAgICAgICAgIAogICAgCiAgICAgICAgICAgIHZhciBwb3B1cF9kYjg1NzIzMzVkYTE0YTMzOWI5ZmM1ODgyMmUzZDgxMSA9IEwucG9wdXAoe21heFdpZHRoOiAnMzAwJ30pOwoKICAgICAgICAgICAgCiAgICAgICAgICAgICAgICB2YXIgaHRtbF8yOTY4NzJhMmUzOWU0NjE3YjVjYTI3YjhkM2Y1OTJkYSA9ICQoJzxkaXYgaWQ9Imh0bWxfMjk2ODcyYTJlMzllNDYxN2I1Y2EyN2I4ZDNmNTkyZGEiIHN0eWxlPSJ3aWR0aDogMTAwLjAlOyBoZWlnaHQ6IDEwMC4wJTsiPkthbnlha3VtYXJpPC9kaXY+JylbMF07CiAgICAgICAgICAgICAgICBwb3B1cF9kYjg1NzIzMzVkYTE0YTMzOWI5ZmM1ODgyMmUzZDgxMS5zZXRDb250ZW50KGh0bWxfMjk2ODcyYTJlMzllNDYxN2I1Y2EyN2I4ZDNmNTkyZGEpOwogICAgICAgICAgICAKCiAgICAgICAgICAgIGNpcmNsZV9tYXJrZXJfYzgyNzMyNjFjNTI3NGNhODg3OGJkYjNiMDQyMmY4NjQuYmluZFBvcHVwKHBvcHVwX2RiODU3MjMzNWRhMTRhMzM5YjlmYzU4ODIyZTNkODExKTsKCiAgICAgICAgICAgIAogICAgICAgIAogICAgCiAgICAgICAgICAgIHZhciBjaXJjbGVfbWFya2VyX2Y0OTU3NzIxZjBiOTRhMjY4MGZiMzJiODE1OTRjNzQwID0gTC5jaXJjbGVNYXJrZXIoCiAgICAgICAgICAgICAgICBbOC4wODIzMzMyNjA2OTI4MzgsNzcuNTUxMjE2Nzk0MTY4MV0sCiAgICAgICAgICAgICAgICB7CiAgImJ1YmJsaW5nTW91c2VFdmVudHMiOiB0cnVlLAogICJjb2xvciI6ICJibHVlIiwKICAiZGFzaEFycmF5IjogbnVsbCwKICAiZGFzaE9mZnNldCI6IG51bGwsCiAgImZpbGwiOiB0cnVlLAogICJmaWxsQ29sb3IiOiAiYmx1ZSIsCiAgImZpbGxPcGFjaXR5IjogMC42LAogICJmaWxsUnVsZSI6ICJldmVub2RkIiwKICAibGluZUNhcCI6ICJyb3VuZCIsCiAgImxpbmVKb2luIjogInJvdW5kIiwKICAib3BhY2l0eSI6IDEuMCwKICAicmFkaXVzIjogNSwKICAic3Ryb2tlIjogdHJ1ZSwKICAid2VpZ2h0IjogMwp9CiAgICAgICAgICAgICAgICApLmFkZFRvKG1hcF83NDc1ODI5MzJkYzU0OWZiOWY3NDY4NjAwNWRhMWRjNSk7CiAgICAgICAgICAgIAogICAgCiAgICAgICAgICAgIHZhciBwb3B1cF9mMzlhNjBjNTI0NzI0MDg3YjQwMmFmZGRlYzM3MWMwNSA9IEwucG9wdXAoe21heFdpZHRoOiAnMzAwJ30pOwoKICAgICAgICAgICAgCiAgICAgICAgICAgICAgICB2YXIgaHRtbF8zNWE3NTk1OGY4NzE0YzA2Yjc3N2Q1ZGMxYTljMGUxNSA9ICQoJzxkaXYgaWQ9Imh0bWxfMzVhNzU5NThmODcxNGMwNmI3NzdkNWRjMWE5YzBlMTUiIHN0eWxlPSJ3aWR0aDogMTAwLjAlOyBoZWlnaHQ6IDEwMC4wJTsiPkhvdGVsIFNlYVZpZXc8L2Rpdj4nKVswXTsKICAgICAgICAgICAgICAgIHBvcHVwX2YzOWE2MGM1MjQ3MjQwODdiNDAyYWZkZGVjMzcxYzA1LnNldENvbnRlbnQoaHRtbF8zNWE3NTk1OGY4NzE0YzA2Yjc3N2Q1ZGMxYTljMGUxNSk7CiAgICAgICAgICAgIAoKICAgICAgICAgICAgY2lyY2xlX21hcmtlcl9mNDk1NzcyMWYwYjk0YTI2ODBmYjMyYjgxNTk0Yzc0MC5iaW5kUG9wdXAocG9wdXBfZjM5YTYwYzUyNDcyNDA4N2I0MDJhZmRkZWMzNzFjMDUpOwoKICAgICAgICAgICAgCiAgICAgICAgCiAgICAKICAgICAgICAgICAgdmFyIGNpcmNsZV9tYXJrZXJfNzIwMGIyMTY5MWRkNGU0ZjlkNzhmZmFlMGNlNTNmNWYgPSBMLmNpcmNsZU1hcmtlcigKICAgICAgICAgICAgICAgIFs4LjA4MDU4MDU1NDAwNTE2Nyw3Ny41NTA4NjEzMjUzMjQzNl0sCiAgICAgICAgICAgICAgICB7CiAgImJ1YmJsaW5nTW91c2VFdmVudHMiOiB0cnVlLAogICJjb2xvciI6ICJibHVlIiwKICAiZGFzaEFycmF5IjogbnVsbCwKICAiZGFzaE9mZnNldCI6IG51bGwsCiAgImZpbGwiOiB0cnVlLAogICJmaWxsQ29sb3IiOiAiYmx1ZSIsCiAgImZpbGxPcGFjaXR5IjogMC42LAogICJmaWxsUnVsZSI6ICJldmVub2RkIiwKICAibGluZUNhcCI6ICJyb3VuZCIsCiAgImxpbmVKb2luIjogInJvdW5kIiwKICAib3BhY2l0eSI6IDEuMCwKICAicmFkaXVzIjogNSwKICAic3Ryb2tlIjogdHJ1ZSwKICAid2VpZ2h0IjogMwp9CiAgICAgICAgICAgICAgICApLmFkZFRvKG1hcF83NDc1ODI5MzJkYzU0OWZiOWY3NDY4NjAwNWRhMWRjNSk7CiAgICAgICAgICAgIAogICAgCiAgICAgICAgICAgIHZhciBwb3B1cF81OWRhYTcwYjllZDY0ZjQ5YjJkZTg4NmQ3NDdiMTkzNyA9IEwucG9wdXAoe21heFdpZHRoOiAnMzAwJ30pOwoKICAgICAgICAgICAgCiAgICAgICAgICAgICAgICB2YXIgaHRtbF84MWFiNmQwODkyMGQ0MzY1ODYyNzc5ZDE1YThkYjU1YSA9ICQoJzxkaXYgaWQ9Imh0bWxfODFhYjZkMDg5MjBkNDM2NTg2Mjc3OWQxNWE4ZGI1NWEiIHN0eWxlPSJ3aWR0aDogMTAwLjAlOyBoZWlnaHQ6IDEwMC4wJTsiPkhvdGVsIFNhcnZhbmE8L2Rpdj4nKVswXTsKICAgICAgICAgICAgICAgIHBvcHVwXzU5ZGFhNzBiOWVkNjRmNDliMmRlODg2ZDc0N2IxOTM3LnNldENvbnRlbnQoaHRtbF84MWFiNmQwODkyMGQ0MzY1ODYyNzc5ZDE1YThkYjU1YSk7CiAgICAgICAgICAgIAoKICAgICAgICAgICAgY2lyY2xlX21hcmtlcl83MjAwYjIxNjkxZGQ0ZTRmOWQ3OGZmYWUwY2U1M2Y1Zi5iaW5kUG9wdXAocG9wdXBfNTlkYWE3MGI5ZWQ2NGY0OWIyZGU4ODZkNzQ3YjE5MzcpOwoKICAgICAgICAgICAgCiAgICAgICAgCiAgICAKICAgICAgICAgICAgdmFyIGNpcmNsZV9tYXJrZXJfOTA4OGQ0ODdhZGZmNDNiNWIwNmNmYWI5OTAxNjYzZDcgPSBMLmNpcmNsZU1hcmtlcigKICAgICAgICAgICAgICAgIFs4LjA4MDg3OTIxMTQyNTc4MSw3Ny41NTA4MzQ2NTU3NjE3Ml0sCiAgICAgICAgICAgICAgICB7CiAgImJ1YmJsaW5nTW91c2VFdmVudHMiOiB0cnVlLAogICJjb2xvciI6ICJibHVlIiwKICAiZGFzaEFycmF5IjogbnVsbCwKICAiZGFzaE9mZnNldCI6IG51bGwsCiAgImZpbGwiOiB0cnVlLAogICJmaWxsQ29sb3IiOiAiYmx1ZSIsCiAgImZpbGxPcGFjaXR5IjogMC42LAogICJmaWxsUnVsZSI6ICJldmVub2RkIiwKICAibGluZUNhcCI6ICJyb3VuZCIsCiAgImxpbmVKb2luIjogInJvdW5kIiwKICAib3BhY2l0eSI6IDEuMCwKICAicmFkaXVzIjogNSwKICAic3Ryb2tlIjogdHJ1ZSwKICAid2VpZ2h0IjogMwp9CiAgICAgICAgICAgICAgICApLmFkZFRvKG1hcF83NDc1ODI5MzJkYzU0OWZiOWY3NDY4NjAwNWRhMWRjNSk7CiAgICAgICAgICAgIAogICAgCiAgICAgICAgICAgIHZhciBwb3B1cF9jMDgwNjE0Mzg2YWM0OGQyODlkZmQ2NGRjNmYzMDQ0YSA9IEwucG9wdXAoe21heFdpZHRoOiAnMzAwJ30pOwoKICAgICAgICAgICAgCiAgICAgICAgICAgICAgICB2YXIgaHRtbF8wZjZjOWMxNjBkMjk0Nzc3OGViNWQ0OGQ5M2I0MTA3ZiA9ICQoJzxkaXYgaWQ9Imh0bWxfMGY2YzljMTYwZDI5NDc3NzhlYjVkNDhkOTNiNDEwN2YiIHN0eWxlPSJ3aWR0aDogMTAwLjAlOyBoZWlnaHQ6IDEwMC4wJTsiPkhvdGVsIEFubmFwb29ybmE8L2Rpdj4nKVswXTsKICAgICAgICAgICAgICAgIHBvcHVwX2MwODA2MTQzODZhYzQ4ZDI4OWRmZDY0ZGM2ZjMwNDRhLnNldENvbnRlbnQoaHRtbF8wZjZjOWMxNjBkMjk0Nzc3OGViNWQ0OGQ5M2I0MTA3Zik7CiAgICAgICAgICAgIAoKICAgICAgICAgICAgY2lyY2xlX21hcmtlcl85MDg4ZDQ4N2FkZmY0M2I1YjA2Y2ZhYjk5MDE2NjNkNy5iaW5kUG9wdXAocG9wdXBfYzA4MDYxNDM4NmFjNDhkMjg5ZGZkNjRkYzZmMzA0NGEpOwoKICAgICAgICAgICAgCiAgICAgICAgCiAgICAKICAgICAgICAgICAgdmFyIGNpcmNsZV9tYXJrZXJfM2MxODdiMmUxYTdmNDA0NWEyMTI4MGExMjgzYTc1NTMgPSBMLmNpcmNsZU1hcmtlcigKICAgICAgICAgICAgICAgIFs4LjA4MDY0MjQxODUyNDUwMyw3Ny41NTExMDIwMzY2NTg5Ml0sCiAgICAgICAgICAgICAgICB7CiAgImJ1YmJsaW5nTW91c2VFdmVudHMiOiB0cnVlLAogICJjb2xvciI6ICJibHVlIiwKICAiZGFzaEFycmF5IjogbnVsbCwKICAiZGFzaE9mZnNldCI6IG51bGwsCiAgImZpbGwiOiB0cnVlLAogICJmaWxsQ29sb3IiOiAiYmx1ZSIsCiAgImZpbGxPcGFjaXR5IjogMC42LAogICJmaWxsUnVsZSI6ICJldmVub2RkIiwKICAibGluZUNhcCI6ICJyb3VuZCIsCiAgImxpbmVKb2luIjogInJvdW5kIiwKICAib3BhY2l0eSI6IDEuMCwKICAicmFkaXVzIjogNSwKICAic3Ryb2tlIjogdHJ1ZSwKICAid2VpZ2h0IjogMwp9CiAgICAgICAgICAgICAgICApLmFkZFRvKG1hcF83NDc1ODI5MzJkYzU0OWZiOWY3NDY4NjAwNWRhMWRjNSk7CiAgICAgICAgICAgIAogICAgCiAgICAgICAgICAgIHZhciBwb3B1cF8wMjEzMmE4ZDRlZjI0OGU3OTExNWIzYWRiY2E3Zjg1MiA9IEwucG9wdXAoe21heFdpZHRoOiAnMzAwJ30pOwoKICAgICAgICAgICAgCiAgICAgICAgICAgICAgICB2YXIgaHRtbF9lYTQyNjRmYmRjZWM0ODA2YTQ2ZTg4ZmM0NTQ1MzFmZiA9ICQoJzxkaXYgaWQ9Imh0bWxfZWE0MjY0ZmJkY2VjNDgwNmE0NmU4OGZjNDU0NTMxZmYiIHN0eWxlPSJ3aWR0aDogMTAwLjAlOyBoZWlnaHQ6IDEwMC4wJTsiPkhvdGVsIFNhbXVkcmE8L2Rpdj4nKVswXTsKICAgICAgICAgICAgICAgIHBvcHVwXzAyMTMyYThkNGVmMjQ4ZTc5MTE1YjNhZGJjYTdmODUyLnNldENvbnRlbnQoaHRtbF9lYTQyNjRmYmRjZWM0ODA2YTQ2ZTg4ZmM0NTQ1MzFmZik7CiAgICAgICAgICAgIAoKICAgICAgICAgICAgY2lyY2xlX21hcmtlcl8zYzE4N2IyZTFhN2Y0MDQ1YTIxMjgwYTEyODNhNzU1My5iaW5kUG9wdXAocG9wdXBfMDIxMzJhOGQ0ZWYyNDhlNzkxMTViM2FkYmNhN2Y4NTIpOwoKICAgICAgICAgICAgCiAgICAgICAgCiAgICAKICAgICAgICAgICAgdmFyIGNpcmNsZV9tYXJrZXJfZjc2MGY2Yzc3OTA1NDA2NjlkMTQzZWRmYjAyMjFhMGMgPSBMLmNpcmNsZU1hcmtlcigKICAgICAgICAgICAgICAgIFs4LjA4MTQ3NTI5NTA0ODEyNyw3Ny41NDg5NjkyMDQ0OTkwN10sCiAgICAgICAgICAgICAgICB7CiAgImJ1YmJsaW5nTW91c2VFdmVudHMiOiB0cnVlLAogICJjb2xvciI6ICJibHVlIiwKICAiZGFzaEFycmF5IjogbnVsbCwKICAiZGFzaE9mZnNldCI6IG51bGwsCiAgImZpbGwiOiB0cnVlLAogICJmaWxsQ29sb3IiOiAiYmx1ZSIsCiAgImZpbGxPcGFjaXR5IjogMC42LAogICJmaWxsUnVsZSI6ICJldmVub2RkIiwKICAibGluZUNhcCI6ICJyb3VuZCIsCiAgImxpbmVKb2luIjogInJvdW5kIiwKICAib3BhY2l0eSI6IDEuMCwKICAicmFkaXVzIjogNSwKICAic3Ryb2tlIjogdHJ1ZSwKICAid2VpZ2h0IjogMwp9CiAgICAgICAgICAgICAgICApLmFkZFRvKG1hcF83NDc1ODI5MzJkYzU0OWZiOWY3NDY4NjAwNWRhMWRjNSk7CiAgICAgICAgICAgIAogICAgCiAgICAgICAgICAgIHZhciBwb3B1cF81NTQ0OTQ4YmQxMTQ0MTQwOWM4NGViNTFmNjFjYWE4NiA9IEwucG9wdXAoe21heFdpZHRoOiAnMzAwJ30pOwoKICAgICAgICAgICAgCiAgICAgICAgICAgICAgICB2YXIgaHRtbF81ZGI0ZTA3Zjc3Yzk0OGM3YTU0NmQ4NTkxMTg3OTJiYiA9ICQoJzxkaXYgaWQ9Imh0bWxfNWRiNGUwN2Y3N2M5NDhjN2E1NDZkODU5MTE4NzkyYmIiIHN0eWxlPSJ3aWR0aDogMTAwLjAlOyBoZWlnaHQ6IDEwMC4wJTsiPkhvdGVsIFRyaXNlYTwvZGl2PicpWzBdOwogICAgICAgICAgICAgICAgcG9wdXBfNTU0NDk0OGJkMTE0NDE0MDljODRlYjUxZjYxY2FhODYuc2V0Q29udGVudChodG1sXzVkYjRlMDdmNzdjOTQ4YzdhNTQ2ZDg1OTExODc5MmJiKTsKICAgICAgICAgICAgCgogICAgICAgICAgICBjaXJjbGVfbWFya2VyX2Y3NjBmNmM3NzkwNTQwNjY5ZDE0M2VkZmIwMjIxYTBjLmJpbmRQb3B1cChwb3B1cF81NTQ0OTQ4YmQxMTQ0MTQwOWM4NGViNTFmNjFjYWE4Nik7CgogICAgICAgICAgICAKICAgICAgICAKICAgIAogICAgICAgICAgICB2YXIgY2lyY2xlX21hcmtlcl82NTZlZjY0OTMxMmU0NDlmYjJmNGEzZTdjNWRiMGI1YiA9IEwuY2lyY2xlTWFya2VyKAogICAgICAgICAgICAgICAgWzguMDgxNjc5NjkzOTY1ODgxLDc3LjU0ODgwMTI2MzI1Njk2XSwKICAgICAgICAgICAgICAgIHsKICAiYnViYmxpbmdNb3VzZUV2ZW50cyI6IHRydWUsCiAgImNvbG9yIjogImJsdWUiLAogICJkYXNoQXJyYXkiOiBudWxsLAogICJkYXNoT2Zmc2V0IjogbnVsbCwKICAiZmlsbCI6IHRydWUsCiAgImZpbGxDb2xvciI6ICJibHVlIiwKICAiZmlsbE9wYWNpdHkiOiAwLjYsCiAgImZpbGxSdWxlIjogImV2ZW5vZGQiLAogICJsaW5lQ2FwIjogInJvdW5kIiwKICAibGluZUpvaW4iOiAicm91bmQiLAogICJvcGFjaXR5IjogMS4wLAogICJyYWRpdXMiOiA1LAogICJzdHJva2UiOiB0cnVlLAogICJ3ZWlnaHQiOiAzCn0KICAgICAgICAgICAgICAgICkuYWRkVG8obWFwXzc0NzU4MjkzMmRjNTQ5ZmI5Zjc0Njg2MDA1ZGExZGM1KTsKICAgICAgICAgICAgCiAgICAKICAgICAgICAgICAgdmFyIHBvcHVwXzE5NDY4YzJhZDcxZTQ5MGY5MmNhODVmZTNkNDQ4MzhiID0gTC5wb3B1cCh7bWF4V2lkdGg6ICczMDAnfSk7CgogICAgICAgICAgICAKICAgICAgICAgICAgICAgIHZhciBodG1sXzk2MDBhODA4NDk5YzQ3Y2NhMmM2MDFmYWFiOGIzYjdiID0gJCgnPGRpdiBpZD0iaHRtbF85NjAwYTgwODQ5OWM0N2NjYTJjNjAxZmFhYjhiM2I3YiIgc3R5bGU9IndpZHRoOiAxMDAuMCU7IGhlaWdodDogMTAwLjAlOyI+SG90ZWwgU3VuIFdvcmxkPC9kaXY+JylbMF07CiAgICAgICAgICAgICAgICBwb3B1cF8xOTQ2OGMyYWQ3MWU0OTBmOTJjYTg1ZmUzZDQ0ODM4Yi5zZXRDb250ZW50KGh0bWxfOTYwMGE4MDg0OTljNDdjY2EyYzYwMWZhYWI4YjNiN2IpOwogICAgICAgICAgICAKCiAgICAgICAgICAgIGNpcmNsZV9tYXJrZXJfNjU2ZWY2NDkzMTJlNDQ5ZmIyZjRhM2U3YzVkYjBiNWIuYmluZFBvcHVwKHBvcHVwXzE5NDY4YzJhZDcxZTQ5MGY5MmNhODVmZTNkNDQ4MzhiKTsKCiAgICAgICAgICAgIAogICAgICAgIAogICAgCiAgICAgICAgICAgIHZhciBjaXJjbGVfbWFya2VyXzI4NjUyZTE1ZWFiMDRjZmJiNTUyMTVlYTFlMjkzY2NkID0gTC5jaXJjbGVNYXJrZXIoCiAgICAgICAgICAgICAgICBbOC4wODIzMTUsNzcuNTQ5NzFdLAogICAgICAgICAgICAgICAgewogICJidWJibGluZ01vdXNlRXZlbnRzIjogdHJ1ZSwKICAiY29sb3IiOiAiYmx1ZSIsCiAgImRhc2hBcnJheSI6IG51bGwsCiAgImRhc2hPZmZzZXQiOiBudWxsLAogICJmaWxsIjogdHJ1ZSwKICAiZmlsbENvbG9yIjogImJsdWUiLAogICJmaWxsT3BhY2l0eSI6IDAuNiwKICAiZmlsbFJ1bGUiOiAiZXZlbm9kZCIsCiAgImxpbmVDYXAiOiAicm91bmQiLAogICJsaW5lSm9pbiI6ICJyb3VuZCIsCiAgIm9wYWNpdHkiOiAxLjAsCiAgInJhZGl1cyI6IDUsCiAgInN0cm9rZSI6IHRydWUsCiAgIndlaWdodCI6IDMKfQogICAgICAgICAgICAgICAgKS5hZGRUbyhtYXBfNzQ3NTgyOTMyZGM1NDlmYjlmNzQ2ODYwMDVkYTFkYzUpOwogICAgICAgICAgICAKICAgIAogICAgICAgICAgICB2YXIgcG9wdXBfY2VlYjE1MDI3YzVhNGE1NmJjNzZjMjc5NjQ1ZDQ0YTAgPSBMLnBvcHVwKHttYXhXaWR0aDogJzMwMCd9KTsKCiAgICAgICAgICAgIAogICAgICAgICAgICAgICAgdmFyIGh0bWxfMmFiZGQyNGEzOWZlNDhhZmI4MDcwNjM0OGQ2YzdmMmIgPSAkKCc8ZGl2IGlkPSJodG1sXzJhYmRkMjRhMzlmZTQ4YWZiODA3MDYzNDhkNmM3ZjJiIiBzdHlsZT0id2lkdGg6IDEwMC4wJTsgaGVpZ2h0OiAxMDAuMCU7Ij5Ib3RlbCBWaXN3YTwvZGl2PicpWzBdOwogICAgICAgICAgICAgICAgcG9wdXBfY2VlYjE1MDI3YzVhNGE1NmJjNzZjMjc5NjQ1ZDQ0YTAuc2V0Q29udGVudChodG1sXzJhYmRkMjRhMzlmZTQ4YWZiODA3MDYzNDhkNmM3ZjJiKTsKICAgICAgICAgICAgCgogICAgICAgICAgICBjaXJjbGVfbWFya2VyXzI4NjUyZTE1ZWFiMDRjZmJiNTUyMTVlYTFlMjkzY2NkLmJpbmRQb3B1cChwb3B1cF9jZWViMTUwMjdjNWE0YTU2YmM3NmMyNzk2NDVkNDRhMCk7CgogICAgICAgICAgICAKICAgICAgICAKICAgIAogICAgICAgICAgICB2YXIgY2lyY2xlX21hcmtlcl9kYThhOWE3MDEyN2E0NWYyYWU2OTNhMjBmY2YyMGJhNiA9IEwuY2lyY2xlTWFya2VyKAogICAgICAgICAgICAgICAgWzguMDgyMTAxOTI5NzQ5ODM4LDc3LjU1MDgzMzMzNTYwMTE3XSwKICAgICAgICAgICAgICAgIHsKICAiYnViYmxpbmdNb3VzZUV2ZW50cyI6IHRydWUsCiAgImNvbG9yIjogImJsdWUiLAogICJkYXNoQXJyYXkiOiBudWxsLAogICJkYXNoT2Zmc2V0IjogbnVsbCwKICAiZmlsbCI6IHRydWUsCiAgImZpbGxDb2xvciI6ICJibHVlIiwKICAiZmlsbE9wYWNpdHkiOiAwLjYsCiAgImZpbGxSdWxlIjogImV2ZW5vZGQiLAogICJsaW5lQ2FwIjogInJvdW5kIiwKICAibGluZUpvaW4iOiAicm91bmQiLAogICJvcGFjaXR5IjogMS4wLAogICJyYWRpdXMiOiA1LAogICJzdHJva2UiOiB0cnVlLAogICJ3ZWlnaHQiOiAzCn0KICAgICAgICAgICAgICAgICkuYWRkVG8obWFwXzc0NzU4MjkzMmRjNTQ5ZmI5Zjc0Njg2MDA1ZGExZGM1KTsKICAgICAgICAgICAgCiAgICAKICAgICAgICAgICAgdmFyIHBvcHVwX2U5ZWFiODZhYTViNjQwNWViMzljY2ExNDcxYzdkNmIyID0gTC5wb3B1cCh7bWF4V2lkdGg6ICczMDAnfSk7CgogICAgICAgICAgICAKICAgICAgICAgICAgICAgIHZhciBodG1sXzUyYTQ4ODlmOWZiODRlNDBhY2RmZTQ2ZWRjOGZhMDdiID0gJCgnPGRpdiBpZD0iaHRtbF81MmE0ODg5ZjlmYjg0ZTQwYWNkZmU0NmVkYzhmYTA3YiIgc3R5bGU9IndpZHRoOiAxMDAuMCU7IGhlaWdodDogMTAwLjAlOyI+SG90ZWwgU2VhIEZhY2U8L2Rpdj4nKVswXTsKICAgICAgICAgICAgICAgIHBvcHVwX2U5ZWFiODZhYTViNjQwNWViMzljY2ExNDcxYzdkNmIyLnNldENvbnRlbnQoaHRtbF81MmE0ODg5ZjlmYjg0ZTQwYWNkZmU0NmVkYzhmYTA3Yik7CiAgICAgICAgICAgIAoKICAgICAgICAgICAgY2lyY2xlX21hcmtlcl9kYThhOWE3MDEyN2E0NWYyYWU2OTNhMjBmY2YyMGJhNi5iaW5kUG9wdXAocG9wdXBfZTllYWI4NmFhNWI2NDA1ZWIzOWNjYTE0NzFjN2Q2YjIpOwoKICAgICAgICAgICAgCiAgICAgICAgCiAgICAKICAgICAgICAgICAgdmFyIGNpcmNsZV9tYXJrZXJfNThjNWU0ZWIzNWM1NDkyOWE4YTUyMzJjNTMxMjI2MzYgPSBMLmNpcmNsZU1hcmtlcigKICAgICAgICAgICAgICAgIFs4LjA3OTE0OTEyMzIzNzgxMiw3Ny41NTE0NjAzMDM3NDYzMV0sCiAgICAgICAgICAgICAgICB7CiAgImJ1YmJsaW5nTW91c2VFdmVudHMiOiB0cnVlLAogICJjb2xvciI6ICJibHVlIiwKICAiZGFzaEFycmF5IjogbnVsbCwKICAiZGFzaE9mZnNldCI6IG51bGwsCiAgImZpbGwiOiB0cnVlLAogICJmaWxsQ29sb3IiOiAiYmx1ZSIsCiAgImZpbGxPcGFjaXR5IjogMC42LAogICJmaWxsUnVsZSI6ICJldmVub2RkIiwKICAibGluZUNhcCI6ICJyb3VuZCIsCiAgImxpbmVKb2luIjogInJvdW5kIiwKICAib3BhY2l0eSI6IDEuMCwKICAicmFkaXVzIjogNSwKICAic3Ryb2tlIjogdHJ1ZSwKICAid2VpZ2h0IjogMwp9CiAgICAgICAgICAgICAgICApLmFkZFRvKG1hcF83NDc1ODI5MzJkYzU0OWZiOWY3NDY4NjAwNWRhMWRjNSk7CiAgICAgICAgICAgIAogICAgCiAgICAgICAgICAgIHZhciBwb3B1cF8wNjc2YjAzODhmN2U0ZmNkYWVlYjIyZGZiNWFkNzM5ZiA9IEwucG9wdXAoe21heFdpZHRoOiAnMzAwJ30pOwoKICAgICAgICAgICAgCiAgICAgICAgICAgICAgICB2YXIgaHRtbF9mZWJkYjM5OTNkYzE0YzdmOGQyNTBkNDM3NjVkMDA4MiA9ICQoJzxkaXYgaWQ9Imh0bWxfZmViZGIzOTkzZGMxNGM3ZjhkMjUwZDQzNzY1ZDAwODIiIHN0eWxlPSJ3aWR0aDogMTAwLjAlOyBoZWlnaHQ6IDEwMC4wJTsiPlRyaSBTdGFyIEhvdGVsPC9kaXY+JylbMF07CiAgICAgICAgICAgICAgICBwb3B1cF8wNjc2YjAzODhmN2U0ZmNkYWVlYjIyZGZiNWFkNzM5Zi5zZXRDb250ZW50KGh0bWxfZmViZGIzOTkzZGMxNGM3ZjhkMjUwZDQzNzY1ZDAwODIpOwogICAgICAgICAgICAKCiAgICAgICAgICAgIGNpcmNsZV9tYXJrZXJfNThjNWU0ZWIzNWM1NDkyOWE4YTUyMzJjNTMxMjI2MzYuYmluZFBvcHVwKHBvcHVwXzA2NzZiMDM4OGY3ZTRmY2RhZWViMjJkZmI1YWQ3MzlmKTsKCiAgICAgICAgICAgIAogICAgICAgIAogICAgCiAgICAgICAgICAgIHZhciBjaXJjbGVfbWFya2VyXzA4NzU1ZmY1ZTIwZDQ0ZTI5M2E3NGMzMzVlMGZjM2RjID0gTC5jaXJjbGVNYXJrZXIoCiAgICAgICAgICAgICAgICBbOC4wODA1NTYyODQ0NTIxNzksNzcuNTQ2NzY5MTU0NTM4Nl0sCiAgICAgICAgICAgICAgICB7CiAgImJ1YmJsaW5nTW91c2VFdmVudHMiOiB0cnVlLAogICJjb2xvciI6ICJibHVlIiwKICAiZGFzaEFycmF5IjogbnVsbCwKICAiZGFzaE9mZnNldCI6IG51bGwsCiAgImZpbGwiOiB0cnVlLAogICJmaWxsQ29sb3IiOiAiYmx1ZSIsCiAgImZpbGxPcGFjaXR5IjogMC42LAogICJmaWxsUnVsZSI6ICJldmVub2RkIiwKICAibGluZUNhcCI6ICJyb3VuZCIsCiAgImxpbmVKb2luIjogInJvdW5kIiwKICAib3BhY2l0eSI6IDEuMCwKICAicmFkaXVzIjogNSwKICAic3Ryb2tlIjogdHJ1ZSwKICAid2VpZ2h0IjogMwp9CiAgICAgICAgICAgICAgICApLmFkZFRvKG1hcF83NDc1ODI5MzJkYzU0OWZiOWY3NDY4NjAwNWRhMWRjNSk7CiAgICAgICAgICAgIAogICAgCiAgICAgICAgICAgIHZhciBwb3B1cF9jMDU2OTg0YmU1NGQ0MmE1OTI3NDkxMThhOTdmMTUzNiA9IEwucG9wdXAoe21heFdpZHRoOiAnMzAwJ30pOwoKICAgICAgICAgICAgCiAgICAgICAgICAgICAgICB2YXIgaHRtbF9iYjAyYjI1OTVlMjQ0NmJiOTU0ODA1M2E5ZmQyODVkYyA9ICQoJzxkaXYgaWQ9Imh0bWxfYmIwMmIyNTk1ZTI0NDZiYjk1NDgwNTNhOWZkMjg1ZGMiIHN0eWxlPSJ3aWR0aDogMTAwLjAlOyBoZWlnaHQ6IDEwMC4wJTsiPkhvdGVsIFRhbWlsbmFkdTwvZGl2PicpWzBdOwogICAgICAgICAgICAgICAgcG9wdXBfYzA1Njk4NGJlNTRkNDJhNTkyNzQ5MTE4YTk3ZjE1MzYuc2V0Q29udGVudChodG1sX2JiMDJiMjU5NWUyNDQ2YmI5NTQ4MDUzYTlmZDI4NWRjKTsKICAgICAgICAgICAgCgogICAgICAgICAgICBjaXJjbGVfbWFya2VyXzA4NzU1ZmY1ZTIwZDQ0ZTI5M2E3NGMzMzVlMGZjM2RjLmJpbmRQb3B1cChwb3B1cF9jMDU2OTg0YmU1NGQ0MmE1OTI3NDkxMThhOTdmMTUzNik7CgogICAgICAgICAgICAKICAgICAgICAKICAgIAogICAgICAgICAgICB2YXIgY2lyY2xlX21hcmtlcl8yZjVkMjE4OGU5NGQ0NTBkOTgzNzhjZTFmYzc4NTk2MSA9IEwuY2lyY2xlTWFya2VyKAogICAgICAgICAgICAgICAgWzguMDgyNzM2LDc3LjU1MDY3NF0sCiAgICAgICAgICAgICAgICB7CiAgImJ1YmJsaW5nTW91c2VFdmVudHMiOiB0cnVlLAogICJjb2xvciI6ICJibHVlIiwKICAiZGFzaEFycmF5IjogbnVsbCwKICAiZGFzaE9mZnNldCI6IG51bGwsCiAgImZpbGwiOiB0cnVlLAogICJmaWxsQ29sb3IiOiAiYmx1ZSIsCiAgImZpbGxPcGFjaXR5IjogMC42LAogICJmaWxsUnVsZSI6ICJldmVub2RkIiwKICAibGluZUNhcCI6ICJyb3VuZCIsCiAgImxpbmVKb2luIjogInJvdW5kIiwKICAib3BhY2l0eSI6IDEuMCwKICAicmFkaXVzIjogNSwKICAic3Ryb2tlIjogdHJ1ZSwKICAid2VpZ2h0IjogMwp9CiAgICAgICAgICAgICAgICApLmFkZFRvKG1hcF83NDc1ODI5MzJkYzU0OWZiOWY3NDY4NjAwNWRhMWRjNSk7CiAgICAgICAgICAgIAogICAgCiAgICAgICAgICAgIHZhciBwb3B1cF8xNzE4MDAzNjIzZjM0MGUyOTE4NzlhNmVkNWYzMTdiMiA9IEwucG9wdXAoe21heFdpZHRoOiAnMzAwJ30pOwoKICAgICAgICAgICAgCiAgICAgICAgICAgICAgICB2YXIgaHRtbF81MDA0ODE1NjBjYzI0NGI1YjIzY2M4MDEzMzQxYmJmZCA9ICQoJzxkaXYgaWQ9Imh0bWxfNTAwNDgxNTYwY2MyNDRiNWIyM2NjODAxMzM0MWJiZmQiIHN0eWxlPSJ3aWR0aDogMTAwLjAlOyBoZWlnaHQ6IDEwMC4wJTsiPkhvdGVsIEpvaG48L2Rpdj4nKVswXTsKICAgICAgICAgICAgICAgIHBvcHVwXzE3MTgwMDM2MjNmMzQwZTI5MTg3OWE2ZWQ1ZjMxN2IyLnNldENvbnRlbnQoaHRtbF81MDA0ODE1NjBjYzI0NGI1YjIzY2M4MDEzMzQxYmJmZCk7CiAgICAgICAgICAgIAoKICAgICAgICAgICAgY2lyY2xlX21hcmtlcl8yZjVkMjE4OGU5NGQ0NTBkOTgzNzhjZTFmYzc4NTk2MS5iaW5kUG9wdXAocG9wdXBfMTcxODAwMzYyM2YzNDBlMjkxODc5YTZlZDVmMzE3YjIpOwoKICAgICAgICAgICAgCiAgICAgICAgCiAgICAKICAgICAgICAgICAgdmFyIGNpcmNsZV9tYXJrZXJfNjcwOGMzYTNlYmIxNGMwY2I0OTgzZDg1YjE0YjE1OWYgPSBMLmNpcmNsZU1hcmtlcigKICAgICAgICAgICAgICAgIFs4LjA4MjU4MTg0NTAxMTA0NCw3Ny41NTE0MDQzMjQ1ODg0N10sCiAgICAgICAgICAgICAgICB7CiAgImJ1YmJsaW5nTW91c2VFdmVudHMiOiB0cnVlLAogICJjb2xvciI6ICJibHVlIiwKICAiZGFzaEFycmF5IjogbnVsbCwKICAiZGFzaE9mZnNldCI6IG51bGwsCiAgImZpbGwiOiB0cnVlLAogICJmaWxsQ29sb3IiOiAiYmx1ZSIsCiAgImZpbGxPcGFjaXR5IjogMC42LAogICJmaWxsUnVsZSI6ICJldmVub2RkIiwKICAibGluZUNhcCI6ICJyb3VuZCIsCiAgImxpbmVKb2luIjogInJvdW5kIiwKICAib3BhY2l0eSI6IDEuMCwKICAicmFkaXVzIjogNSwKICAic3Ryb2tlIjogdHJ1ZSwKICAid2VpZ2h0IjogMwp9CiAgICAgICAgICAgICAgICApLmFkZFRvKG1hcF83NDc1ODI5MzJkYzU0OWZiOWY3NDY4NjAwNWRhMWRjNSk7CiAgICAgICAgICAgIAogICAgCiAgICAgICAgICAgIHZhciBwb3B1cF9jZjFhMzFlYzUwMGQ0ODRkODdjNTQyMDI2YTU1OWJmMSA9IEwucG9wdXAoe21heFdpZHRoOiAnMzAwJ30pOwoKICAgICAgICAgICAgCiAgICAgICAgICAgICAgICB2YXIgaHRtbF9lZDE1ZTFlYjkyYmI0ZjhmOWI2ZTgyM2Y3NjA3NDA4ZiA9ICQoJzxkaXYgaWQ9Imh0bWxfZWQxNWUxZWI5MmJiNGY4ZjliNmU4MjNmNzYwNzQwOGYiIHN0eWxlPSJ3aWR0aDogMTAwLjAlOyBoZWlnaHQ6IDEwMC4wJTsiPkhvdGVsIFRoZSBHb3Bpbml2YXMgR3JhbmQ8L2Rpdj4nKVswXTsKICAgICAgICAgICAgICAgIHBvcHVwX2NmMWEzMWVjNTAwZDQ4NGQ4N2M1NDIwMjZhNTU5YmYxLnNldENvbnRlbnQoaHRtbF9lZDE1ZTFlYjkyYmI0ZjhmOWI2ZTgyM2Y3NjA3NDA4Zik7CiAgICAgICAgICAgIAoKICAgICAgICAgICAgY2lyY2xlX21hcmtlcl82NzA4YzNhM2ViYjE0YzBjYjQ5ODNkODViMTRiMTU5Zi5iaW5kUG9wdXAocG9wdXBfY2YxYTMxZWM1MDBkNDg0ZDg3YzU0MjAyNmE1NTliZjEpOwoKICAgICAgICAgICAgCiAgICAgICAgCiAgICAKICAgICAgICAgICAgdmFyIGNpcmNsZV9tYXJrZXJfZmM5ODViZDAzMWRiNDg2ZWI4ZmE0YmQ5ZDUwMDdmMGIgPSBMLmNpcmNsZU1hcmtlcigKICAgICAgICAgICAgICAgIFs4LjA4Mjk2Niw3Ny41NDk2MV0sCiAgICAgICAgICAgICAgICB7CiAgImJ1YmJsaW5nTW91c2VFdmVudHMiOiB0cnVlLAogICJjb2xvciI6ICJibHVlIiwKICAiZGFzaEFycmF5IjogbnVsbCwKICAiZGFzaE9mZnNldCI6IG51bGwsCiAgImZpbGwiOiB0cnVlLAogICJmaWxsQ29sb3IiOiAiYmx1ZSIsCiAgImZpbGxPcGFjaXR5IjogMC42LAogICJmaWxsUnVsZSI6ICJldmVub2RkIiwKICAibGluZUNhcCI6ICJyb3VuZCIsCiAgImxpbmVKb2luIjogInJvdW5kIiwKICAib3BhY2l0eSI6IDEuMCwKICAicmFkaXVzIjogNSwKICAic3Ryb2tlIjogdHJ1ZSwKICAid2VpZ2h0IjogMwp9CiAgICAgICAgICAgICAgICApLmFkZFRvKG1hcF83NDc1ODI5MzJkYzU0OWZiOWY3NDY4NjAwNWRhMWRjNSk7CiAgICAgICAgICAgIAogICAgCiAgICAgICAgICAgIHZhciBwb3B1cF80YzBlOGUyZTY4OGI0MDk2OWMyNzE2YjdlM2IzMTZjOCA9IEwucG9wdXAoe21heFdpZHRoOiAnMzAwJ30pOwoKICAgICAgICAgICAgCiAgICAgICAgICAgICAgICB2YXIgaHRtbF8xOWQzNmY5NTk3ZTA0Mzg5OTM4YTdiZWYxNGFhNjYwYyA9ICQoJzxkaXYgaWQ9Imh0bWxfMTlkMzZmOTU5N2UwNDM4OTkzOGE3YmVmMTRhYTY2MGMiIHN0eWxlPSJ3aWR0aDogMTAwLjAlOyBoZWlnaHQ6IDEwMC4wJTsiPkhvdGVsIEtpd2k8L2Rpdj4nKVswXTsKICAgICAgICAgICAgICAgIHBvcHVwXzRjMGU4ZTJlNjg4YjQwOTY5YzI3MTZiN2UzYjMxNmM4LnNldENvbnRlbnQoaHRtbF8xOWQzNmY5NTk3ZTA0Mzg5OTM4YTdiZWYxNGFhNjYwYyk7CiAgICAgICAgICAgIAoKICAgICAgICAgICAgY2lyY2xlX21hcmtlcl9mYzk4NWJkMDMxZGI0ODZlYjhmYTRiZDlkNTAwN2YwYi5iaW5kUG9wdXAocG9wdXBfNGMwZThlMmU2ODhiNDA5NjljMjcxNmI3ZTNiMzE2YzgpOwoKICAgICAgICAgICAgCiAgICAgICAgCiAgICAKICAgICAgICAgICAgdmFyIGNpcmNsZV9tYXJrZXJfYjUxOWE5ZGZhODUxNDQ5NDkyODA4Mjg0OTJiNTIxYzYgPSBMLmNpcmNsZU1hcmtlcigKICAgICAgICAgICAgICAgIFs4LjA4MjgzMTYwMjAwNjU0LDc3LjU1MDk1MDg5MjM5MjIxXSwKICAgICAgICAgICAgICAgIHsKICAiYnViYmxpbmdNb3VzZUV2ZW50cyI6IHRydWUsCiAgImNvbG9yIjogImJsdWUiLAogICJkYXNoQXJyYXkiOiBudWxsLAogICJkYXNoT2Zmc2V0IjogbnVsbCwKICAiZmlsbCI6IHRydWUsCiAgImZpbGxDb2xvciI6ICJibHVlIiwKICAiZmlsbE9wYWNpdHkiOiAwLjYsCiAgImZpbGxSdWxlIjogImV2ZW5vZGQiLAogICJsaW5lQ2FwIjogInJvdW5kIiwKICAibGluZUpvaW4iOiAicm91bmQiLAogICJvcGFjaXR5IjogMS4wLAogICJyYWRpdXMiOiA1LAogICJzdHJva2UiOiB0cnVlLAogICJ3ZWlnaHQiOiAzCn0KICAgICAgICAgICAgICAgICkuYWRkVG8obWFwXzc0NzU4MjkzMmRjNTQ5ZmI5Zjc0Njg2MDA1ZGExZGM1KTsKICAgICAgICAgICAgCiAgICAKICAgICAgICAgICAgdmFyIHBvcHVwX2Q1MWE5YTliNGU2YTQ1ODJhMjkwMjM0ZmZiMWMzYzhhID0gTC5wb3B1cCh7bWF4V2lkdGg6ICczMDAnfSk7CgogICAgICAgICAgICAKICAgICAgICAgICAgICAgIHZhciBodG1sXzcyNmZjY2IwOTc3MjQzZmU4MTE4MmUzNzc5YjkxOTQ1ID0gJCgnPGRpdiBpZD0iaHRtbF83MjZmY2NiMDk3NzI0M2ZlODExODJlMzc3OWI5MTk0NSIgc3R5bGU9IndpZHRoOiAxMDAuMCU7IGhlaWdodDogMTAwLjAlOyI+SG90ZWwgUmFqYW08L2Rpdj4nKVswXTsKICAgICAgICAgICAgICAgIHBvcHVwX2Q1MWE5YTliNGU2YTQ1ODJhMjkwMjM0ZmZiMWMzYzhhLnNldENvbnRlbnQoaHRtbF83MjZmY2NiMDk3NzI0M2ZlODExODJlMzc3OWI5MTk0NSk7CiAgICAgICAgICAgIAoKICAgICAgICAgICAgY2lyY2xlX21hcmtlcl9iNTE5YTlkZmE4NTE0NDk0OTI4MDgyODQ5MmI1MjFjNi5iaW5kUG9wdXAocG9wdXBfZDUxYTlhOWI0ZTZhNDU4MmEyOTAyMzRmZmIxYzNjOGEpOwoKICAgICAgICAgICAgCiAgICAgICAgCiAgICAKICAgICAgICAgICAgdmFyIGNpcmNsZV9tYXJrZXJfYjU3MjhjODBlYTk3NDFiMGE0OTRjMmY4MTUzNGE2MGQgPSBMLmNpcmNsZU1hcmtlcigKICAgICAgICAgICAgICAgIFs4LjA4Mjc2MDYzMTA2NjEyNiw3Ny41NTE1OTQ2NTM2MTI1MV0sCiAgICAgICAgICAgICAgICB7CiAgImJ1YmJsaW5nTW91c2VFdmVudHMiOiB0cnVlLAogICJjb2xvciI6ICJibHVlIiwKICAiZGFzaEFycmF5IjogbnVsbCwKICAiZGFzaE9mZnNldCI6IG51bGwsCiAgImZpbGwiOiB0cnVlLAogICJmaWxsQ29sb3IiOiAiYmx1ZSIsCiAgImZpbGxPcGFjaXR5IjogMC42LAogICJmaWxsUnVsZSI6ICJldmVub2RkIiwKICAibGluZUNhcCI6ICJyb3VuZCIsCiAgImxpbmVKb2luIjogInJvdW5kIiwKICAib3BhY2l0eSI6IDEuMCwKICAicmFkaXVzIjogNSwKICAic3Ryb2tlIjogdHJ1ZSwKICAid2VpZ2h0IjogMwp9CiAgICAgICAgICAgICAgICApLmFkZFRvKG1hcF83NDc1ODI5MzJkYzU0OWZiOWY3NDY4NjAwNWRhMWRjNSk7CiAgICAgICAgICAgIAogICAgCiAgICAgICAgICAgIHZhciBwb3B1cF81ZGJiZDMzMWY5MzE0YjYyYTdhZDQxOWJjODFmYmE1ZSA9IEwucG9wdXAoe21heFdpZHRoOiAnMzAwJ30pOwoKICAgICAgICAgICAgCiAgICAgICAgICAgICAgICB2YXIgaHRtbF83NjJiNzk4ZmIzYjc0MTkyYmNkZGY5MzA1YmNlN2M1NyA9ICQoJzxkaXYgaWQ9Imh0bWxfNzYyYjc5OGZiM2I3NDE5MmJjZGRmOTMwNWJjZTdjNTciIHN0eWxlPSJ3aWR0aDogMTAwLjAlOyBoZWlnaHQ6IDEwMC4wJTsiPkhvdGVsIE1hbmlja2FtPC9kaXY+JylbMF07CiAgICAgICAgICAgICAgICBwb3B1cF81ZGJiZDMzMWY5MzE0YjYyYTdhZDQxOWJjODFmYmE1ZS5zZXRDb250ZW50KGh0bWxfNzYyYjc5OGZiM2I3NDE5MmJjZGRmOTMwNWJjZTdjNTcpOwogICAgICAgICAgICAKCiAgICAgICAgICAgIGNpcmNsZV9tYXJrZXJfYjU3MjhjODBlYTk3NDFiMGE0OTRjMmY4MTUzNGE2MGQuYmluZFBvcHVwKHBvcHVwXzVkYmJkMzMxZjkzMTRiNjJhN2FkNDE5YmM4MWZiYTVlKTsKCiAgICAgICAgICAgIAogICAgICAgIAogICAgCiAgICAgICAgICAgIHZhciBjaXJjbGVfbWFya2VyX2NkZDg2ZDVhZGY1ZjQ2NmRhZDAyMWJiZWI0YTI0MjQ0ID0gTC5jaXJjbGVNYXJrZXIoCiAgICAgICAgICAgICAgICBbOC4wODI1MzE3MTk4Mzg5MTMsNzcuNTQ5NzQ3MzI5MDExNzVdLAogICAgICAgICAgICAgICAgewogICJidWJibGluZ01vdXNlRXZlbnRzIjogdHJ1ZSwKICAiY29sb3IiOiAiYmx1ZSIsCiAgImRhc2hBcnJheSI6IG51bGwsCiAgImRhc2hPZmZzZXQiOiBudWxsLAogICJmaWxsIjogdHJ1ZSwKICAiZmlsbENvbG9yIjogImJsdWUiLAogICJmaWxsT3BhY2l0eSI6IDAuNiwKICAiZmlsbFJ1bGUiOiAiZXZlbm9kZCIsCiAgImxpbmVDYXAiOiAicm91bmQiLAogICJsaW5lSm9pbiI6ICJyb3VuZCIsCiAgIm9wYWNpdHkiOiAxLjAsCiAgInJhZGl1cyI6IDUsCiAgInN0cm9rZSI6IHRydWUsCiAgIndlaWdodCI6IDMKfQogICAgICAgICAgICAgICAgKS5hZGRUbyhtYXBfNzQ3NTgyOTMyZGM1NDlmYjlmNzQ2ODYwMDVkYTFkYzUpOwogICAgICAgICAgICAKICAgIAogICAgICAgICAgICB2YXIgcG9wdXBfNzgxY2I5ZmNlNTY3NDhkYWJmMWQyODJjZjRkNTNmYzEgPSBMLnBvcHVwKHttYXhXaWR0aDogJzMwMCd9KTsKCiAgICAgICAgICAgIAogICAgICAgICAgICAgICAgdmFyIGh0bWxfYjE5YjllZDY0YmIxNGU4ZjkxNzM1NTk2ZWFlYTg1ZmEgPSAkKCc8ZGl2IGlkPSJodG1sX2IxOWI5ZWQ2NGJiMTRlOGY5MTczNTU5NmVhZWE4NWZhIiBzdHlsZT0id2lkdGg6IDEwMC4wJTsgaGVpZ2h0OiAxMDAuMCU7Ij5UYWogSG90ZWw8L2Rpdj4nKVswXTsKICAgICAgICAgICAgICAgIHBvcHVwXzc4MWNiOWZjZTU2NzQ4ZGFiZjFkMjgyY2Y0ZDUzZmMxLnNldENvbnRlbnQoaHRtbF9iMTliOWVkNjRiYjE0ZThmOTE3MzU1OTZlYWVhODVmYSk7CiAgICAgICAgICAgIAoKICAgICAgICAgICAgY2lyY2xlX21hcmtlcl9jZGQ4NmQ1YWRmNWY0NjZkYWQwMjFiYmViNGEyNDI0NC5iaW5kUG9wdXAocG9wdXBfNzgxY2I5ZmNlNTY3NDhkYWJmMWQyODJjZjRkNTNmYzEpOwoKICAgICAgICAgICAgCiAgICAgICAgCiAgICAKICAgICAgICAgICAgdmFyIGNpcmNsZV9tYXJrZXJfYTQxYzUyMDJmYjEzNDM5ZmFiMmU0NzBjNDA4M2NmZjUgPSBMLmNpcmNsZU1hcmtlcigKICAgICAgICAgICAgICAgIFs4LjA4MzI3Myw3Ny41NDk3MDldLAogICAgICAgICAgICAgICAgewogICJidWJibGluZ01vdXNlRXZlbnRzIjogdHJ1ZSwKICAiY29sb3IiOiAiYmx1ZSIsCiAgImRhc2hBcnJheSI6IG51bGwsCiAgImRhc2hPZmZzZXQiOiBudWxsLAogICJmaWxsIjogdHJ1ZSwKICAiZmlsbENvbG9yIjogImJsdWUiLAogICJmaWxsT3BhY2l0eSI6IDAuNiwKICAiZmlsbFJ1bGUiOiAiZXZlbm9kZCIsCiAgImxpbmVDYXAiOiAicm91bmQiLAogICJsaW5lSm9pbiI6ICJyb3VuZCIsCiAgIm9wYWNpdHkiOiAxLjAsCiAgInJhZGl1cyI6IDUsCiAgInN0cm9rZSI6IHRydWUsCiAgIndlaWdodCI6IDMKfQogICAgICAgICAgICAgICAgKS5hZGRUbyhtYXBfNzQ3NTgyOTMyZGM1NDlmYjlmNzQ2ODYwMDVkYTFkYzUpOwogICAgICAgICAgICAKICAgIAogICAgICAgICAgICB2YXIgcG9wdXBfYzg0ZDk2OTBjODI5NDQxM2IxYzQxMDMxNGNhMGM0ZWIgPSBMLnBvcHVwKHttYXhXaWR0aDogJzMwMCd9KTsKCiAgICAgICAgICAgIAogICAgICAgICAgICAgICAgdmFyIGh0bWxfNjNhNTE4MjMyOTcwNDdjNjkxOTMwNjY4NTZmMjY1YzggPSAkKCc8ZGl2IGlkPSJodG1sXzYzYTUxODIzMjk3MDQ3YzY5MTkzMDY2ODU2ZjI2NWM4IiBzdHlsZT0id2lkdGg6IDEwMC4wJTsgaGVpZ2h0OiAxMDAuMCU7Ij5ob3RlbCBUZW1wbGUgQ2l0aTwvZGl2PicpWzBdOwogICAgICAgICAgICAgICAgcG9wdXBfYzg0ZDk2OTBjODI5NDQxM2IxYzQxMDMxNGNhMGM0ZWIuc2V0Q29udGVudChodG1sXzYzYTUxODIzMjk3MDQ3YzY5MTkzMDY2ODU2ZjI2NWM4KTsKICAgICAgICAgICAgCgogICAgICAgICAgICBjaXJjbGVfbWFya2VyX2E0MWM1MjAyZmIxMzQzOWZhYjJlNDcwYzQwODNjZmY1LmJpbmRQb3B1cChwb3B1cF9jODRkOTY5MGM4Mjk0NDEzYjFjNDEwMzE0Y2EwYzRlYik7CgogICAgICAgICAgICAKICAgICAgICAKICAgIAogICAgICAgICAgICB2YXIgY2lyY2xlX21hcmtlcl80OWRlYjNkMDdkNDg0OTFhYmM5MWNkOWNmZmFjYTM2NCA9IEwuY2lyY2xlTWFya2VyKAogICAgICAgICAgICAgICAgWzguMDgzNTcxMzg1MjU2MTg1LDc3LjU0OTU2ODE5MjkwNTkxXSwKICAgICAgICAgICAgICAgIHsKICAiYnViYmxpbmdNb3VzZUV2ZW50cyI6IHRydWUsCiAgImNvbG9yIjogImJsdWUiLAogICJkYXNoQXJyYXkiOiBudWxsLAogICJkYXNoT2Zmc2V0IjogbnVsbCwKICAiZmlsbCI6IHRydWUsCiAgImZpbGxDb2xvciI6ICJibHVlIiwKICAiZmlsbE9wYWNpdHkiOiAwLjYsCiAgImZpbGxSdWxlIjogImV2ZW5vZGQiLAogICJsaW5lQ2FwIjogInJvdW5kIiwKICAibGluZUpvaW4iOiAicm91bmQiLAogICJvcGFjaXR5IjogMS4wLAogICJyYWRpdXMiOiA1LAogICJzdHJva2UiOiB0cnVlLAogICJ3ZWlnaHQiOiAzCn0KICAgICAgICAgICAgICAgICkuYWRkVG8obWFwXzc0NzU4MjkzMmRjNTQ5ZmI5Zjc0Njg2MDA1ZGExZGM1KTsKICAgICAgICAgICAgCiAgICAKICAgICAgICAgICAgdmFyIHBvcHVwXzc3ZDBjMzkxZmVjYTRlNDI4N2YzN2M2MGFiNzE4YjEzID0gTC5wb3B1cCh7bWF4V2lkdGg6ICczMDAnfSk7CgogICAgICAgICAgICAKICAgICAgICAgICAgICAgIHZhciBodG1sXzA5YjBhMjE1M2MzOTRjYTFiYjc4ZDRhM2JhNzBlY2I3ID0gJCgnPGRpdiBpZD0iaHRtbF8wOWIwYTIxNTNjMzk0Y2ExYmI3OGQ0YTNiYTcwZWNiNyIgc3R5bGU9IndpZHRoOiAxMDAuMCU7IGhlaWdodDogMTAwLjAlOyI+SG90ZWwgTWVsb2R5IFBhcms8L2Rpdj4nKVswXTsKICAgICAgICAgICAgICAgIHBvcHVwXzc3ZDBjMzkxZmVjYTRlNDI4N2YzN2M2MGFiNzE4YjEzLnNldENvbnRlbnQoaHRtbF8wOWIwYTIxNTNjMzk0Y2ExYmI3OGQ0YTNiYTcwZWNiNyk7CiAgICAgICAgICAgIAoKICAgICAgICAgICAgY2lyY2xlX21hcmtlcl80OWRlYjNkMDdkNDg0OTFhYmM5MWNkOWNmZmFjYTM2NC5iaW5kUG9wdXAocG9wdXBfNzdkMGMzOTFmZWNhNGU0Mjg3ZjM3YzYwYWI3MThiMTMpOwoKICAgICAgICAgICAgCiAgICAgICAgCiAgICAKICAgICAgICAgICAgdmFyIGNpcmNsZV9tYXJrZXJfYzI4NDBjNTViZDQ0NDRkZGI3YjUzYTM2NjIwYjIwZjcgPSBMLmNpcmNsZU1hcmtlcigKICAgICAgICAgICAgICAgIFs4LjA4MzkxNDQ1NjExMzIwMiw3Ny41NDk0NzMwMjY3MzQ3Ml0sCiAgICAgICAgICAgICAgICB7CiAgImJ1YmJsaW5nTW91c2VFdmVudHMiOiB0cnVlLAogICJjb2xvciI6ICJibHVlIiwKICAiZGFzaEFycmF5IjogbnVsbCwKICAiZGFzaE9mZnNldCI6IG51bGwsCiAgImZpbGwiOiB0cnVlLAogICJmaWxsQ29sb3IiOiAiYmx1ZSIsCiAgImZpbGxPcGFjaXR5IjogMC42LAogICJmaWxsUnVsZSI6ICJldmVub2RkIiwKICAibGluZUNhcCI6ICJyb3VuZCIsCiAgImxpbmVKb2luIjogInJvdW5kIiwKICAib3BhY2l0eSI6IDEuMCwKICAicmFkaXVzIjogNSwKICAic3Ryb2tlIjogdHJ1ZSwKICAid2VpZ2h0IjogMwp9CiAgICAgICAgICAgICAgICApLmFkZFRvKG1hcF83NDc1ODI5MzJkYzU0OWZiOWY3NDY4NjAwNWRhMWRjNSk7CiAgICAgICAgICAgIAogICAgCiAgICAgICAgICAgIHZhciBwb3B1cF82OTBjZWIyMmViMjg0NTk2Yjg5Y2E2ODcwYWIyMjQ5YiA9IEwucG9wdXAoe21heFdpZHRoOiAnMzAwJ30pOwoKICAgICAgICAgICAgCiAgICAgICAgICAgICAgICB2YXIgaHRtbF80OTQ1MTI4OWM5OGE0NzFkYWEzYWFkMjRhNDFiNDAzYSA9ICQoJzxkaXYgaWQ9Imh0bWxfNDk0NTEyODljOThhNDcxZGFhM2FhZDI0YTQxYjQwM2EiIHN0eWxlPSJ3aWR0aDogMTAwLjAlOyBoZWlnaHQ6IDEwMC4wJTsiPkhvdGVsIFRyaXZlbmk8L2Rpdj4nKVswXTsKICAgICAgICAgICAgICAgIHBvcHVwXzY5MGNlYjIyZWIyODQ1OTZiODljYTY4NzBhYjIyNDliLnNldENvbnRlbnQoaHRtbF80OTQ1MTI4OWM5OGE0NzFkYWEzYWFkMjRhNDFiNDAzYSk7CiAgICAgICAgICAgIAoKICAgICAgICAgICAgY2lyY2xlX21hcmtlcl9jMjg0MGM1NWJkNDQ0NGRkYjdiNTNhMzY2MjBiMjBmNy5iaW5kUG9wdXAocG9wdXBfNjkwY2ViMjJlYjI4NDU5NmI4OWNhNjg3MGFiMjI0OWIpOwoKICAgICAgICAgICAgCiAgICAgICAgCiAgICAKICAgICAgICAgICAgdmFyIGNpcmNsZV9tYXJrZXJfOTRmOTk1OWUyMTY4NGFmNDhkMjNmZDFhYTFkOWJlMjMgPSBMLmNpcmNsZU1hcmtlcigKICAgICAgICAgICAgICAgIFs4LjA4MTU0NTkwMzQwOTI4Miw3Ny41NDg3Nzg4NzEwNzI1OV0sCiAgICAgICAgICAgICAgICB7CiAgImJ1YmJsaW5nTW91c2VFdmVudHMiOiB0cnVlLAogICJjb2xvciI6ICJibHVlIiwKICAiZGFzaEFycmF5IjogbnVsbCwKICAiZGFzaE9mZnNldCI6IG51bGwsCiAgImZpbGwiOiB0cnVlLAogICJmaWxsQ29sb3IiOiAiYmx1ZSIsCiAgImZpbGxPcGFjaXR5IjogMC42LAogICJmaWxsUnVsZSI6ICJldmVub2RkIiwKICAibGluZUNhcCI6ICJyb3VuZCIsCiAgImxpbmVKb2luIjogInJvdW5kIiwKICAib3BhY2l0eSI6IDEuMCwKICAicmFkaXVzIjogNSwKICAic3Ryb2tlIjogdHJ1ZSwKICAid2VpZ2h0IjogMwp9CiAgICAgICAgICAgICAgICApLmFkZFRvKG1hcF83NDc1ODI5MzJkYzU0OWZiOWY3NDY4NjAwNWRhMWRjNSk7CiAgICAgICAgICAgIAogICAgCiAgICAgICAgICAgIHZhciBwb3B1cF8zODc3MzkxODY3ZmU0ODI0YjNhMmY5ZDc4ZDU1NjMyOCA9IEwucG9wdXAoe21heFdpZHRoOiAnMzAwJ30pOwoKICAgICAgICAgICAgCiAgICAgICAgICAgICAgICB2YXIgaHRtbF85YzFjNDM0NzY0Nzg0YzNlYThkZmE1YWI4YjIwMThmYSA9ICQoJzxkaXYgaWQ9Imh0bWxfOWMxYzQzNDc2NDc4NGMzZWE4ZGZhNWFiOGIyMDE4ZmEiIHN0eWxlPSJ3aWR0aDogMTAwLjAlOyBoZWlnaHQ6IDEwMC4wJTsiPlRyaSBTZWEgSG90ZWw8L2Rpdj4nKVswXTsKICAgICAgICAgICAgICAgIHBvcHVwXzM4NzczOTE4NjdmZTQ4MjRiM2EyZjlkNzhkNTU2MzI4LnNldENvbnRlbnQoaHRtbF85YzFjNDM0NzY0Nzg0YzNlYThkZmE1YWI4YjIwMThmYSk7CiAgICAgICAgICAgIAoKICAgICAgICAgICAgY2lyY2xlX21hcmtlcl85NGY5OTU5ZTIxNjg0YWY0OGQyM2ZkMWFhMWQ5YmUyMy5iaW5kUG9wdXAocG9wdXBfMzg3NzM5MTg2N2ZlNDgyNGIzYTJmOWQ3OGQ1NTYzMjgpOwoKICAgICAgICAgICAgCiAgICAgICAgCiAgICAKICAgICAgICAgICAgdmFyIGNpcmNsZV9tYXJrZXJfNDU3ODU2NzBjNjI5NGE0NWI0NWEyNGM2NjBiZDZhYTIgPSBMLmNpcmNsZU1hcmtlcigKICAgICAgICAgICAgICAgIFs4LjA4ODc5MDUyNzg2NDkzMyw3Ny41NDk2MDczNzg5NTMyM10sCiAgICAgICAgICAgICAgICB7CiAgImJ1YmJsaW5nTW91c2VFdmVudHMiOiB0cnVlLAogICJjb2xvciI6ICJibHVlIiwKICAiZGFzaEFycmF5IjogbnVsbCwKICAiZGFzaE9mZnNldCI6IG51bGwsCiAgImZpbGwiOiB0cnVlLAogICJmaWxsQ29sb3IiOiAiYmx1ZSIsCiAgImZpbGxPcGFjaXR5IjogMC42LAogICJmaWxsUnVsZSI6ICJldmVub2RkIiwKICAibGluZUNhcCI6ICJyb3VuZCIsCiAgImxpbmVKb2luIjogInJvdW5kIiwKICAib3BhY2l0eSI6IDEuMCwKICAicmFkaXVzIjogNSwKICAic3Ryb2tlIjogdHJ1ZSwKICAid2VpZ2h0IjogMwp9CiAgICAgICAgICAgICAgICApLmFkZFRvKG1hcF83NDc1ODI5MzJkYzU0OWZiOWY3NDY4NjAwNWRhMWRjNSk7CiAgICAgICAgICAgIAogICAgCiAgICAgICAgICAgIHZhciBwb3B1cF81OTNmZjJhMjQzMmI0NDAzOTg4OTMwOGIwMTZkZmVlNSA9IEwucG9wdXAoe21heFdpZHRoOiAnMzAwJ30pOwoKICAgICAgICAgICAgCiAgICAgICAgICAgICAgICB2YXIgaHRtbF9kNTVkOTlkY2NkOTI0ZjkxYjg5NjJiYzE1ZTRkYzcxMCA9ICQoJzxkaXYgaWQ9Imh0bWxfZDU1ZDk5ZGNjZDkyNGY5MWI4OTYyYmMxNWU0ZGM3MTAiIHN0eWxlPSJ3aWR0aDogMTAwLjAlOyBoZWlnaHQ6IDEwMC4wJTsiPkhvdGVsIFNpbmdhYXIgSW50ZXJuYXRpb25hbDwvZGl2PicpWzBdOwogICAgICAgICAgICAgICAgcG9wdXBfNTkzZmYyYTI0MzJiNDQwMzk4ODkzMDhiMDE2ZGZlZTUuc2V0Q29udGVudChodG1sX2Q1NWQ5OWRjY2Q5MjRmOTFiODk2MmJjMTVlNGRjNzEwKTsKICAgICAgICAgICAgCgogICAgICAgICAgICBjaXJjbGVfbWFya2VyXzQ1Nzg1NjcwYzYyOTRhNDViNDVhMjRjNjYwYmQ2YWEyLmJpbmRQb3B1cChwb3B1cF81OTNmZjJhMjQzMmI0NDAzOTg4OTMwOGIwMTZkZmVlNSk7CgogICAgICAgICAgICAKICAgICAgICAKICAgIAogICAgICAgICAgICB2YXIgY2lyY2xlX21hcmtlcl83NDA4YjI2MTNjMWI0ODIzYWZiNzhjOTk1M2QxMzAzYiA9IEwuY2lyY2xlTWFya2VyKAogICAgICAgICAgICAgICAgWzguMDgyMzEyMzY4Mzk0ODk5LDc3LjU1MDU0MjI0MjA3MDc2XSwKICAgICAgICAgICAgICAgIHsKICAiYnViYmxpbmdNb3VzZUV2ZW50cyI6IHRydWUsCiAgImNvbG9yIjogImJsdWUiLAogICJkYXNoQXJyYXkiOiBudWxsLAogICJkYXNoT2Zmc2V0IjogbnVsbCwKICAiZmlsbCI6IHRydWUsCiAgImZpbGxDb2xvciI6ICJibHVlIiwKICAiZmlsbE9wYWNpdHkiOiAwLjYsCiAgImZpbGxSdWxlIjogImV2ZW5vZGQiLAogICJsaW5lQ2FwIjogInJvdW5kIiwKICAibGluZUpvaW4iOiAicm91bmQiLAogICJvcGFjaXR5IjogMS4wLAogICJyYWRpdXMiOiA1LAogICJzdHJva2UiOiB0cnVlLAogICJ3ZWlnaHQiOiAzCn0KICAgICAgICAgICAgICAgICkuYWRkVG8obWFwXzc0NzU4MjkzMmRjNTQ5ZmI5Zjc0Njg2MDA1ZGExZGM1KTsKICAgICAgICAgICAgCiAgICAKICAgICAgICAgICAgdmFyIHBvcHVwX2NlYjFmZDRkZDkwMjQ5ZTNhOGVlZTkxZWI0MjlhZmFkID0gTC5wb3B1cCh7bWF4V2lkdGg6ICczMDAnfSk7CgogICAgICAgICAgICAKICAgICAgICAgICAgICAgIHZhciBodG1sXzRiNTM3OWM1MzE2NTRjNjhiODA5ZDQzMDBmYWVkY2ZkID0gJCgnPGRpdiBpZD0iaHRtbF80YjUzNzljNTMxNjU0YzY4YjgwOWQ0MzAwZmFlZGNmZCIgc3R5bGU9IndpZHRoOiAxMDAuMCU7IGhlaWdodDogMTAwLjAlOyI+R29waSBOaXZhcyBHcmFuZCBIb3RlbDwvZGl2PicpWzBdOwogICAgICAgICAgICAgICAgcG9wdXBfY2ViMWZkNGRkOTAyNDllM2E4ZWVlOTFlYjQyOWFmYWQuc2V0Q29udGVudChodG1sXzRiNTM3OWM1MzE2NTRjNjhiODA5ZDQzMDBmYWVkY2ZkKTsKICAgICAgICAgICAgCgogICAgICAgICAgICBjaXJjbGVfbWFya2VyXzc0MDhiMjYxM2MxYjQ4MjNhZmI3OGM5OTUzZDEzMDNiLmJpbmRQb3B1cChwb3B1cF9jZWIxZmQ0ZGQ5MDI0OWUzYThlZWU5MWViNDI5YWZhZCk7CgogICAgICAgICAgICAKICAgICAgICAKICAgIAogICAgICAgICAgICB2YXIgY2lyY2xlX21hcmtlcl9jYmM0NzVlM2UwNTM0YzQ3YTUzYWE2NDdhNjg4OTUwNiA9IEwuY2lyY2xlTWFya2VyKAogICAgICAgICAgICAgICAgWzguMDgyNzMwMjkzMjczOTI2LDc3LjU1MDQ5MTMzMzAwNzgxXSwKICAgICAgICAgICAgICAgIHsKICAiYnViYmxpbmdNb3VzZUV2ZW50cyI6IHRydWUsCiAgImNvbG9yIjogImJsdWUiLAogICJkYXNoQXJyYXkiOiBudWxsLAogICJkYXNoT2Zmc2V0IjogbnVsbCwKICAiZmlsbCI6IHRydWUsCiAgImZpbGxDb2xvciI6ICJibHVlIiwKICAiZmlsbE9wYWNpdHkiOiAwLjYsCiAgImZpbGxSdWxlIjogImV2ZW5vZGQiLAogICJsaW5lQ2FwIjogInJvdW5kIiwKICAibGluZUpvaW4iOiAicm91bmQiLAogICJvcGFjaXR5IjogMS4wLAogICJyYWRpdXMiOiA1LAogICJzdHJva2UiOiB0cnVlLAogICJ3ZWlnaHQiOiAzCn0KICAgICAgICAgICAgICAgICkuYWRkVG8obWFwXzc0NzU4MjkzMmRjNTQ5ZmI5Zjc0Njg2MDA1ZGExZGM1KTsKICAgICAgICAgICAgCiAgICAKICAgICAgICAgICAgdmFyIHBvcHVwX2U5MjAwNjBmZjkxODQ5NDg5Y2U4YzNmNWY3NWQ5NTVjID0gTC5wb3B1cCh7bWF4V2lkdGg6ICczMDAnfSk7CgogICAgICAgICAgICAKICAgICAgICAgICAgICAgIHZhciBodG1sX2EyZjUzMmUwYmViMjQ1NmZhMTE1NDUwMDFlODY2Mzg0ID0gJCgnPGRpdiBpZD0iaHRtbF9hMmY1MzJlMGJlYjI0NTZmYTExNTQ1MDAxZTg2NjM4NCIgc3R5bGU9IndpZHRoOiAxMDAuMCU7IGhlaWdodDogMTAwLjAlOyI+U3VuIFJvY2sgSG90ZWw8L2Rpdj4nKVswXTsKICAgICAgICAgICAgICAgIHBvcHVwX2U5MjAwNjBmZjkxODQ5NDg5Y2U4YzNmNWY3NWQ5NTVjLnNldENvbnRlbnQoaHRtbF9hMmY1MzJlMGJlYjI0NTZmYTExNTQ1MDAxZTg2NjM4NCk7CiAgICAgICAgICAgIAoKICAgICAgICAgICAgY2lyY2xlX21hcmtlcl9jYmM0NzVlM2UwNTM0YzQ3YTUzYWE2NDdhNjg4OTUwNi5iaW5kUG9wdXAocG9wdXBfZTkyMDA2MGZmOTE4NDk0ODljZThjM2Y1Zjc1ZDk1NWMpOwoKICAgICAgICAgICAgCiAgICAgICAgCiAgICAKICAgICAgICAgICAgdmFyIGNpcmNsZV9tYXJrZXJfN2E1NTQzNjBiNTVkNDJhMzk1NWRkNTk1OTMzODQzZmIgPSBMLmNpcmNsZU1hcmtlcigKICAgICAgICAgICAgICAgIFs4LjA4MDM3ODkyODI2MzQyLDc3LjU0NjYwNjgwODE5NjEzXSwKICAgICAgICAgICAgICAgIHsKICAiYnViYmxpbmdNb3VzZUV2ZW50cyI6IHRydWUsCiAgImNvbG9yIjogImJsdWUiLAogICJkYXNoQXJyYXkiOiBudWxsLAogICJkYXNoT2Zmc2V0IjogbnVsbCwKICAiZmlsbCI6IHRydWUsCiAgImZpbGxDb2xvciI6ICJibHVlIiwKICAiZmlsbE9wYWNpdHkiOiAwLjYsCiAgImZpbGxSdWxlIjogImV2ZW5vZGQiLAogICJsaW5lQ2FwIjogInJvdW5kIiwKICAibGluZUpvaW4iOiAicm91bmQiLAogICJvcGFjaXR5IjogMS4wLAogICJyYWRpdXMiOiA1LAogICJzdHJva2UiOiB0cnVlLAogICJ3ZWlnaHQiOiAzCn0KICAgICAgICAgICAgICAgICkuYWRkVG8obWFwXzc0NzU4MjkzMmRjNTQ5ZmI5Zjc0Njg2MDA1ZGExZGM1KTsKICAgICAgICAgICAgCiAgICAKICAgICAgICAgICAgdmFyIHBvcHVwXzNkYmMyNjUyNDNiMjRhMGZiOTFmN2M3ZmI4ODU4MDkyID0gTC5wb3B1cCh7bWF4V2lkdGg6ICczMDAnfSk7CgogICAgICAgICAgICAKICAgICAgICAgICAgICAgIHZhciBodG1sXzBmN2IzMWFiM2Y1ODQwMjBiYzJmNzMwN2RlZjI4YTVhID0gJCgnPGRpdiBpZD0iaHRtbF8wZjdiMzFhYjNmNTg0MDIwYmMyZjczMDdkZWYyOGE1YSIgc3R5bGU9IndpZHRoOiAxMDAuMCU7IGhlaWdodDogMTAwLjAlOyI+VGFtaWwgTmFkdSBIb3RlbCBUVERDPC9kaXY+JylbMF07CiAgICAgICAgICAgICAgICBwb3B1cF8zZGJjMjY1MjQzYjI0YTBmYjkxZjdjN2ZiODg1ODA5Mi5zZXRDb250ZW50KGh0bWxfMGY3YjMxYWIzZjU4NDAyMGJjMmY3MzA3ZGVmMjhhNWEpOwogICAgICAgICAgICAKCiAgICAgICAgICAgIGNpcmNsZV9tYXJrZXJfN2E1NTQzNjBiNTVkNDJhMzk1NWRkNTk1OTMzODQzZmIuYmluZFBvcHVwKHBvcHVwXzNkYmMyNjUyNDNiMjRhMGZiOTFmN2M3ZmI4ODU4MDkyKTsKCiAgICAgICAgICAgIAogICAgICAgIAogICAgCiAgICAgICAgICAgIHZhciBjaXJjbGVfbWFya2VyX2JhNzUwNzEyNWJlYTQ1ZjQ5ZDk5NTI2YmJjNTc1MGQ2ID0gTC5jaXJjbGVNYXJrZXIoCiAgICAgICAgICAgICAgICBbOC4wODM0ODkwNDAzNzQzNTMsNzcuNTUwMDc3NjEwNDY1NzhdLAogICAgICAgICAgICAgICAgewogICJidWJibGluZ01vdXNlRXZlbnRzIjogdHJ1ZSwKICAiY29sb3IiOiAiYmx1ZSIsCiAgImRhc2hBcnJheSI6IG51bGwsCiAgImRhc2hPZmZzZXQiOiBudWxsLAogICJmaWxsIjogdHJ1ZSwKICAiZmlsbENvbG9yIjogImJsdWUiLAogICJmaWxsT3BhY2l0eSI6IDAuNiwKICAiZmlsbFJ1bGUiOiAiZXZlbm9kZCIsCiAgImxpbmVDYXAiOiAicm91bmQiLAogICJsaW5lSm9pbiI6ICJyb3VuZCIsCiAgIm9wYWNpdHkiOiAxLjAsCiAgInJhZGl1cyI6IDUsCiAgInN0cm9rZSI6IHRydWUsCiAgIndlaWdodCI6IDMKfQogICAgICAgICAgICAgICAgKS5hZGRUbyhtYXBfNzQ3NTgyOTMyZGM1NDlmYjlmNzQ2ODYwMDVkYTFkYzUpOwogICAgICAgICAgICAKICAgIAogICAgICAgICAgICB2YXIgcG9wdXBfMmQzM2MwZmQwZWFjNDEzYzg2NDZjMzA0MDVlZTM2ZDEgPSBMLnBvcHVwKHttYXhXaWR0aDogJzMwMCd9KTsKCiAgICAgICAgICAgIAogICAgICAgICAgICAgICAgdmFyIGh0bWxfZGQxOTExYjVkZTcyNDU0Nzk3OTE0MDMzZmE5MDM3NzUgPSAkKCc8ZGl2IGlkPSJodG1sX2RkMTkxMWI1ZGU3MjQ1NDc5NzkxNDAzM2ZhOTAzNzc1IiBzdHlsZT0id2lkdGg6IDEwMC4wJTsgaGVpZ2h0OiAxMDAuMCU7Ij5TaXZNdXJnYW4gSG90ZWw8L2Rpdj4nKVswXTsKICAgICAgICAgICAgICAgIHBvcHVwXzJkMzNjMGZkMGVhYzQxM2M4NjQ2YzMwNDA1ZWUzNmQxLnNldENvbnRlbnQoaHRtbF9kZDE5MTFiNWRlNzI0NTQ3OTc5MTQwMzNmYTkwMzc3NSk7CiAgICAgICAgICAgIAoKICAgICAgICAgICAgY2lyY2xlX21hcmtlcl9iYTc1MDcxMjViZWE0NWY0OWQ5OTUyNmJiYzU3NTBkNi5iaW5kUG9wdXAocG9wdXBfMmQzM2MwZmQwZWFjNDEzYzg2NDZjMzA0MDVlZTM2ZDEpOwoKICAgICAgICAgICAgCiAgICAgICAgCiAgICAKICAgICAgICAgICAgdmFyIGNpcmNsZV9tYXJrZXJfYzk5YTE5MmNkNDg3NGI2M2IzNmI4ZjQ5OGJiMjVjMDQgPSBMLmNpcmNsZU1hcmtlcigKICAgICAgICAgICAgICAgIFs4LjA4Mjc4MzY1MjA5NTY1OCw3Ny41NTE0NzcwOTc0ODgyOV0sCiAgICAgICAgICAgICAgICB7CiAgImJ1YmJsaW5nTW91c2VFdmVudHMiOiB0cnVlLAogICJjb2xvciI6ICJibHVlIiwKICAiZGFzaEFycmF5IjogbnVsbCwKICAiZGFzaE9mZnNldCI6IG51bGwsCiAgImZpbGwiOiB0cnVlLAogICJmaWxsQ29sb3IiOiAiYmx1ZSIsCiAgImZpbGxPcGFjaXR5IjogMC42LAogICJmaWxsUnVsZSI6ICJldmVub2RkIiwKICAibGluZUNhcCI6ICJyb3VuZCIsCiAgImxpbmVKb2luIjogInJvdW5kIiwKICAib3BhY2l0eSI6IDEuMCwKICAicmFkaXVzIjogNSwKICAic3Ryb2tlIjogdHJ1ZSwKICAid2VpZ2h0IjogMwp9CiAgICAgICAgICAgICAgICApLmFkZFRvKG1hcF83NDc1ODI5MzJkYzU0OWZiOWY3NDY4NjAwNWRhMWRjNSk7CiAgICAgICAgICAgIAogICAgCiAgICAgICAgICAgIHZhciBwb3B1cF81MWYxZmFkNTg0ODk0NjlkODk4M2JjYTQ2OTk1YmUxOCA9IEwucG9wdXAoe21heFdpZHRoOiAnMzAwJ30pOwoKICAgICAgICAgICAgCiAgICAgICAgICAgICAgICB2YXIgaHRtbF85MjZlZjk0OTBiZjQ0Njg5ODQ4YmJhMjMwNzlhNjg4OSA9ICQoJzxkaXYgaWQ9Imh0bWxfOTI2ZWY5NDkwYmY0NDY4OTg0OGJiYTIzMDc5YTY4ODkiIHN0eWxlPSJ3aWR0aDogMTAwLjAlOyBoZWlnaHQ6IDEwMC4wJTsiPlRoZSBTZWFzaG9yZSBIb3RlbDwvZGl2PicpWzBdOwogICAgICAgICAgICAgICAgcG9wdXBfNTFmMWZhZDU4NDg5NDY5ZDg5ODNiY2E0Njk5NWJlMTguc2V0Q29udGVudChodG1sXzkyNmVmOTQ5MGJmNDQ2ODk4NDhiYmEyMzA3OWE2ODg5KTsKICAgICAgICAgICAgCgogICAgICAgICAgICBjaXJjbGVfbWFya2VyX2M5OWExOTJjZDQ4NzRiNjNiMzZiOGY0OThiYjI1YzA0LmJpbmRQb3B1cChwb3B1cF81MWYxZmFkNTg0ODk0NjlkODk4M2JjYTQ2OTk1YmUxOCk7CgogICAgICAgICAgICAKICAgICAgICAKICAgIAogICAgICAgICAgICB2YXIgY2lyY2xlX21hcmtlcl81OTBkNTU3OGIzMTA0ZDI3YWI5ZGVjZWNlN2FiMzU3OSA9IEwuY2lyY2xlTWFya2VyKAogICAgICAgICAgICAgICAgWzguMDgzODI5ODc5NzYwNzQyLDc3LjU0MzIyODE0OTQxNDA2XSwKICAgICAgICAgICAgICAgIHsKICAiYnViYmxpbmdNb3VzZUV2ZW50cyI6IHRydWUsCiAgImNvbG9yIjogImJsdWUiLAogICJkYXNoQXJyYXkiOiBudWxsLAogICJkYXNoT2Zmc2V0IjogbnVsbCwKICAiZmlsbCI6IHRydWUsCiAgImZpbGxDb2xvciI6ICJibHVlIiwKICAiZmlsbE9wYWNpdHkiOiAwLjYsCiAgImZpbGxSdWxlIjogImV2ZW5vZGQiLAogICJsaW5lQ2FwIjogInJvdW5kIiwKICAibGluZUpvaW4iOiAicm91bmQiLAogICJvcGFjaXR5IjogMS4wLAogICJyYWRpdXMiOiA1LAogICJzdHJva2UiOiB0cnVlLAogICJ3ZWlnaHQiOiAzCn0KICAgICAgICAgICAgICAgICkuYWRkVG8obWFwXzc0NzU4MjkzMmRjNTQ5ZmI5Zjc0Njg2MDA1ZGExZGM1KTsKICAgICAgICAgICAgCiAgICAKICAgICAgICAgICAgdmFyIHBvcHVwXzhhMjdkNWYyMGVjOTQ1YTI5YzExMGYwNmNhZjYwOGUxID0gTC5wb3B1cCh7bWF4V2lkdGg6ICczMDAnfSk7CgogICAgICAgICAgICAKICAgICAgICAgICAgICAgIHZhciBodG1sX2E3ZWI1MDQ2MTNkNDQ5MTk5MTdhMWYwZDhmOTFiNzljID0gJCgnPGRpdiBpZD0iaHRtbF9hN2ViNTA0NjEzZDQ0OTE5OTE3YTFmMGQ4ZjkxYjc5YyIgc3R5bGU9IndpZHRoOiAxMDAuMCU7IGhlaWdodDogMTAwLjAlOyI+SG90ZWwgVmVkYW50YSBXYWtlIHVwPC9kaXY+JylbMF07CiAgICAgICAgICAgICAgICBwb3B1cF84YTI3ZDVmMjBlYzk0NWEyOWMxMTBmMDZjYWY2MDhlMS5zZXRDb250ZW50KGh0bWxfYTdlYjUwNDYxM2Q0NDkxOTkxN2ExZjBkOGY5MWI3OWMpOwogICAgICAgICAgICAKCiAgICAgICAgICAgIGNpcmNsZV9tYXJrZXJfNTkwZDU1NzhiMzEwNGQyN2FiOWRlY2VjZTdhYjM1NzkuYmluZFBvcHVwKHBvcHVwXzhhMjdkNWYyMGVjOTQ1YTI5YzExMGYwNmNhZjYwOGUxKTsKCiAgICAgICAgICAgIAogICAgICAgIAogICAgCiAgICAgICAgICAgIHZhciBjaXJjbGVfbWFya2VyXzMzMDYxNGZmMDZhMzQxNzk5YzZmN2M4ZmI0MWQwMjRkID0gTC5jaXJjbGVNYXJrZXIoCiAgICAgICAgICAgICAgICBbOC4wODgzMzc0ODU5MzczMzQsNzcuNTUwMTA1NjAwMzc1MzNdLAogICAgICAgICAgICAgICAgewogICJidWJibGluZ01vdXNlRXZlbnRzIjogdHJ1ZSwKICAiY29sb3IiOiAiYmx1ZSIsCiAgImRhc2hBcnJheSI6IG51bGwsCiAgImRhc2hPZmZzZXQiOiBudWxsLAogICJmaWxsIjogdHJ1ZSwKICAiZmlsbENvbG9yIjogImJsdWUiLAogICJmaWxsT3BhY2l0eSI6IDAuNiwKICAiZmlsbFJ1bGUiOiAiZXZlbm9kZCIsCiAgImxpbmVDYXAiOiAicm91bmQiLAogICJsaW5lSm9pbiI6ICJyb3VuZCIsCiAgIm9wYWNpdHkiOiAxLjAsCiAgInJhZGl1cyI6IDUsCiAgInN0cm9rZSI6IHRydWUsCiAgIndlaWdodCI6IDMKfQogICAgICAgICAgICAgICAgKS5hZGRUbyhtYXBfNzQ3NTgyOTMyZGM1NDlmYjlmNzQ2ODYwMDVkYTFkYzUpOwogICAgICAgICAgICAKICAgIAogICAgICAgICAgICB2YXIgcG9wdXBfZTYwYWM4NDU2MWRlNDM2ZDk5YTdkMzlkYTk5YTZmZjIgPSBMLnBvcHVwKHttYXhXaWR0aDogJzMwMCd9KTsKCiAgICAgICAgICAgIAogICAgICAgICAgICAgICAgdmFyIGh0bWxfODU2ZWQwYTI5MmZiNDc5MWEyODhlMTM2OGI0Y2E0MzYgPSAkKCc8ZGl2IGlkPSJodG1sXzg1NmVkMGEyOTJmYjQ3OTFhMjg4ZTEzNjhiNGNhNDM2IiBzdHlsZT0id2lkdGg6IDEwMC4wJTsgaGVpZ2h0OiAxMDAuMCU7Ij5Ib3RlbCBTaGFudGhpIEJoYXZhbjwvZGl2PicpWzBdOwogICAgICAgICAgICAgICAgcG9wdXBfZTYwYWM4NDU2MWRlNDM2ZDk5YTdkMzlkYTk5YTZmZjIuc2V0Q29udGVudChodG1sXzg1NmVkMGEyOTJmYjQ3OTFhMjg4ZTEzNjhiNGNhNDM2KTsKICAgICAgICAgICAgCgogICAgICAgICAgICBjaXJjbGVfbWFya2VyXzMzMDYxNGZmMDZhMzQxNzk5YzZmN2M4ZmI0MWQwMjRkLmJpbmRQb3B1cChwb3B1cF9lNjBhYzg0NTYxZGU0MzZkOTlhN2QzOWRhOTlhNmZmMik7CgogICAgICAgICAgICAKICAgICAgICAKICAgIAogICAgICAgICAgICB2YXIgY2lyY2xlX21hcmtlcl9lZjlkMTQ0MzhlYWQ0NWM1OTdiZWRlNzQ1ZDc1YWI1YSA9IEwuY2lyY2xlTWFya2VyKAogICAgICAgICAgICAgICAgWzguMDg4OTIwMTE2NDI0NTYsNzcuNTUxMDM2NDc3MDg4OTNdLAogICAgICAgICAgICAgICAgewogICJidWJibGluZ01vdXNlRXZlbnRzIjogdHJ1ZSwKICAiY29sb3IiOiAiYmx1ZSIsCiAgImRhc2hBcnJheSI6IG51bGwsCiAgImRhc2hPZmZzZXQiOiBudWxsLAogICJmaWxsIjogdHJ1ZSwKICAiZmlsbENvbG9yIjogImJsdWUiLAogICJmaWxsT3BhY2l0eSI6IDAuNiwKICAiZmlsbFJ1bGUiOiAiZXZlbm9kZCIsCiAgImxpbmVDYXAiOiAicm91bmQiLAogICJsaW5lSm9pbiI6ICJyb3VuZCIsCiAgIm9wYWNpdHkiOiAxLjAsCiAgInJhZGl1cyI6IDUsCiAgInN0cm9rZSI6IHRydWUsCiAgIndlaWdodCI6IDMKfQogICAgICAgICAgICAgICAgKS5hZGRUbyhtYXBfNzQ3NTgyOTMyZGM1NDlmYjlmNzQ2ODYwMDVkYTFkYzUpOwogICAgICAgICAgICAKICAgIAogICAgICAgICAgICB2YXIgcG9wdXBfM2E1OWE3NDQ5MzAzNDhmOGFlNjE1ZTFmYmIyMjE4ZTYgPSBMLnBvcHVwKHttYXhXaWR0aDogJzMwMCd9KTsKCiAgICAgICAgICAgIAogICAgICAgICAgICAgICAgdmFyIGh0bWxfYzlhYjg1MDFiMjNjNDUzYmE1M2I1MjMxYzQyZDIxYjUgPSAkKCc8ZGl2IGlkPSJodG1sX2M5YWI4NTAxYjIzYzQ1M2JhNTNiNTIzMWM0MmQyMWI1IiBzdHlsZT0id2lkdGg6IDEwMC4wJTsgaGVpZ2h0OiAxMDAuMCU7Ij5TaW5nYXIgSG90ZWw8L2Rpdj4nKVswXTsKICAgICAgICAgICAgICAgIHBvcHVwXzNhNTlhNzQ0OTMwMzQ4ZjhhZTYxNWUxZmJiMjIxOGU2LnNldENvbnRlbnQoaHRtbF9jOWFiODUwMWIyM2M0NTNiYTUzYjUyMzFjNDJkMjFiNSk7CiAgICAgICAgICAgIAoKICAgICAgICAgICAgY2lyY2xlX21hcmtlcl9lZjlkMTQ0MzhlYWQ0NWM1OTdiZWRlNzQ1ZDc1YWI1YS5iaW5kUG9wdXAocG9wdXBfM2E1OWE3NDQ5MzAzNDhmOGFlNjE1ZTFmYmIyMjE4ZTYpOwoKICAgICAgICAgICAgCiAgICAgICAgCiAgICAKICAgICAgICAgICAgdmFyIGNpcmNsZV9tYXJrZXJfOWQ1NTlmMjgxNGI4NDYwOTk3MzU5MjE2NGUyZGFiYTkgPSBMLmNpcmNsZU1hcmtlcigKICAgICAgICAgICAgICAgIFs4LjA4MjUwMSw3Ny41NTEzNF0sCiAgICAgICAgICAgICAgICB7CiAgImJ1YmJsaW5nTW91c2VFdmVudHMiOiB0cnVlLAogICJjb2xvciI6ICJibHVlIiwKICAiZGFzaEFycmF5IjogbnVsbCwKICAiZGFzaE9mZnNldCI6IG51bGwsCiAgImZpbGwiOiB0cnVlLAogICJmaWxsQ29sb3IiOiAiYmx1ZSIsCiAgImZpbGxPcGFjaXR5IjogMC42LAogICJmaWxsUnVsZSI6ICJldmVub2RkIiwKICAibGluZUNhcCI6ICJyb3VuZCIsCiAgImxpbmVKb2luIjogInJvdW5kIiwKICAib3BhY2l0eSI6IDEuMCwKICAicmFkaXVzIjogNSwKICAic3Ryb2tlIjogdHJ1ZSwKICAid2VpZ2h0IjogMwp9CiAgICAgICAgICAgICAgICApLmFkZFRvKG1hcF83NDc1ODI5MzJkYzU0OWZiOWY3NDY4NjAwNWRhMWRjNSk7CiAgICAgICAgICAgIAogICAgCiAgICAgICAgICAgIHZhciBwb3B1cF9hMTQ2MjM3MDgzYjg0YjQwYjZiMzIxMmZlZWFlMmM2MSA9IEwucG9wdXAoe21heFdpZHRoOiAnMzAwJ30pOwoKICAgICAgICAgICAgCiAgICAgICAgICAgICAgICB2YXIgaHRtbF84NWY0M2E3M2ZlZjA0ZmMyYWYzZDI0NTAwMjY5NzNjZSA9ICQoJzxkaXYgaWQ9Imh0bWxfODVmNDNhNzNmZWYwNGZjMmFmM2QyNDUwMDI2OTczY2UiIHN0eWxlPSJ3aWR0aDogMTAwLjAlOyBoZWlnaHQ6IDEwMC4wJTsiPlJlc3RhdXJhbnQgU2VhIFZpZXc8L2Rpdj4nKVswXTsKICAgICAgICAgICAgICAgIHBvcHVwX2ExNDYyMzcwODNiODRiNDBiNmIzMjEyZmVlYWUyYzYxLnNldENvbnRlbnQoaHRtbF84NWY0M2E3M2ZlZjA0ZmMyYWYzZDI0NTAwMjY5NzNjZSk7CiAgICAgICAgICAgIAoKICAgICAgICAgICAgY2lyY2xlX21hcmtlcl85ZDU1OWYyODE0Yjg0NjA5OTczNTkyMTY0ZTJkYWJhOS5iaW5kUG9wdXAocG9wdXBfYTE0NjIzNzA4M2I4NGI0MGI2YjMyMTJmZWVhZTJjNjEpOwoKICAgICAgICAgICAgCiAgICAgICAgCiAgICAKICAgICAgICAgICAgdmFyIGNpcmNsZV9tYXJrZXJfYWFmM2E4MzUyMGEzNDJkOWI3NDhiYTc3YzNjMWVkYjIgPSBMLmNpcmNsZU1hcmtlcigKICAgICAgICAgICAgICAgIFs4LjA4MTczNCw3Ny41NDkwMTZdLAogICAgICAgICAgICAgICAgewogICJidWJibGluZ01vdXNlRXZlbnRzIjogdHJ1ZSwKICAiY29sb3IiOiAiYmx1ZSIsCiAgImRhc2hBcnJheSI6IG51bGwsCiAgImRhc2hPZmZzZXQiOiBudWxsLAogICJmaWxsIjogdHJ1ZSwKICAiZmlsbENvbG9yIjogImJsdWUiLAogICJmaWxsT3BhY2l0eSI6IDAuNiwKICAiZmlsbFJ1bGUiOiAiZXZlbm9kZCIsCiAgImxpbmVDYXAiOiAicm91bmQiLAogICJsaW5lSm9pbiI6ICJyb3VuZCIsCiAgIm9wYWNpdHkiOiAxLjAsCiAgInJhZGl1cyI6IDUsCiAgInN0cm9rZSI6IHRydWUsCiAgIndlaWdodCI6IDMKfQogICAgICAgICAgICAgICAgKS5hZGRUbyhtYXBfNzQ3NTgyOTMyZGM1NDlmYjlmNzQ2ODYwMDVkYTFkYzUpOwogICAgICAgICAgICAKICAgIAogICAgICAgICAgICB2YXIgcG9wdXBfNGNjYzcxMDU2NTA3NDc3MzhiMDIxNWIzZjdlMmQ4YzAgPSBMLnBvcHVwKHttYXhXaWR0aDogJzMwMCd9KTsKCiAgICAgICAgICAgIAogICAgICAgICAgICAgICAgdmFyIGh0bWxfZDgwYTQzNDI4YzRmNDVkZWI4ZmQzMDZhZDNmYTUxMzYgPSAkKCc8ZGl2IGlkPSJodG1sX2Q4MGE0MzQyOGM0ZjQ1ZGViOGZkMzA2YWQzZmE1MTM2IiBzdHlsZT0id2lkdGg6IDEwMC4wJTsgaGVpZ2h0OiAxMDAuMCU7Ij5OLiBLLiBSLiBSZXN0YXVyYW50PC9kaXY+JylbMF07CiAgICAgICAgICAgICAgICBwb3B1cF80Y2NjNzEwNTY1MDc0NzczOGIwMjE1YjNmN2UyZDhjMC5zZXRDb250ZW50KGh0bWxfZDgwYTQzNDI4YzRmNDVkZWI4ZmQzMDZhZDNmYTUxMzYpOwogICAgICAgICAgICAKCiAgICAgICAgICAgIGNpcmNsZV9tYXJrZXJfYWFmM2E4MzUyMGEzNDJkOWI3NDhiYTc3YzNjMWVkYjIuYmluZFBvcHVwKHBvcHVwXzRjY2M3MTA1NjUwNzQ3NzM4YjAyMTViM2Y3ZTJkOGMwKTsKCiAgICAgICAgICAgIAogICAgICAgIAogICAgCiAgICAgICAgICAgIHZhciBjaXJjbGVfbWFya2VyXzgxM2ZjZTE1YjFjODRmOTZhNzQwNmZiNjJlYzY4ZWM3ID0gTC5jaXJjbGVNYXJrZXIoCiAgICAgICAgICAgICAgICBbOC4wODIyMjU3OTk1NjA1NDcsNzcuNTUxMTI0NTcyNzUzOV0sCiAgICAgICAgICAgICAgICB7CiAgImJ1YmJsaW5nTW91c2VFdmVudHMiOiB0cnVlLAogICJjb2xvciI6ICJibHVlIiwKICAiZGFzaEFycmF5IjogbnVsbCwKICAiZGFzaE9mZnNldCI6IG51bGwsCiAgImZpbGwiOiB0cnVlLAogICJmaWxsQ29sb3IiOiAiYmx1ZSIsCiAgImZpbGxPcGFjaXR5IjogMC42LAogICJmaWxsUnVsZSI6ICJldmVub2RkIiwKICAibGluZUNhcCI6ICJyb3VuZCIsCiAgImxpbmVKb2luIjogInJvdW5kIiwKICAib3BhY2l0eSI6IDEuMCwKICAicmFkaXVzIjogNSwKICAic3Ryb2tlIjogdHJ1ZSwKICAid2VpZ2h0IjogMwp9CiAgICAgICAgICAgICAgICApLmFkZFRvKG1hcF83NDc1ODI5MzJkYzU0OWZiOWY3NDY4NjAwNWRhMWRjNSk7CiAgICAgICAgICAgIAogICAgCiAgICAgICAgICAgIHZhciBwb3B1cF8yYTZmNGI5YjU4ZTY0NGNlOGE3MmU2MmU4NDRjNWZlNSA9IEwucG9wdXAoe21heFdpZHRoOiAnMzAwJ30pOwoKICAgICAgICAgICAgCiAgICAgICAgICAgICAgICB2YXIgaHRtbF9iMzE1Yjc2ZWVhZGE0YjA4YjZmMmYyMzJlMmUzZGI4MyA9ICQoJzxkaXYgaWQ9Imh0bWxfYjMxNWI3NmVlYWRhNGIwOGI2ZjJmMjMyZTJlM2RiODMiIHN0eWxlPSJ3aWR0aDogMTAwLjAlOyBoZWlnaHQ6IDEwMC4wJTsiPlNlYmFhIE11bHRpY3VzaW5lIFJlc3RhdXJhbnQ8L2Rpdj4nKVswXTsKICAgICAgICAgICAgICAgIHBvcHVwXzJhNmY0YjliNThlNjQ0Y2U4YTcyZTYyZTg0NGM1ZmU1LnNldENvbnRlbnQoaHRtbF9iMzE1Yjc2ZWVhZGE0YjA4YjZmMmYyMzJlMmUzZGI4Myk7CiAgICAgICAgICAgIAoKICAgICAgICAgICAgY2lyY2xlX21hcmtlcl84MTNmY2UxNWIxYzg0Zjk2YTc0MDZmYjYyZWM2OGVjNy5iaW5kUG9wdXAocG9wdXBfMmE2ZjRiOWI1OGU2NDRjZThhNzJlNjJlODQ0YzVmZTUpOwoKICAgICAgICAgICAgCiAgICAgICAgCiAgICAKICAgICAgICAgICAgdmFyIGNpcmNsZV9tYXJrZXJfNGY3NTY5ZmViZGRjNGZmOWI3Yjc2OWQ5MGY0NDk2MDcgPSBMLmNpcmNsZU1hcmtlcigKICAgICAgICAgICAgICAgIFs4LjA4MjY4NDI1MzcxNDkyOSw3Ny41NTA5Nzc0Njg0OTA2XSwKICAgICAgICAgICAgICAgIHsKICAiYnViYmxpbmdNb3VzZUV2ZW50cyI6IHRydWUsCiAgImNvbG9yIjogImJsdWUiLAogICJkYXNoQXJyYXkiOiBudWxsLAogICJkYXNoT2Zmc2V0IjogbnVsbCwKICAiZmlsbCI6IHRydWUsCiAgImZpbGxDb2xvciI6ICJibHVlIiwKICAiZmlsbE9wYWNpdHkiOiAwLjYsCiAgImZpbGxSdWxlIjogImV2ZW5vZGQiLAogICJsaW5lQ2FwIjogInJvdW5kIiwKICAibGluZUpvaW4iOiAicm91bmQiLAogICJvcGFjaXR5IjogMS4wLAogICJyYWRpdXMiOiA1LAogICJzdHJva2UiOiB0cnVlLAogICJ3ZWlnaHQiOiAzCn0KICAgICAgICAgICAgICAgICkuYWRkVG8obWFwXzc0NzU4MjkzMmRjNTQ5ZmI5Zjc0Njg2MDA1ZGExZGM1KTsKICAgICAgICAgICAgCiAgICAKICAgICAgICAgICAgdmFyIHBvcHVwXzJhYTdmZWVmNzIzYzQwYzhhYjM2OWIxNTlkNWMyMjlmID0gTC5wb3B1cCh7bWF4V2lkdGg6ICczMDAnfSk7CgogICAgICAgICAgICAKICAgICAgICAgICAgICAgIHZhciBodG1sXzZhNWI3ZGVlOWQxMzRhMDQ5MjhlMDMxMzU5NTlmMDc0ID0gJCgnPGRpdiBpZD0iaHRtbF82YTViN2RlZTlkMTM0YTA0OTI4ZTAzMTM1OTU5ZjA3NCIgc3R5bGU9IndpZHRoOiAxMDAuMCU7IGhlaWdodDogMTAwLjAlOyI+VGhlIEN1cnJ5IFJlc3RhdXJhbnQ8L2Rpdj4nKVswXTsKICAgICAgICAgICAgICAgIHBvcHVwXzJhYTdmZWVmNzIzYzQwYzhhYjM2OWIxNTlkNWMyMjlmLnNldENvbnRlbnQoaHRtbF82YTViN2RlZTlkMTM0YTA0OTI4ZTAzMTM1OTU5ZjA3NCk7CiAgICAgICAgICAgIAoKICAgICAgICAgICAgY2lyY2xlX21hcmtlcl80Zjc1NjlmZWJkZGM0ZmY5YjdiNzY5ZDkwZjQ0OTYwNy5iaW5kUG9wdXAocG9wdXBfMmFhN2ZlZWY3MjNjNDBjOGFiMzY5YjE1OWQ1YzIyOWYpOwoKICAgICAgICAgICAgCiAgICAgICAgCiAgICAKICAgICAgICAgICAgdmFyIGNpcmNsZV9tYXJrZXJfNWE1MmMxNDQ5NmFiNDUzMDk4YjA2MjY4NGZiMmQ0NGQgPSBMLmNpcmNsZU1hcmtlcigKICAgICAgICAgICAgICAgIFs4LjA4NDI4MSw3Ny41NDk1MDldLAogICAgICAgICAgICAgICAgewogICJidWJibGluZ01vdXNlRXZlbnRzIjogdHJ1ZSwKICAiY29sb3IiOiAiYmx1ZSIsCiAgImRhc2hBcnJheSI6IG51bGwsCiAgImRhc2hPZmZzZXQiOiBudWxsLAogICJmaWxsIjogdHJ1ZSwKICAiZmlsbENvbG9yIjogImJsdWUiLAogICJmaWxsT3BhY2l0eSI6IDAuNiwKICAiZmlsbFJ1bGUiOiAiZXZlbm9kZCIsCiAgImxpbmVDYXAiOiAicm91bmQiLAogICJsaW5lSm9pbiI6ICJyb3VuZCIsCiAgIm9wYWNpdHkiOiAxLjAsCiAgInJhZGl1cyI6IDUsCiAgInN0cm9rZSI6IHRydWUsCiAgIndlaWdodCI6IDMKfQogICAgICAgICAgICAgICAgKS5hZGRUbyhtYXBfNzQ3NTgyOTMyZGM1NDlmYjlmNzQ2ODYwMDVkYTFkYzUpOwogICAgICAgICAgICAKICAgIAogICAgICAgICAgICB2YXIgcG9wdXBfMzBkNjlkZmJhMjFmNDdkNThmOTk3NzcwMzlkMGFkOTAgPSBMLnBvcHVwKHttYXhXaWR0aDogJzMwMCd9KTsKCiAgICAgICAgICAgIAogICAgICAgICAgICAgICAgdmFyIGh0bWxfMjBhOTY2M2VmYTczNDUyMGFmMmEyY2QzMzJkY2JhZGUgPSAkKCc8ZGl2IGlkPSJodG1sXzIwYTk2NjNlZmE3MzQ1MjBhZjJhMmNkMzMyZGNiYWRlIiBzdHlsZT0id2lkdGg6IDEwMC4wJTsgaGVpZ2h0OiAxMDAuMCU7Ij5MZSBBcmFiaWEgUmVzdGF1cmFudDwvZGl2PicpWzBdOwogICAgICAgICAgICAgICAgcG9wdXBfMzBkNjlkZmJhMjFmNDdkNThmOTk3NzcwMzlkMGFkOTAuc2V0Q29udGVudChodG1sXzIwYTk2NjNlZmE3MzQ1MjBhZjJhMmNkMzMyZGNiYWRlKTsKICAgICAgICAgICAgCgogICAgICAgICAgICBjaXJjbGVfbWFya2VyXzVhNTJjMTQ0OTZhYjQ1MzA5OGIwNjI2ODRmYjJkNDRkLmJpbmRQb3B1cChwb3B1cF8zMGQ2OWRmYmEyMWY0N2Q1OGY5OTc3NzAzOWQwYWQ5MCk7CgogICAgICAgICAgICAKICAgICAgICAKICAgIAogICAgICAgICAgICB2YXIgY2lyY2xlX21hcmtlcl83YTRjOTFiM2RmZTc0M2M5YTgzMjE3OWVmOWU2NjI2YyA9IEwuY2lyY2xlTWFya2VyKAogICAgICAgICAgICAgICAgWzguMDgxODA4ODU0NDk2Mzg1LDc3LjU0MTI5OTYzNDQ1NzkzXSwKICAgICAgICAgICAgICAgIHsKICAiYnViYmxpbmdNb3VzZUV2ZW50cyI6IHRydWUsCiAgImNvbG9yIjogImJsdWUiLAogICJkYXNoQXJyYXkiOiBudWxsLAogICJkYXNoT2Zmc2V0IjogbnVsbCwKICAiZmlsbCI6IHRydWUsCiAgImZpbGxDb2xvciI6ICJibHVlIiwKICAiZmlsbE9wYWNpdHkiOiAwLjYsCiAgImZpbGxSdWxlIjogImV2ZW5vZGQiLAogICJsaW5lQ2FwIjogInJvdW5kIiwKICAibGluZUpvaW4iOiAicm91bmQiLAogICJvcGFjaXR5IjogMS4wLAogICJyYWRpdXMiOiA1LAogICJzdHJva2UiOiB0cnVlLAogICJ3ZWlnaHQiOiAzCn0KICAgICAgICAgICAgICAgICkuYWRkVG8obWFwXzc0NzU4MjkzMmRjNTQ5ZmI5Zjc0Njg2MDA1ZGExZGM1KTsKICAgICAgICAgICAgCiAgICAKICAgICAgICAgICAgdmFyIHBvcHVwXzRlMTAwNDI4NmVhNjRmMTg4NDNlYWE2NGU5MDc0MWRlID0gTC5wb3B1cCh7bWF4V2lkdGg6ICczMDAnfSk7CgogICAgICAgICAgICAKICAgICAgICAgICAgICAgIHZhciBodG1sX2I0NTM5MTk3ODIyZDQxYTk5ZmUxNDQ5MGI0ZDdhNWM3ID0gJCgnPGRpdiBpZD0iaHRtbF9iNDUzOTE5NzgyMmQ0MWE5OWZlMTQ0OTBiNGQ3YTVjNyIgc3R5bGU9IndpZHRoOiAxMDAuMCU7IGhlaWdodDogMTAwLjAlOyI+Q2FzYW5vdmEgRmFtaWx5IFJlc3RhdXJhbnQ8L2Rpdj4nKVswXTsKICAgICAgICAgICAgICAgIHBvcHVwXzRlMTAwNDI4NmVhNjRmMTg4NDNlYWE2NGU5MDc0MWRlLnNldENvbnRlbnQoaHRtbF9iNDUzOTE5NzgyMmQ0MWE5OWZlMTQ0OTBiNGQ3YTVjNyk7CiAgICAgICAgICAgIAoKICAgICAgICAgICAgY2lyY2xlX21hcmtlcl83YTRjOTFiM2RmZTc0M2M5YTgzMjE3OWVmOWU2NjI2Yy5iaW5kUG9wdXAocG9wdXBfNGUxMDA0Mjg2ZWE2NGYxODg0M2VhYTY0ZTkwNzQxZGUpOwoKICAgICAgICAgICAgCiAgICAgICAgCiAgICAKICAgICAgICAgICAgdmFyIGNpcmNsZV9tYXJrZXJfNDA3N2Y4NmFlNjA2NGJlMTk2MzI5YWQ5ODZiNDVkMzMgPSBMLmNpcmNsZU1hcmtlcigKICAgICAgICAgICAgICAgIFs4LjA4MjMzMzI2MDY5MjgzOCw3Ny41NTEyMTY3OTQxNjgxXSwKICAgICAgICAgICAgICAgIHsKICAiYnViYmxpbmdNb3VzZUV2ZW50cyI6IHRydWUsCiAgImNvbG9yIjogImJsdWUiLAogICJkYXNoQXJyYXkiOiBudWxsLAogICJkYXNoT2Zmc2V0IjogbnVsbCwKICAiZmlsbCI6IHRydWUsCiAgImZpbGxDb2xvciI6ICJibHVlIiwKICAiZmlsbE9wYWNpdHkiOiAwLjYsCiAgImZpbGxSdWxlIjogImV2ZW5vZGQiLAogICJsaW5lQ2FwIjogInJvdW5kIiwKICAibGluZUpvaW4iOiAicm91bmQiLAogICJvcGFjaXR5IjogMS4wLAogICJyYWRpdXMiOiA1LAogICJzdHJva2UiOiB0cnVlLAogICJ3ZWlnaHQiOiAzCn0KICAgICAgICAgICAgICAgICkuYWRkVG8obWFwXzc0NzU4MjkzMmRjNTQ5ZmI5Zjc0Njg2MDA1ZGExZGM1KTsKICAgICAgICAgICAgCiAgICAKICAgICAgICAgICAgdmFyIHBvcHVwXzY1YmE4ZDk5NjBhODQwNjg5MmY4ODYxNDY1ZTY4NmIzID0gTC5wb3B1cCh7bWF4V2lkdGg6ICczMDAnfSk7CgogICAgICAgICAgICAKICAgICAgICAgICAgICAgIHZhciBodG1sXzk2YjkwOGI0NTg5MjRiZWJhNzMwYTBkMzM1NTE0MzM2ID0gJCgnPGRpdiBpZD0iaHRtbF85NmI5MDhiNDU4OTI0YmViYTczMGEwZDMzNTUxNDMzNiIgc3R5bGU9IndpZHRoOiAxMDAuMCU7IGhlaWdodDogMTAwLjAlOyI+SG90ZWwgU2VhVmlldzwvZGl2PicpWzBdOwogICAgICAgICAgICAgICAgcG9wdXBfNjViYThkOTk2MGE4NDA2ODkyZjg4NjE0NjVlNjg2YjMuc2V0Q29udGVudChodG1sXzk2YjkwOGI0NTg5MjRiZWJhNzMwYTBkMzM1NTE0MzM2KTsKICAgICAgICAgICAgCgogICAgICAgICAgICBjaXJjbGVfbWFya2VyXzQwNzdmODZhZTYwNjRiZTE5NjMyOWFkOTg2YjQ1ZDMzLmJpbmRQb3B1cChwb3B1cF82NWJhOGQ5OTYwYTg0MDY4OTJmODg2MTQ2NWU2ODZiMyk7CgogICAgICAgICAgICAKICAgICAgICAKICAgIAogICAgICAgICAgICB2YXIgY2lyY2xlX21hcmtlcl83YzcyZDkxZWY2MWE0ZjBjYmJhYjU4NjM1MjgzYzdlOCA9IEwuY2lyY2xlTWFya2VyKAogICAgICAgICAgICAgICAgWzguMDc5Mzk4NDQyNjU4Njg2LDc3LjU1MTE1ODAxNTk2NTg3XSwKICAgICAgICAgICAgICAgIHsKICAiYnViYmxpbmdNb3VzZUV2ZW50cyI6IHRydWUsCiAgImNvbG9yIjogImJsYWNrIiwKICAiZGFzaEFycmF5IjogbnVsbCwKICAiZGFzaE9mZnNldCI6IG51bGwsCiAgImZpbGwiOiB0cnVlLAogICJmaWxsQ29sb3IiOiAiYmxhY2siLAogICJmaWxsT3BhY2l0eSI6IDAuNywKICAiZmlsbFJ1bGUiOiAiZXZlbm9kZCIsCiAgImxpbmVDYXAiOiAicm91bmQiLAogICJsaW5lSm9pbiI6ICJyb3VuZCIsCiAgIm9wYWNpdHkiOiAxLjAsCiAgInJhZGl1cyI6IDYsCiAgInN0cm9rZSI6IHRydWUsCiAgIndlaWdodCI6IDMKfQogICAgICAgICAgICAgICAgKS5hZGRUbyhtYXBfNzQ3NTgyOTMyZGM1NDlmYjlmNzQ2ODYwMDVkYTFkYzUpOwogICAgICAgICAgICAKICAgIAogICAgICAgICAgICB2YXIgcG9wdXBfODBiOTI5OGFkYWI1NDIwYWJhN2I0MmZjMTllN2YyZjAgPSBMLnBvcHVwKHttYXhXaWR0aDogJzMwMCd9KTsKCiAgICAgICAgICAgIAogICAgICAgICAgICAgICAgdmFyIGh0bWxfYWI1OTRlZjcwNjFkNDBkOTg5NDI1ZjQ4MDBiNGEyYWYgPSAkKCc8ZGl2IGlkPSJodG1sX2FiNTk0ZWY3MDYxZDQwZDk4OTQyNWY0ODAwYjRhMmFmIiBzdHlsZT0id2lkdGg6IDEwMC4wJTsgaGVpZ2h0OiAxMDAuMCU7Ij5TdW5yaXNlIFBvaW50IENsdXN0ZXIgMjwvZGl2PicpWzBdOwogICAgICAgICAgICAgICAgcG9wdXBfODBiOTI5OGFkYWI1NDIwYWJhN2I0MmZjMTllN2YyZjAuc2V0Q29udGVudChodG1sX2FiNTk0ZWY3MDYxZDQwZDk4OTQyNWY0ODAwYjRhMmFmKTsKICAgICAgICAgICAgCgogICAgICAgICAgICBjaXJjbGVfbWFya2VyXzdjNzJkOTFlZjYxYTRmMGNiYmFiNTg2MzUyODNjN2U4LmJpbmRQb3B1cChwb3B1cF84MGI5Mjk4YWRhYjU0MjBhYmE3YjQyZmMxOWU3ZjJmMCk7CgogICAgICAgICAgICAKICAgICAgICAKICAgIAogICAgICAgICAgICB2YXIgY2lyY2xlX21hcmtlcl8wM2I1Y2NmYTFiYjQ0ZjgwYjZmMjgyZGE4OWZlNjQ0NiA9IEwuY2lyY2xlTWFya2VyKAogICAgICAgICAgICAgICAgWzguMDgwNzA3MjA2NjM5ODEzLDc3LjU1MjM2MTU2NDM4Njc2XSwKICAgICAgICAgICAgICAgIHsKICAiYnViYmxpbmdNb3VzZUV2ZW50cyI6IHRydWUsCiAgImNvbG9yIjogImJsYWNrIiwKICAiZGFzaEFycmF5IjogbnVsbCwKICAiZGFzaE9mZnNldCI6IG51bGwsCiAgImZpbGwiOiB0cnVlLAogICJmaWxsQ29sb3IiOiAiYmxhY2siLAogICJmaWxsT3BhY2l0eSI6IDAuNywKICAiZmlsbFJ1bGUiOiAiZXZlbm9kZCIsCiAgImxpbmVDYXAiOiAicm91bmQiLAogICJsaW5lSm9pbiI6ICJyb3VuZCIsCiAgIm9wYWNpdHkiOiAxLjAsCiAgInJhZGl1cyI6IDYsCiAgInN0cm9rZSI6IHRydWUsCiAgIndlaWdodCI6IDMKfQogICAgICAgICAgICAgICAgKS5hZGRUbyhtYXBfNzQ3NTgyOTMyZGM1NDlmYjlmNzQ2ODYwMDVkYTFkYzUpOwogICAgICAgICAgICAKICAgIAogICAgICAgICAgICB2YXIgcG9wdXBfZWFiOGUzMjljYmFhNDJiMGI4YWIyNWI2MzU0NGIwOGMgPSBMLnBvcHVwKHttYXhXaWR0aDogJzMwMCd9KTsKCiAgICAgICAgICAgIAogICAgICAgICAgICAgICAgdmFyIGh0bWxfOWVmMmFiMTc0MTBhNDkyN2E0NGRhN2Y0Y2I4ODc2OTAgPSAkKCc8ZGl2IGlkPSJodG1sXzllZjJhYjE3NDEwYTQ5MjdhNDRkYTdmNGNiODg3NjkwIiBzdHlsZT0id2lkdGg6IDEwMC4wJTsgaGVpZ2h0OiAxMDAuMCU7Ij5WaXZla2FuYW5kYSBSb2NrIE1lbW9yaWFsIENsdXN0ZXIgMDwvZGl2PicpWzBdOwogICAgICAgICAgICAgICAgcG9wdXBfZWFiOGUzMjljYmFhNDJiMGI4YWIyNWI2MzU0NGIwOGMuc2V0Q29udGVudChodG1sXzllZjJhYjE3NDEwYTQ5MjdhNDRkYTdmNGNiODg3NjkwKTsKICAgICAgICAgICAgCgogICAgICAgICAgICBjaXJjbGVfbWFya2VyXzAzYjVjY2ZhMWJiNDRmODBiNmYyODJkYTg5ZmU2NDQ2LmJpbmRQb3B1cChwb3B1cF9lYWI4ZTMyOWNiYWE0MmIwYjhhYjI1YjYzNTQ0YjA4Yyk7CgogICAgICAgICAgICAKICAgICAgICAKICAgIAogICAgICAgICAgICB2YXIgY2lyY2xlX21hcmtlcl8xY2JlNjhlZGViZTE0NTdmOGEzMTFlMmQ0NjkzMWMyZCA9IEwuY2lyY2xlTWFya2VyKAogICAgICAgICAgICAgICAgWzguMDc4NDc4ODE1NjI1MDMsNzcuNTUxMDM0ODYxNDU0MTFdLAogICAgICAgICAgICAgICAgewogICJidWJibGluZ01vdXNlRXZlbnRzIjogdHJ1ZSwKICAiY29sb3IiOiAiYmxhY2siLAogICJkYXNoQXJyYXkiOiBudWxsLAogICJkYXNoT2Zmc2V0IjogbnVsbCwKICAiZmlsbCI6IHRydWUsCiAgImZpbGxDb2xvciI6ICJibGFjayIsCiAgImZpbGxPcGFjaXR5IjogMC43LAogICJmaWxsUnVsZSI6ICJldmVub2RkIiwKICAibGluZUNhcCI6ICJyb3VuZCIsCiAgImxpbmVKb2luIjogInJvdW5kIiwKICAib3BhY2l0eSI6IDEuMCwKICAicmFkaXVzIjogNiwKICAic3Ryb2tlIjogdHJ1ZSwKICAid2VpZ2h0IjogMwp9CiAgICAgICAgICAgICAgICApLmFkZFRvKG1hcF83NDc1ODI5MzJkYzU0OWZiOWY3NDY4NjAwNWRhMWRjNSk7CiAgICAgICAgICAgIAogICAgCiAgICAgICAgICAgIHZhciBwb3B1cF8wYmFjZDFlNDVkZjM0OWEyYjliYTczMDJhYTM4ZmY4OSA9IEwucG9wdXAoe21heFdpZHRoOiAnMzAwJ30pOwoKICAgICAgICAgICAgCiAgICAgICAgICAgICAgICB2YXIgaHRtbF80NjZkNDdiMWRhNGQ0NWIwYTk4NzU5MjE4NWM0YWUyNiA9ICQoJzxkaXYgaWQ9Imh0bWxfNDY2ZDQ3YjFkYTRkNDViMGE5ODc1OTIxODVjNGFlMjYiIHN0eWxlPSJ3aWR0aDogMTAwLjAlOyBoZWlnaHQ6IDEwMC4wJTsiPkVuZCBvZiB0aGUgTGFuZCBDbHVzdGVyIDA8L2Rpdj4nKVswXTsKICAgICAgICAgICAgICAgIHBvcHVwXzBiYWNkMWU0NWRmMzQ5YTJiOWJhNzMwMmFhMzhmZjg5LnNldENvbnRlbnQoaHRtbF80NjZkNDdiMWRhNGQ0NWIwYTk4NzU5MjE4NWM0YWUyNik7CiAgICAgICAgICAgIAoKICAgICAgICAgICAgY2lyY2xlX21hcmtlcl8xY2JlNjhlZGViZTE0NTdmOGEzMTFlMmQ0NjkzMWMyZC5iaW5kUG9wdXAocG9wdXBfMGJhY2QxZTQ1ZGYzNDlhMmI5YmE3MzAyYWEzOGZmODkpOwoKICAgICAgICAgICAgCiAgICAgICAgCiAgICAKICAgICAgICAgICAgdmFyIGNpcmNsZV9tYXJrZXJfNTQyZmRiYzUzMjZiNGNiMmEzN2VjZmNiMWZkMWE0YTQgPSBMLmNpcmNsZU1hcmtlcigKICAgICAgICAgICAgICAgIFs4LjA3OTMxMDY1MzMyNTc2Niw3Ny41NTAwMDQ4MzY2Njg2Ml0sCiAgICAgICAgICAgICAgICB7CiAgImJ1YmJsaW5nTW91c2VFdmVudHMiOiB0cnVlLAogICJjb2xvciI6ICJibGFjayIsCiAgImRhc2hBcnJheSI6IG51bGwsCiAgImRhc2hPZmZzZXQiOiBudWxsLAogICJmaWxsIjogdHJ1ZSwKICAiZmlsbENvbG9yIjogImJsYWNrIiwKICAiZmlsbE9wYWNpdHkiOiAwLjcsCiAgImZpbGxSdWxlIjogImV2ZW5vZGQiLAogICJsaW5lQ2FwIjogInJvdW5kIiwKICAibGluZUpvaW4iOiAicm91bmQiLAogICJvcGFjaXR5IjogMS4wLAogICJyYWRpdXMiOiA2LAogICJzdHJva2UiOiB0cnVlLAogICJ3ZWlnaHQiOiAzCn0KICAgICAgICAgICAgICAgICkuYWRkVG8obWFwXzc0NzU4MjkzMmRjNTQ5ZmI5Zjc0Njg2MDA1ZGExZGM1KTsKICAgICAgICAgICAgCiAgICAKICAgICAgICAgICAgdmFyIHBvcHVwX2UyY2U2NTYxMTE3NzQ1NmU4ZDk3NDQ3Yzg4NDZmNTc4ID0gTC5wb3B1cCh7bWF4V2lkdGg6ICczMDAnfSk7CgogICAgICAgICAgICAKICAgICAgICAgICAgICAgIHZhciBodG1sXzExMWUwNTBjMmI0NDRlMjFhZGExZWIyMTdlZDJiY2EwID0gJCgnPGRpdiBpZD0iaHRtbF8xMTFlMDUwYzJiNDQ0ZTIxYWRhMWViMjE3ZWQyYmNhMCIgc3R5bGU9IndpZHRoOiAxMDAuMCU7IGhlaWdodDogMTAwLjAlOyI+S2FueWFrdW1hcmkgQmVhY2ggQ2x1c3RlciAyPC9kaXY+JylbMF07CiAgICAgICAgICAgICAgICBwb3B1cF9lMmNlNjU2MTExNzc0NTZlOGQ5NzQ0N2M4ODQ2ZjU3OC5zZXRDb250ZW50KGh0bWxfMTExZTA1MGMyYjQ0NGUyMWFkYTFlYjIxN2VkMmJjYTApOwogICAgICAgICAgICAKCiAgICAgICAgICAgIGNpcmNsZV9tYXJrZXJfNTQyZmRiYzUzMjZiNGNiMmEzN2VjZmNiMWZkMWE0YTQuYmluZFBvcHVwKHBvcHVwX2UyY2U2NTYxMTE3NzQ1NmU4ZDk3NDQ3Yzg4NDZmNTc4KTsKCiAgICAgICAgICAgIAogICAgICAgIAogICAgCiAgICAgICAgICAgIHZhciBjaXJjbGVfbWFya2VyXzVlMDZmZjAyZDkzYTQwNTY4MTgxMDA2NzgwNDgyZTYxID0gTC5jaXJjbGVNYXJrZXIoCiAgICAgICAgICAgICAgICBbOC4wNzg4NjAyMjI3NTI2MDUsNzcuNTQ3NDQ3NjgxNDI3XSwKICAgICAgICAgICAgICAgIHsKICAiYnViYmxpbmdNb3VzZUV2ZW50cyI6IHRydWUsCiAgImNvbG9yIjogImJsYWNrIiwKICAiZGFzaEFycmF5IjogbnVsbCwKICAiZGFzaE9mZnNldCI6IG51bGwsCiAgImZpbGwiOiB0cnVlLAogICJmaWxsQ29sb3IiOiAiYmxhY2siLAogICJmaWxsT3BhY2l0eSI6IDAuNywKICAiZmlsbFJ1bGUiOiAiZXZlbm9kZCIsCiAgImxpbmVDYXAiOiAicm91bmQiLAogICJsaW5lSm9pbiI6ICJyb3VuZCIsCiAgIm9wYWNpdHkiOiAxLjAsCiAgInJhZGl1cyI6IDYsCiAgInN0cm9rZSI6IHRydWUsCiAgIndlaWdodCI6IDMKfQogICAgICAgICAgICAgICAgKS5hZGRUbyhtYXBfNzQ3NTgyOTMyZGM1NDlmYjlmNzQ2ODYwMDVkYTFkYzUpOwogICAgICAgICAgICAKICAgIAogICAgICAgICAgICB2YXIgcG9wdXBfMjJiMTIyZmUyOTAyNDRiZDk5MWRkZDQyZGUwOTkzNWYgPSBMLnBvcHVwKHttYXhXaWR0aDogJzMwMCd9KTsKCiAgICAgICAgICAgIAogICAgICAgICAgICAgICAgdmFyIGh0bWxfMzllZDA1MDY4YTI3NGRkMTg3MGY4N2M3NzRiM2IxNDQgPSAkKCc8ZGl2IGlkPSJodG1sXzM5ZWQwNTA2OGEyNzRkZDE4NzBmODdjNzc0YjNiMTQ0IiBzdHlsZT0id2lkdGg6IDEwMC4wJTsgaGVpZ2h0OiAxMDAuMCU7Ij5Ucml2ZW5pIFNhbmdhbSBDbHVzdGVyIDE8L2Rpdj4nKVswXTsKICAgICAgICAgICAgICAgIHBvcHVwXzIyYjEyMmZlMjkwMjQ0YmQ5OTFkZGQ0MmRlMDk5MzVmLnNldENvbnRlbnQoaHRtbF8zOWVkMDUwNjhhMjc0ZGQxODcwZjg3Yzc3NGIzYjE0NCk7CiAgICAgICAgICAgIAoKICAgICAgICAgICAgY2lyY2xlX21hcmtlcl81ZTA2ZmYwMmQ5M2E0MDU2ODE4MTAwNjc4MDQ4MmU2MS5iaW5kUG9wdXAocG9wdXBfMjJiMTIyZmUyOTAyNDRiZDk5MWRkZDQyZGUwOTkzNWYpOwoKICAgICAgICAgICAgCiAgICAgICAgCiAgICAKICAgICAgICAgICAgdmFyIGNpcmNsZV9tYXJrZXJfNjBkZTRiYTg3NDI0NDdkY2I4ZDkxYzI0MjBjMDk4MzYgPSBMLmNpcmNsZU1hcmtlcigKICAgICAgICAgICAgICAgIFs4LjA4MDkzMDczMzY3MjQyMyw3Ny41NTE1NjEwNjYxNjA4OV0sCiAgICAgICAgICAgICAgICB7CiAgImJ1YmJsaW5nTW91c2VFdmVudHMiOiB0cnVlLAogICJjb2xvciI6ICJibGFjayIsCiAgImRhc2hBcnJheSI6IG51bGwsCiAgImRhc2hPZmZzZXQiOiBudWxsLAogICJmaWxsIjogdHJ1ZSwKICAiZmlsbENvbG9yIjogImJsYWNrIiwKICAiZmlsbE9wYWNpdHkiOiAwLjcsCiAgImZpbGxSdWxlIjogImV2ZW5vZGQiLAogICJsaW5lQ2FwIjogInJvdW5kIiwKICAibGluZUpvaW4iOiAicm91bmQiLAogICJvcGFjaXR5IjogMS4wLAogICJyYWRpdXMiOiA2LAogICJzdHJva2UiOiB0cnVlLAogICJ3ZWlnaHQiOiAzCn0KICAgICAgICAgICAgICAgICkuYWRkVG8obWFwXzc0NzU4MjkzMmRjNTQ5ZmI5Zjc0Njg2MDA1ZGExZGM1KTsKICAgICAgICAgICAgCiAgICAKICAgICAgICAgICAgdmFyIHBvcHVwXzNmZDdjOWM1MmJjZTQwODhhNGNkNzdkYjJlMjg2NzAzID0gTC5wb3B1cCh7bWF4V2lkdGg6ICczMDAnfSk7CgogICAgICAgICAgICAKICAgICAgICAgICAgICAgIHZhciBodG1sX2ZlMzZiNjY1ZGIwMDRhZmQ5MTJmMjg0YWNkOTVjNzZmID0gJCgnPGRpdiBpZD0iaHRtbF9mZTM2YjY2NWRiMDA0YWZkOTEyZjI4NGFjZDk1Yzc2ZiIgc3R5bGU9IndpZHRoOiAxMDAuMCU7IGhlaWdodDogMTAwLjAlOyI+RmVycnkgQm9hdCBDbHVzdGVyIDA8L2Rpdj4nKVswXTsKICAgICAgICAgICAgICAgIHBvcHVwXzNmZDdjOWM1MmJjZTQwODhhNGNkNzdkYjJlMjg2NzAzLnNldENvbnRlbnQoaHRtbF9mZTM2YjY2NWRiMDA0YWZkOTEyZjI4NGFjZDk1Yzc2Zik7CiAgICAgICAgICAgIAoKICAgICAgICAgICAgY2lyY2xlX21hcmtlcl82MGRlNGJhODc0MjQ0N2RjYjhkOTFjMjQyMGMwOTgzNi5iaW5kUG9wdXAocG9wdXBfM2ZkN2M5YzUyYmNlNDA4OGE0Y2Q3N2RiMmUyODY3MDMpOwoKICAgICAgICAgICAgCiAgICAgICAgCiAgICAKICAgICAgICAgICAgdmFyIGNpcmNsZV9tYXJrZXJfODExOTU1MmJkODljNDZlN2EwZTE3YmEzY2NmNWRhMTUgPSBMLmNpcmNsZU1hcmtlcigKICAgICAgICAgICAgICAgIFs4LjA3OTAyMTEyNDE1MjU1NCw3Ny41NDk5NzYyMjQ3MTAwMV0sCiAgICAgICAgICAgICAgICB7CiAgImJ1YmJsaW5nTW91c2VFdmVudHMiOiB0cnVlLAogICJjb2xvciI6ICJibGFjayIsCiAgImRhc2hBcnJheSI6IG51bGwsCiAgImRhc2hPZmZzZXQiOiBudWxsLAogICJmaWxsIjogdHJ1ZSwKICAiZmlsbENvbG9yIjogImJsYWNrIiwKICAiZmlsbE9wYWNpdHkiOiAwLjcsCiAgImZpbGxSdWxlIjogImV2ZW5vZGQiLAogICJsaW5lQ2FwIjogInJvdW5kIiwKICAibGluZUpvaW4iOiAicm91bmQiLAogICJvcGFjaXR5IjogMS4wLAogICJyYWRpdXMiOiA2LAogICJzdHJva2UiOiB0cnVlLAogICJ3ZWlnaHQiOiAzCn0KICAgICAgICAgICAgICAgICkuYWRkVG8obWFwXzc0NzU4MjkzMmRjNTQ5ZmI5Zjc0Njg2MDA1ZGExZGM1KTsKICAgICAgICAgICAgCiAgICAKICAgICAgICAgICAgdmFyIHBvcHVwX2ZhN2QxNmFiNDMyYjQwZGQ5ZDIzYTllOWI1NDhkN2Y5ID0gTC5wb3B1cCh7bWF4V2lkdGg6ICczMDAnfSk7CgogICAgICAgICAgICAKICAgICAgICAgICAgICAgIHZhciBodG1sXzJjZGUxNDRlYzM4MjQ2ODk5ZGZkMjVkM2Q2NGYyOGUyID0gJCgnPGRpdiBpZD0iaHRtbF8yY2RlMTQ0ZWMzODI0Njg5OWRmZDI1ZDNkNjRmMjhlMiIgc3R5bGU9IndpZHRoOiAxMDAuMCU7IGhlaWdodDogMTAwLjAlOyI+R2FuZGhpIE1lbW9yaWFsIENsdXN0ZXIgMTwvZGl2PicpWzBdOwogICAgICAgICAgICAgICAgcG9wdXBfZmE3ZDE2YWI0MzJiNDBkZDlkMjNhOWU5YjU0OGQ3Zjkuc2V0Q29udGVudChodG1sXzJjZGUxNDRlYzM4MjQ2ODk5ZGZkMjVkM2Q2NGYyOGUyKTsKICAgICAgICAgICAgCgogICAgICAgICAgICBjaXJjbGVfbWFya2VyXzgxMTk1NTJiZDg5YzQ2ZTdhMGUxN2JhM2NjZjVkYTE1LmJpbmRQb3B1cChwb3B1cF9mYTdkMTZhYjQzMmI0MGRkOWQyM2E5ZTliNTQ4ZDdmOSk7CgogICAgICAgICAgICAKICAgICAgICAKICAgIAogICAgICAgICAgICB2YXIgY2lyY2xlX21hcmtlcl82ZDFlZTk5MzUwNjM0YThlYjc3NWI0YzU1NTY5ZDgxYyA9IEwuY2lyY2xlTWFya2VyKAogICAgICAgICAgICAgICAgWzguMDgxMzg4Nzg4MDQwNjg0LDc3LjU0NjgxOTUzNzgzOTA2XSwKICAgICAgICAgICAgICAgIHsKICAiYnViYmxpbmdNb3VzZUV2ZW50cyI6IHRydWUsCiAgImNvbG9yIjogImJsYWNrIiwKICAiZGFzaEFycmF5IjogbnVsbCwKICAiZGFzaE9mZnNldCI6IG51bGwsCiAgImZpbGwiOiB0cnVlLAogICJmaWxsQ29sb3IiOiAiYmxhY2siLAogICJmaWxsT3BhY2l0eSI6IDAuNywKICAiZmlsbFJ1bGUiOiAiZXZlbm9kZCIsCiAgImxpbmVDYXAiOiAicm91bmQiLAogICJsaW5lSm9pbiI6ICJyb3VuZCIsCiAgIm9wYWNpdHkiOiAxLjAsCiAgInJhZGl1cyI6IDYsCiAgInN0cm9rZSI6IHRydWUsCiAgIndlaWdodCI6IDMKfQogICAgICAgICAgICAgICAgKS5hZGRUbyhtYXBfNzQ3NTgyOTMyZGM1NDlmYjlmNzQ2ODYwMDVkYTFkYzUpOwogICAgICAgICAgICAKICAgIAogICAgICAgICAgICB2YXIgcG9wdXBfYmU3ZmQwZWEwYWI1NGYzMGJmMzQ3YzNhYjM1Y2RiYWIgPSBMLnBvcHVwKHttYXhXaWR0aDogJzMwMCd9KTsKCiAgICAgICAgICAgIAogICAgICAgICAgICAgICAgdmFyIGh0bWxfYmY3NzA0Nzk2ZjAzNGFmOTg0YTVkZmQwNGU1N2NlZWQgPSAkKCc8ZGl2IGlkPSJodG1sX2JmNzcwNDc5NmYwMzRhZjk4NGE1ZGZkMDRlNTdjZWVkIiBzdHlsZT0id2lkdGg6IDEwMC4wJTsgaGVpZ2h0OiAxMDAuMCU7Ij5LYW55YWt1bWFyaSBMaWdodGhvdXNlIENsdXN0ZXIgMDwvZGl2PicpWzBdOwogICAgICAgICAgICAgICAgcG9wdXBfYmU3ZmQwZWEwYWI1NGYzMGJmMzQ3YzNhYjM1Y2RiYWIuc2V0Q29udGVudChodG1sX2JmNzcwNDc5NmYwMzRhZjk4NGE1ZGZkMDRlNTdjZWVkKTsKICAgICAgICAgICAgCgogICAgICAgICAgICBjaXJjbGVfbWFya2VyXzZkMWVlOTkzNTA2MzRhOGViNzc1YjRjNTU1NjlkODFjLmJpbmRQb3B1cChwb3B1cF9iZTdmZDBlYTBhYjU0ZjMwYmYzNDdjM2FiMzVjZGJhYik7CgogICAgICAgICAgICAKICAgICAgICAKICAgIAogICAgICAgICAgICB2YXIgY2lyY2xlX21hcmtlcl9lNjlkYWVkOWRkOTU0N2E3ODFkZDAzNzI1YjhjOTVkYiA9IEwuY2lyY2xlTWFya2VyKAogICAgICAgICAgICAgICAgWzguMDgyNjUyMzc2MTU1NzA5LDc3LjU0NzQ2ODkyMDU5OTY2XSwKICAgICAgICAgICAgICAgIHsKICAiYnViYmxpbmdNb3VzZUV2ZW50cyI6IHRydWUsCiAgImNvbG9yIjogImJsYWNrIiwKICAiZGFzaEFycmF5IjogbnVsbCwKICAiZGFzaE9mZnNldCI6IG51bGwsCiAgImZpbGwiOiB0cnVlLAogICJmaWxsQ29sb3IiOiAiYmxhY2siLAogICJmaWxsT3BhY2l0eSI6IDAuNywKICAiZmlsbFJ1bGUiOiAiZXZlbm9kZCIsCiAgImxpbmVDYXAiOiAicm91bmQiLAogICJsaW5lSm9pbiI6ICJyb3VuZCIsCiAgIm9wYWNpdHkiOiAxLjAsCiAgInJhZGl1cyI6IDYsCiAgInN0cm9rZSI6IHRydWUsCiAgIndlaWdodCI6IDMKfQogICAgICAgICAgICAgICAgKS5hZGRUbyhtYXBfNzQ3NTgyOTMyZGM1NDlmYjlmNzQ2ODYwMDVkYTFkYzUpOwogICAgICAgICAgICAKICAgIAogICAgICAgICAgICB2YXIgcG9wdXBfZTA2ZTEwNmZhYTYxNGRhMzg3NzFlZDU0MGIxOTFmNjkgPSBMLnBvcHVwKHttYXhXaWR0aDogJzMwMCd9KTsKCiAgICAgICAgICAgIAogICAgICAgICAgICAgICAgdmFyIGh0bWxfYzYyYzBmZmYxYzU2NDM5ZTg3MjQ1ZDAxMzMxYTI2Y2MgPSAkKCc8ZGl2IGlkPSJodG1sX2M2MmMwZmZmMWM1NjQzOWU4NzI0NWQwMTMzMWEyNmNjIiBzdHlsZT0id2lkdGg6IDEwMC4wJTsgaGVpZ2h0OiAxMDAuMCU7Ij5LYW55YWt1bWFyaSBCdXMgU3RhbnRpb24gQ2x1c3RlciAwPC9kaXY+JylbMF07CiAgICAgICAgICAgICAgICBwb3B1cF9lMDZlMTA2ZmFhNjE0ZGEzODc3MWVkNTQwYjE5MWY2OS5zZXRDb250ZW50KGh0bWxfYzYyYzBmZmYxYzU2NDM5ZTg3MjQ1ZDAxMzMxYTI2Y2MpOwogICAgICAgICAgICAKCiAgICAgICAgICAgIGNpcmNsZV9tYXJrZXJfZTY5ZGFlZDlkZDk1NDdhNzgxZGQwMzcyNWI4Yzk1ZGIuYmluZFBvcHVwKHBvcHVwX2UwNmUxMDZmYWE2MTRkYTM4NzcxZWQ1NDBiMTkxZjY5KTsKCiAgICAgICAgICAgIAogICAgICAgIAo8L3NjcmlwdD4=\" style=\"position:absolute;width:100%;height:100%;left:0;top:0;border:none !important;\" allowfullscreen webkitallowfullscreen mozallowfullscreen></iframe></div></div>"
      ],
      "text/plain": [
       "<folium.folium.Map at 0x7f4b5dc660f0>"
      ]
     },
     "execution_count": 37,
     "metadata": {},
     "output_type": "execute_result"
    }
   ],
   "source": [
    "my_hotel_vs_all = folium.Map(location=[latitude, longitude], zoom_start=16) # generate map centred around the Kanyakumari\n",
    "\n",
    "\n",
    "# add a red circle marker to represent the my hotel location\n",
    "folium.features.CircleMarker(\n",
    "    [final_latitude, final_longitude],\n",
    "    radius=10,\n",
    "    color='green',\n",
    "    popup='My Hotel',\n",
    "    fill = True,\n",
    "    fill_color = 'green',\n",
    "    fill_opacity = 0.6\n",
    ").add_to(my_hotel_vs_all)\n",
    "\n",
    "\n",
    "# add a red circle marker to represent the core location of kanyakumari\n",
    "folium.features.CircleMarker(\n",
    "    [latitude, longitude],\n",
    "    radius=10,\n",
    "    color='red',\n",
    "    popup='Kanyakumari',\n",
    "    fill = True,\n",
    "    fill_color = 'red',\n",
    "    fill_opacity = 0.6\n",
    ").add_to(my_hotel_vs_all)\n",
    "\n",
    "# add the Italian restaurants as blue circle markers\n",
    "for lat, lng, label in zip(hotels_df.lat, hotels_df.lng, hotels_df.name):\n",
    "    folium.features.CircleMarker(\n",
    "        [lat, lng],\n",
    "        radius=5,\n",
    "        color='blue',\n",
    "        popup=label,\n",
    "        fill = True,\n",
    "        fill_color='blue',\n",
    "        fill_opacity=0.6\n",
    "    ).add_to(my_hotel_vs_all)\n",
    "    \n",
    "    \n",
    "markers_colors = []\n",
    "for lat, lon, poi, cluster in zip(neighbor_merged['lat'], neighbor_merged['lng'], neighbor_merged['name'], neighbor_merged['Clwwe']):\n",
    "    label = folium.Popup(str(poi) + ' Cluster ' + str(cluster), parse_html=True)\n",
    "    folium.CircleMarker(\n",
    "        [lat, lon],\n",
    "        radius=6,\n",
    "        popup=label,\n",
    "        color='black',\n",
    "        fill=True,\n",
    "        fill_color='black',\n",
    "        fill_opacity=0.7).add_to(my_hotel_vs_all)\n",
    "\n",
    "\n",
    "# display map\n",
    "my_hotel_vs_all\n",
    "\n"
   ]
  },
  {
   "cell_type": "markdown",
   "metadata": {},
   "source": [
    "### 4.d Few more Stats\n",
    "\n",
    "* Most common categories of venues are **Temples,Church,Beach** in Kanyakumari\n",
    "* Average distance between all hotels is **454 metres**.\n",
    "* **Tri Star hotel,Hotel Saravana,Hotel Samudra** will be our competitors as they stay close to our predicted location."
   ]
  },
  {
   "cell_type": "markdown",
   "metadata": {},
   "source": [
    "## 5. Discussion section"
   ]
  },
  {
   "cell_type": "markdown",
   "metadata": {},
   "source": [
    "From above reports,we could get an idea why the predicted one is pointed/clustered on the given spot.First most thing could be the center of attraction for the place.\n",
    "\n",
    "KMeans have figured out the most common place for all the venues.This output was very adjacent to the core location.This proves the accurate spotting of our predicted algorithm.\n",
    "\n",
    "Despite of the findings,there were some lack in data.Tips and ratings were missing for most of the venues.Also when I compared foursquare data with google map ,i could  see there were many hotels and venues found missing in foursquare."
   ]
  },
  {
   "cell_type": "markdown",
   "metadata": {},
   "source": [
    "## 6. Conclusion section"
   ]
  },
  {
   "cell_type": "markdown",
   "metadata": {},
   "source": [
    "As a business person,one would be able to set up a hotel/restaurant on given spot.This will bring revenue automatically as we have located in very near to core one.We proved this with Kmeans.\n",
    "\n",
    "**Future Expectation:**\n",
    "\n",
    "As mentioned earlier,most of data needs to be extracted from googlemaps.Even though we got somewhat accurate prediction.To be very confident on concluding our output,we may need more data to analyse.\n",
    "\n",
    "Research based on hotel reviews and restaurant menus could be used for future purpose.\n",
    "\n",
    "**My Experience:**\n",
    "\n",
    "*It was wonderful journey for me in IBM capstone and other courses.It can aid to layman people as well who dont know a pinch of Data science.Thanks to Coursera for keeping Skilful instructors with their awesome materials*"
   ]
  },
  {
   "cell_type": "markdown",
   "metadata": {},
   "source": [
    "## THANK YOU!!  HAPPY LEARNING !!!"
   ]
  },
  {
   "cell_type": "code",
   "execution_count": null,
   "metadata": {},
   "outputs": [],
   "source": []
  }
 ],
 "metadata": {
  "kernelspec": {
   "display_name": "Python 3.6",
   "language": "python",
   "name": "python3"
  },
  "language_info": {
   "codemirror_mode": {
    "name": "ipython",
    "version": 3
   },
   "file_extension": ".py",
   "mimetype": "text/x-python",
   "name": "python",
   "nbconvert_exporter": "python",
   "pygments_lexer": "ipython3",
   "version": "3.6.8"
  }
 },
 "nbformat": 4,
 "nbformat_minor": 1
}
