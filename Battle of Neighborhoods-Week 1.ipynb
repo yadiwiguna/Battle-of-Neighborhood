{
 "cells": [
  {
   "cell_type": "markdown",
   "metadata": {
    "collapsed": true
   },
   "source": [
    "# Battle of Neighbourhoods - Week 1"
   ]
  },
  {
   "cell_type": "markdown",
   "metadata": {},
   "source": [
    "This notebook consist of two parts.\n",
    "    \n",
    "   **1 Introduction/Business Problem**\n",
    "   \n",
    "       1.a Discussion of the business problem and the audience who would be interested in this project.\n",
    "   \n",
    "   **2 Data Section**\n",
    "       \n",
    "       2.a What data is used?\n",
    "       2.b Importing Libraries\n",
    "       2.c Credentials and Core location\n",
    "       2.d Search for hotel & restaurant within 1 KM\n",
    "       2.e Location of Hotels\n",
    "   "
   ]
  },
  {
   "cell_type": "markdown",
   "metadata": {},
   "source": [
    "## 1. Introduction/Business Problem"
   ]
  },
  {
   "cell_type": "markdown",
   "metadata": {},
   "source": [
    "### Discussion of the business problem and the audience who would be interested in this project."
   ]
  },
  {
   "cell_type": "markdown",
   "metadata": {},
   "source": [
    "#### Something about the tourist place - KANYAKUMARI,INDIA "
   ]
  },
  {
   "cell_type": "markdown",
   "metadata": {},
   "source": [
    "I am from kanyakumari,a beautiful tourist spot in southern India.Kanyakumari is a coastal town in the state of Tamil Nadu on India's southern tip. Jutting into the Laccadive Sea, the town was known as Cape Comorin during British rule and is popular for watching sunrise and sunset over the ocean.Kanyakumari is also home to the Statue of the Saint Poet Thiruvalluvar, one of the greatest Tamil poets in India. Standing at a massive height of 133 feet, the statue is one of the biggest in the entire Asian subcontinent and is the result of the hard work of over 500 sculptors. Other historic sights that you can visit in Kanyakumari include the Padmanabhapuram Palace, the Vattakottai Fort, and the Gandhi Memorial."
   ]
  },
  {
   "cell_type": "markdown",
   "metadata": {},
   "source": [
    "#### Opening of Hotel/Restaurant Shop"
   ]
  },
  {
   "cell_type": "markdown",
   "metadata": {},
   "source": [
    "Coming down to business problem,I would like to open a **hotel/restaurant** near beach side.As it is a famous tourist spot,there is already lots of attention towards it.I know there will be many competitors in terms of hotel and restauramt.But keeping them in mind,i need to locate my hotel in place where more people are attracted and comfortable for a stay and a good meal.I want to bring foreign and local peoples attention towards my new hotel.I would like to flavour my retaurant recipe with Italian,American,typical south & north indian foods to grab their taste."
   ]
  },
  {
   "cell_type": "markdown",
   "metadata": {},
   "source": [
    "*The challenge is to find a **suitable location** for opening a new hotel / restaurant attracted to all local and foreign people in the centre of all famous venues.*"
   ]
  },
  {
   "cell_type": "markdown",
   "metadata": {},
   "source": [
    "#### Expected / Interested Audience"
   ]
  },
  {
   "cell_type": "markdown",
   "metadata": {},
   "source": [
    "85% local and 15% foreign peoples visit kanyakumari once in a year.Some people stay for couple of days or more.Also they find some place for hangout or a good meal.Their main focus might be belonging to stay somewhere near to reach venues.Apart from these set of people,students and working professionals are common audience here.So we may need to fascinate them all."
   ]
  },
  {
   "cell_type": "markdown",
   "metadata": {},
   "source": [
    "##  2.Data section"
   ]
  },
  {
   "cell_type": "markdown",
   "metadata": {},
   "source": [
    "### 2.a What data is used?"
   ]
  },
  {
   "cell_type": "markdown",
   "metadata": {},
   "source": [
    "We will be completely working on **Foursquare data** to explore and try to locate our new hotel where more venues like church, temples,  beach, museums, memorials that are present nearby.\n",
    "\n",
    "**How will we be solving using this data?**\n",
    "\n",
    "We will looking for midpoint area of venues to locate our new hotel.Before that our major focus will be on all venues present in and around the core place of kanyakumari."
   ]
  },
  {
   "cell_type": "markdown",
   "metadata": {},
   "source": [
    "Just a heads up on how many hotels are distributed now around kanyakumari.We will perform some EDA on hotels & restaurants present in the tourist spot.On furthur notebook we will use Foursquare data to determine other venues as well."
   ]
  },
  {
   "cell_type": "markdown",
   "metadata": {},
   "source": [
    "### 2.b Importing Libraries"
   ]
  },
  {
   "cell_type": "code",
   "execution_count": 1,
   "metadata": {},
   "outputs": [
    {
     "name": "stdout",
     "output_type": "stream",
     "text": [
      "*********   Loaded library     ***********\n"
     ]
    }
   ],
   "source": [
    "# Import libraries\n",
    "import numpy as np # data in a vectorized manner manipulation\n",
    "import pandas as pd # data analsysis\n",
    "import requests # HTTP library\n",
    "from bs4 import BeautifulSoup # scraping library\n",
    "\n",
    "from pandas.io.json import json_normalize # tranform JSON file into a pandas dataframe\n",
    "import json # JSON files manipulation\n",
    "\n",
    "from sklearn.cluster import KMeans # clustering algorithm\n",
    "\n",
    "pd.set_option('display.max_columns', None)\n",
    "pd.set_option('display.max_rows', None)\n",
    "\n",
    "# Matplotlib and associated plotting modules\n",
    "import matplotlib.cm as cm\n",
    "import matplotlib.colors as colors\n",
    "import matplotlib.pyplot as plt\n",
    "\n",
    "#!conda install -c conda-forge geopy --yes \n",
    "from geopy.geocoders import Nominatim\n",
    "\n",
    "#!conda install -c conda-forge folium=0.5.0 --yes\n",
    "import folium # map rendering library\n",
    "\n",
    "print(\"*********   Loaded library     ***********\")"
   ]
  },
  {
   "cell_type": "markdown",
   "metadata": {},
   "source": [
    "### 2.c Credentials and Core location"
   ]
  },
  {
   "cell_type": "code",
   "execution_count": 2,
   "metadata": {},
   "outputs": [
    {
     "name": "stdout",
     "output_type": "stream",
     "text": [
      "Kanyakumari location : 8.079252,77.5499338\n"
     ]
    }
   ],
   "source": [
    "CLIENT_ID = 'XXXX' # your Foursquare ID\n",
    "CLIENT_SECRET = 'XXXX ' # your Foursquare Secret\n",
    "VERSION = '20191028'\n",
    "LIMIT = 150\n",
    "\n",
    "address = \"Kanyakumari, Tamil Nadu\"\n",
    "\n",
    "geolocator = Nominatim(user_agent=\"foursquare_agent\")\n",
    "location = geolocator.geocode(address)\n",
    "latitude =location.latitude   #8.079252 # location.latitude \n",
    "longitude =location.longitude #77.5499338 # location.longitude # \n",
    "\n",
    "kan='Kanyakumari location : {},{}'.format(latitude,longitude)\n",
    "print(kan)"
   ]
  },
  {
   "cell_type": "markdown",
   "metadata": {},
   "source": [
    "### 2.d Search for hotel & restaurant within 1 KM"
   ]
  },
  {
   "cell_type": "code",
   "execution_count": 3,
   "metadata": {},
   "outputs": [],
   "source": [
    "#Quering for hotel & restaurant\n",
    "\n",
    "search_query = 'hotel'\n",
    "search_query_res = 'restaurant'\n",
    "\n",
    "radius = 1000\n",
    "url_hotel = 'https://api.foursquare.com/v2/venues/search?client_id={}&client_secret={}&ll={},{}&v={}&query={}&radius={}&limit={}'.format(CLIENT_ID, CLIENT_SECRET, latitude, longitude, VERSION, search_query, radius, LIMIT)\n",
    "url_restaurant = 'https://api.foursquare.com/v2/venues/search?client_id={}&client_secret={}&ll={},{}&v={}&query={}&radius={}&limit={}'.format(CLIENT_ID, CLIENT_SECRET, latitude, longitude, VERSION, search_query_res, radius, LIMIT)\n",
    "#url"
   ]
  },
  {
   "cell_type": "markdown",
   "metadata": {},
   "source": [
    "#### Send the GET Request of hotel & restaurants and examine the results"
   ]
  },
  {
   "cell_type": "code",
   "execution_count": 4,
   "metadata": {},
   "outputs": [],
   "source": [
    "results_hotel = requests.get(url_hotel).json()\n",
    "results_restaurant = requests.get(url_restaurant).json()\n",
    "#results_hotel"
   ]
  },
  {
   "cell_type": "markdown",
   "metadata": {},
   "source": [
    "#### Get relevant part of JSON and transform it into a *pandas* dataframe"
   ]
  },
  {
   "cell_type": "code",
   "execution_count": 5,
   "metadata": {},
   "outputs": [
    {
     "name": "stdout",
     "output_type": "stream",
     "text": [
      "There are 37 restaurants and hotels at Kanyakumari\n"
     ]
    }
   ],
   "source": [
    "# assign relevant part of JSON to venues\n",
    "venues_hotel = results_hotel['response']['venues']\n",
    "venues_restaurant = results_restaurant['response']['venues']\n",
    "\n",
    "# tranform venues into a dataframe and merging both data\n",
    "dataframe_hotel = json_normalize(venues_hotel)\n",
    "dataframe_restaurant = json_normalize(venues_restaurant)\n",
    "\n",
    "dataframe = pd.concat([dataframe_hotel,dataframe_restaurant])\n",
    "\n",
    "print(\"There are {} restaurants and hotels at Kanyakumari\".format(dataframe.shape[0]))"
   ]
  },
  {
   "cell_type": "markdown",
   "metadata": {},
   "source": [
    "#### Define information of interest and filter dataframe"
   ]
  },
  {
   "cell_type": "code",
   "execution_count": 6,
   "metadata": {},
   "outputs": [
    {
     "data": {
      "text/html": [
       "<div>\n",
       "<style scoped>\n",
       "    .dataframe tbody tr th:only-of-type {\n",
       "        vertical-align: middle;\n",
       "    }\n",
       "\n",
       "    .dataframe tbody tr th {\n",
       "        vertical-align: top;\n",
       "    }\n",
       "\n",
       "    .dataframe thead th {\n",
       "        text-align: right;\n",
       "    }\n",
       "</style>\n",
       "<table border=\"1\" class=\"dataframe\">\n",
       "  <thead>\n",
       "    <tr style=\"text-align: right;\">\n",
       "      <th></th>\n",
       "      <th>name</th>\n",
       "      <th>categories</th>\n",
       "      <th>distance</th>\n",
       "      <th>lat</th>\n",
       "      <th>lng</th>\n",
       "      <th>id</th>\n",
       "    </tr>\n",
       "  </thead>\n",
       "  <tbody>\n",
       "    <tr>\n",
       "      <th>0</th>\n",
       "      <td>Hotel SeaView</td>\n",
       "      <td>Hotel</td>\n",
       "      <td>371</td>\n",
       "      <td>8.082333</td>\n",
       "      <td>77.551217</td>\n",
       "      <td>4cd42e2c558a370412d0c5a6</td>\n",
       "    </tr>\n",
       "    <tr>\n",
       "      <th>1</th>\n",
       "      <td>Hotel Sarvana</td>\n",
       "      <td>Hotel</td>\n",
       "      <td>179</td>\n",
       "      <td>8.080581</td>\n",
       "      <td>77.550861</td>\n",
       "      <td>4db052544df03036e8b9d615</td>\n",
       "    </tr>\n",
       "    <tr>\n",
       "      <th>2</th>\n",
       "      <td>Hotel Annapoorna</td>\n",
       "      <td>Indian Restaurant</td>\n",
       "      <td>206</td>\n",
       "      <td>8.080879</td>\n",
       "      <td>77.550835</td>\n",
       "      <td>50ed3a39e4b0ac50005eb3f1</td>\n",
       "    </tr>\n",
       "    <tr>\n",
       "      <th>3</th>\n",
       "      <td>Hotel Samudra</td>\n",
       "      <td>Motel</td>\n",
       "      <td>201</td>\n",
       "      <td>8.080642</td>\n",
       "      <td>77.551102</td>\n",
       "      <td>4d3c66e414aa8cfa4641a95e</td>\n",
       "    </tr>\n",
       "    <tr>\n",
       "      <th>4</th>\n",
       "      <td>Hotel Trisea</td>\n",
       "      <td>South Indian Restaurant</td>\n",
       "      <td>269</td>\n",
       "      <td>8.081475</td>\n",
       "      <td>77.548969</td>\n",
       "      <td>5030a43ee4b021f7a59c7456</td>\n",
       "    </tr>\n",
       "  </tbody>\n",
       "</table>\n",
       "</div>"
      ],
      "text/plain": [
       "               name               categories  distance       lat        lng  \\\n",
       "0     Hotel SeaView                    Hotel       371  8.082333  77.551217   \n",
       "1     Hotel Sarvana                    Hotel       179  8.080581  77.550861   \n",
       "2  Hotel Annapoorna        Indian Restaurant       206  8.080879  77.550835   \n",
       "3     Hotel Samudra                    Motel       201  8.080642  77.551102   \n",
       "4      Hotel Trisea  South Indian Restaurant       269  8.081475  77.548969   \n",
       "\n",
       "                         id  \n",
       "0  4cd42e2c558a370412d0c5a6  \n",
       "1  4db052544df03036e8b9d615  \n",
       "2  50ed3a39e4b0ac50005eb3f1  \n",
       "3  4d3c66e414aa8cfa4641a95e  \n",
       "4  5030a43ee4b021f7a59c7456  "
      ]
     },
     "execution_count": 6,
     "metadata": {},
     "output_type": "execute_result"
    }
   ],
   "source": [
    "# keep only columns that include venue name, and anything that is associated with location\n",
    "filtered_columns = ['name', 'categories'] + [col for col in dataframe.columns if col.startswith('location.')] + ['id']\n",
    "dataframe_filtered = dataframe.loc[:, filtered_columns]\n",
    "\n",
    "# function that extracts the category of the venue\n",
    "\n",
    "def get_category_type(row):\n",
    "    try:\n",
    "        categories_list = row['categories']\n",
    "    except:\n",
    "        categories_list = row['venue.categories']\n",
    "        \n",
    "    if len(categories_list) == 0:\n",
    "        return None\n",
    "    else:\n",
    "        return categories_list[0]['name']\n",
    "\n",
    "    \n",
    "# filter the category for each row\n",
    "dataframe_filtered['categories'] = dataframe_filtered.apply(get_category_type, axis=1)\n",
    "\n",
    "  \n",
    "# clean column names by keeping only last term\n",
    "dataframe_filtered.columns = [column.split('.')[-1] for column in dataframe_filtered.columns]\n",
    "\n",
    "#dataframe_filtered\n",
    "hotels_df=dataframe_filtered[['name','categories','distance','lat','lng','id']]\n",
    "hotels_df.head()"
   ]
  },
  {
   "cell_type": "markdown",
   "metadata": {},
   "source": [
    "### 2.e Location of Hotels"
   ]
  },
  {
   "cell_type": "code",
   "execution_count": 7,
   "metadata": {},
   "outputs": [
    {
     "data": {
      "text/html": [
       "<div style=\"width:100%;\"><div style=\"position:relative;width:100%;height:0;padding-bottom:60%;\"><iframe src=\"data:text/html;charset=utf-8;base64,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\" style=\"position:absolute;width:100%;height:100%;left:0;top:0;border:none !important;\" allowfullscreen webkitallowfullscreen mozallowfullscreen></iframe></div></div>"
      ],
      "text/plain": [
       "<folium.folium.Map at 0x7efd82a17ba8>"
      ]
     },
     "execution_count": 7,
     "metadata": {},
     "output_type": "execute_result"
    }
   ],
   "source": [
    "hotels_map = folium.Map(location=[latitude, longitude], zoom_start=16) # generate map centred around the Kanyakumari\n",
    "\n",
    "# add a red circle marker to represent the core location of kanyakumari\n",
    "folium.features.CircleMarker(\n",
    "    [latitude, longitude],\n",
    "    radius=10,\n",
    "    color='red',\n",
    "    popup='Kanyakumari',\n",
    "    fill = True,\n",
    "    fill_color = 'red',\n",
    "    fill_opacity = 0.6\n",
    ").add_to(hotels_map)\n",
    "\n",
    "# add the Italian restaurants as blue circle markers\n",
    "for lat, lng, label in zip(hotels_df.lat, hotels_df.lng, hotels_df.name):\n",
    "    folium.features.CircleMarker(\n",
    "        [lat, lng],\n",
    "        radius=5,\n",
    "        color='blue',\n",
    "        popup=label,\n",
    "        fill = True,\n",
    "        fill_color='blue',\n",
    "        fill_opacity=0.6\n",
    "    ).add_to(hotels_map)\n",
    "\n",
    "# display map\n",
    "hotels_map"
   ]
  },
  {
   "cell_type": "markdown",
   "metadata": {},
   "source": [
    "Hotel Bharani (8.076268,77.548670) seems to be outlier.So this will be removed in next section."
   ]
  },
  {
   "cell_type": "markdown",
   "metadata": {},
   "source": [
    "## More to come in next notebook- \"Battle of Neighbourhoods - Final\""
   ]
  },
  {
   "cell_type": "code",
   "execution_count": null,
   "metadata": {},
   "outputs": [],
   "source": []
  }
 ],
 "metadata": {
  "kernelspec": {
   "display_name": "Python 3.6",
   "language": "python",
   "name": "python3"
  },
  "language_info": {
   "codemirror_mode": {
    "name": "ipython",
    "version": 3
   },
   "file_extension": ".py",
   "mimetype": "text/x-python",
   "name": "python",
   "nbconvert_exporter": "python",
   "pygments_lexer": "ipython3",
   "version": "3.6.8"
  }
 },
 "nbformat": 4,
 "nbformat_minor": 1
}
